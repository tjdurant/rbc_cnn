{
 "cells": [
  {
   "cell_type": "code",
   "execution_count": 1,
   "metadata": {
    "collapsed": false
   },
   "outputs": [
    {
     "name": "stderr",
     "output_type": "stream",
     "text": [
      "Vendor:  Continuum Analytics, Inc.\n",
      "Package: mkl\n",
      "Message: trial mode EXPIRED 52 days ago\n",
      "\n",
      "    Your usage of mkl is now out of compliance with the license agreement.\n",
      "    A license for mkl can be purchased at: http://continuum.io\n",
      "    \n"
     ]
    }
   ],
   "source": [
    "import os\n",
    "import numpy as np\n",
    "import pandas as pd\n",
    "\n",
    "from PIL import Image\n",
    "\n",
    "import matplotlib.pyplot as plt\n",
    "%matplotlib inline\n",
    "\n",
    "\n",
    "# Set working directory\n",
    "DATA_DIR = 'C:/Users/thoma/Documents/00GitHub/rbc_cnn/'\n",
    "# Set image directory which is off of GitHub\n",
    "IMG_DIR = 'C:/Users/thoma/Documents/00GitHub/00_LOCAL_ONLY/Cellavision_Trial_images/Test3Dataset/'\n",
    "\n",
    "\n",
    "# Not sure what this pickle is\n",
    "df = pd.read_pickle(DATA_DIR + 'notebooks/classifications.df.pkl')\n",
    "\n",
    "\n",
    "# {1L: 'Normal', 2L: 'Abnormal'}\n",
    "label_index = pd.read_csv(DATA_DIR + 'notebooks/label_index.csv')\n",
    "label_index.reset_index()\n",
    "classdict = {k:v for __, (k,v) in label_index.iterrows()}\n",
    "\n",
    "data = df.reset_index()\n",
    "data = data.rename(columns={'index': 'event'})\n",
    "\n",
    "\n",
    "def get_image(n):\n",
    "    return Image.open(IMG_DIR + 'rbcs/{}'.format(n))\n",
    "\n",
    "def thumb(n):\n",
    "\ttry:\n",
    "\t\treturn Image.open(IMG_DIR + 'rbcs/{}'.format(n))\n",
    "\texcept:\n",
    "\t\treturn Image.open(IMG_DIR + 'mosaic/images/Normal/{}.png'.format(n))"
   ]
  },
  {
   "cell_type": "code",
   "execution_count": 2,
   "metadata": {
    "collapsed": false
   },
   "outputs": [],
   "source": [
    "# http://stackoverflow.com/questions/15514593/importerror-no-module-named-when-trying-to-run-python-script\n",
    "\n",
    "import sys\n",
    "sys.path.append('C:/Anaconda/Lib/site-packages')\n",
    "\n",
    "import cv2\n",
    "import PIL\n"
   ]
  },
  {
   "cell_type": "code",
   "execution_count": 49,
   "metadata": {
    "collapsed": false
   },
   "outputs": [
    {
     "data": {
      "text/html": [
       "<div>\n",
       "<table border=\"1\" class=\"dataframe\">\n",
       "  <thead>\n",
       "    <tr style=\"text-align: right;\">\n",
       "      <th></th>\n",
       "      <th>annotator</th>\n",
       "      <th>cell</th>\n",
       "      <th>h</th>\n",
       "      <th>image</th>\n",
       "      <th>label</th>\n",
       "      <th>pk</th>\n",
       "      <th>w</th>\n",
       "      <th>x</th>\n",
       "      <th>y</th>\n",
       "    </tr>\n",
       "  </thead>\n",
       "  <tbody>\n",
       "    <tr>\n",
       "      <th>0</th>\n",
       "      <td>tommy</td>\n",
       "      <td>75959</td>\n",
       "      <td>40</td>\n",
       "      <td>alt_59351.jpg</td>\n",
       "      <td>Schistocyte</td>\n",
       "      <td>3007</td>\n",
       "      <td>45</td>\n",
       "      <td>2183</td>\n",
       "      <td>1326</td>\n",
       "    </tr>\n",
       "    <tr>\n",
       "      <th>1</th>\n",
       "      <td>tommy</td>\n",
       "      <td>70553</td>\n",
       "      <td>40</td>\n",
       "      <td>alt_59591.jpg</td>\n",
       "      <td>Normal</td>\n",
       "      <td>3008</td>\n",
       "      <td>48</td>\n",
       "      <td>1615</td>\n",
       "      <td>968</td>\n",
       "    </tr>\n",
       "    <tr>\n",
       "      <th>2</th>\n",
       "      <td>tommy</td>\n",
       "      <td>40572</td>\n",
       "      <td>36</td>\n",
       "      <td>alt_62184.jpg</td>\n",
       "      <td>Normal</td>\n",
       "      <td>3009</td>\n",
       "      <td>37</td>\n",
       "      <td>1312</td>\n",
       "      <td>530</td>\n",
       "    </tr>\n",
       "    <tr>\n",
       "      <th>3</th>\n",
       "      <td>tommy</td>\n",
       "      <td>57384</td>\n",
       "      <td>55</td>\n",
       "      <td>alt_60381.jpg</td>\n",
       "      <td>Reject</td>\n",
       "      <td>3010</td>\n",
       "      <td>43</td>\n",
       "      <td>2592</td>\n",
       "      <td>1156</td>\n",
       "    </tr>\n",
       "    <tr>\n",
       "      <th>4</th>\n",
       "      <td>tommy</td>\n",
       "      <td>95179</td>\n",
       "      <td>47</td>\n",
       "      <td>alt_39177.jpg</td>\n",
       "      <td>Normal</td>\n",
       "      <td>3011</td>\n",
       "      <td>34</td>\n",
       "      <td>679</td>\n",
       "      <td>2826</td>\n",
       "    </tr>\n",
       "  </tbody>\n",
       "</table>\n",
       "</div>"
      ],
      "text/plain": [
       "  annotator   cell   h          image        label    pk   w     x     y\n",
       "0     tommy  75959  40  alt_59351.jpg  Schistocyte  3007  45  2183  1326\n",
       "1     tommy  70553  40  alt_59591.jpg       Normal  3008  48  1615   968\n",
       "2     tommy  40572  36  alt_62184.jpg       Normal  3009  37  1312   530\n",
       "3     tommy  57384  55  alt_60381.jpg       Reject  3010  43  2592  1156\n",
       "4     tommy  95179  47  alt_39177.jpg       Normal  3011  34   679  2826"
      ]
     },
     "execution_count": 49,
     "metadata": {},
     "output_type": "execute_result"
    }
   ],
   "source": [
    "# Alter the original csv file so you can get the new XY\n",
    "# Start by loading in the new csv to dataframe\n",
    "\n",
    "# csvFile = DATA_DIR + 'dataset.csv'\n",
    "# classes = pd.read_csv(csvFile, index_col=0, parse_dates=True)\n",
    "# read in cell labels from Cell Label Tool \n",
    "classes = pd.read_csv(DATA_DIR + 'Test3Dataset.csv', index_col=0, parse_dates=True)\n",
    "\n",
    "alt_february_files = pd.read_csv(DATA_DIR + 'alt_february_files.csv', index_col=0, parse_dates=True)\n",
    "alt_february_files.head()"
   ]
  },
  {
   "cell_type": "code",
   "execution_count": 64,
   "metadata": {
    "collapsed": false
   },
   "outputs": [
    {
     "data": {
      "text/plain": [
       "585"
      ]
     },
     "execution_count": 64,
     "metadata": {},
     "output_type": "execute_result"
    }
   ],
   "source": [
    "# get rid of reject cells\n",
    "classes = classes[classes.label != 'Reject']\n",
    "classes = classes[classes.label != 'Abnormal']\n",
    "len(classes)"
   ]
  },
  {
   "cell_type": "code",
   "execution_count": 63,
   "metadata": {
    "collapsed": false
   },
   "outputs": [
    {
     "data": {
      "text/html": [
       "<div>\n",
       "<table border=\"1\" class=\"dataframe\">\n",
       "  <thead>\n",
       "    <tr style=\"text-align: right;\">\n",
       "      <th></th>\n",
       "      <th>annotator</th>\n",
       "      <th>cell</th>\n",
       "      <th>h</th>\n",
       "      <th>image</th>\n",
       "      <th>label</th>\n",
       "      <th>pk</th>\n",
       "      <th>w</th>\n",
       "      <th>x</th>\n",
       "      <th>y</th>\n",
       "    </tr>\n",
       "  </thead>\n",
       "  <tbody>\n",
       "    <tr>\n",
       "      <th>0</th>\n",
       "      <td>tommy</td>\n",
       "      <td>112599</td>\n",
       "      <td>30</td>\n",
       "      <td>149.png</td>\n",
       "      <td>Reject</td>\n",
       "      <td>3377</td>\n",
       "      <td>18</td>\n",
       "      <td>1282</td>\n",
       "      <td>2736</td>\n",
       "    </tr>\n",
       "    <tr>\n",
       "      <th>1</th>\n",
       "      <td>tommy</td>\n",
       "      <td>114904</td>\n",
       "      <td>45</td>\n",
       "      <td>2.png</td>\n",
       "      <td>Normal</td>\n",
       "      <td>3378</td>\n",
       "      <td>44</td>\n",
       "      <td>2562</td>\n",
       "      <td>2731</td>\n",
       "    </tr>\n",
       "    <tr>\n",
       "      <th>2</th>\n",
       "      <td>tommy</td>\n",
       "      <td>109835</td>\n",
       "      <td>39</td>\n",
       "      <td>548.png</td>\n",
       "      <td>Normal</td>\n",
       "      <td>3379</td>\n",
       "      <td>39</td>\n",
       "      <td>1886</td>\n",
       "      <td>833</td>\n",
       "    </tr>\n",
       "    <tr>\n",
       "      <th>3</th>\n",
       "      <td>tommy</td>\n",
       "      <td>112599</td>\n",
       "      <td>30</td>\n",
       "      <td>149.png</td>\n",
       "      <td>Reject</td>\n",
       "      <td>3380</td>\n",
       "      <td>18</td>\n",
       "      <td>1282</td>\n",
       "      <td>2736</td>\n",
       "    </tr>\n",
       "    <tr>\n",
       "      <th>4</th>\n",
       "      <td>tommy</td>\n",
       "      <td>115021</td>\n",
       "      <td>50</td>\n",
       "      <td>2.png</td>\n",
       "      <td>Normal</td>\n",
       "      <td>3381</td>\n",
       "      <td>44</td>\n",
       "      <td>2104</td>\n",
       "      <td>2351</td>\n",
       "    </tr>\n",
       "  </tbody>\n",
       "</table>\n",
       "</div>"
      ],
      "text/plain": [
       "  annotator    cell   h    image   label    pk   w     x     y\n",
       "0     tommy  112599  30  149.png  Reject  3377  18  1282  2736\n",
       "1     tommy  114904  45    2.png  Normal  3378  44  2562  2731\n",
       "2     tommy  109835  39  548.png  Normal  3379  39  1886   833\n",
       "3     tommy  112599  30  149.png  Reject  3380  18  1282  2736\n",
       "4     tommy  115021  50    2.png  Normal  3381  44  2104  2351"
      ]
     },
     "execution_count": 63,
     "metadata": {},
     "output_type": "execute_result"
    }
   ],
   "source": [
    "# resets the index on the dataframe after the 'rejects' are dropped\n",
    "classes = classes.reset_index(drop=True)\n",
    "classes.head()"
   ]
  },
  {
   "cell_type": "code",
   "execution_count": 65,
   "metadata": {
    "collapsed": false
   },
   "outputs": [
    {
     "data": {
      "text/plain": [
       "Normal         471\n",
       "Echinocyte      50\n",
       "Dacrocyte       25\n",
       "Schistocyte     22\n",
       "Elliptocyte      9\n",
       "Acanthocyte      4\n",
       "Target Cell      4\n",
       "Name: label, dtype: int64"
      ]
     },
     "execution_count": 65,
     "metadata": {},
     "output_type": "execute_result"
    }
   ],
   "source": [
    "# counts the number of cells in each calss\n",
    "classes['label'].value_counts()"
   ]
  },
  {
   "cell_type": "code",
   "execution_count": 66,
   "metadata": {
    "collapsed": false
   },
   "outputs": [
    {
     "data": {
      "text/plain": [
       "Normal         366\n",
       "Echinocyte      50\n",
       "Dacrocyte        6\n",
       "Schistocyte      5\n",
       "Acanthocyte      4\n",
       "Name: label, dtype: int64"
      ]
     },
     "execution_count": 66,
     "metadata": {},
     "output_type": "execute_result"
    }
   ],
   "source": [
    "# get rid of reject cells/reset index/show the rejects are gone\n",
    "alt_february_files = alt_february_files[alt_february_files.label != 'Reject']\n",
    "alt_february_files = alt_february_files[alt_february_files.label != 'Abnormal']\n",
    "alt_february_files = alt_february_files.reset_index(drop=True)\n",
    "alt_february_files['label'].value_counts()"
   ]
  },
  {
   "cell_type": "code",
   "execution_count": 8,
   "metadata": {
    "collapsed": false
   },
   "outputs": [],
   "source": [
    "# \n",
    "def get_data(n):\n",
    "    img_string = SMEAR_DIR + classes.ix[n].image\n",
    "    oldX = classes.ix[n].x\n",
    "    oldY = classes.ix[n].y\n",
    "    label = classes.ix[n].label\n",
    "    w = classes.ix[n].w\n",
    "    h = classes.ix[n].h\n",
    "    x = classes.ix[n].newX\n",
    "    y = classes.ix[n].newY\n",
    "    int(n)\n",
    "    int(n)\n",
    "\n",
    "    return oldX, oldY, w, h, x, y, img_string"
   ]
  },
  {
   "cell_type": "code",
   "execution_count": 9,
   "metadata": {
    "collapsed": false
   },
   "outputs": [
    {
     "data": {
      "text/plain": [
       "(2794,\n",
       " 2216,\n",
       " 42,\n",
       " 40,\n",
       " 2765.0,\n",
       " 2186.0,\n",
       " 'C:/Users/thoma/Documents/00GitHub/00_LOCAL_ONLY/Cellavision_Trial_images/rbcs/rbcs/681200836HV_002.jpg')"
      ]
     },
     "execution_count": 9,
     "metadata": {},
     "output_type": "execute_result"
    }
   ],
   "source": [
    "get_data(0)"
   ]
  },
  {
   "cell_type": "code",
   "execution_count": 10,
   "metadata": {
    "collapsed": false
   },
   "outputs": [
    {
     "data": {
      "text/plain": [
       "(2794,\n",
       " 2216,\n",
       " 42,\n",
       " 40,\n",
       " 2765.0,\n",
       " 2186.0,\n",
       " 'C:/Users/thoma/Documents/00GitHub/00_LOCAL_ONLY/Cellavision_Trial_images/rbcs/rbcs/681200836HV_002.jpg')"
      ]
     },
     "execution_count": 10,
     "metadata": {},
     "output_type": "execute_result"
    }
   ],
   "source": [
    "oldX, oldY, w, h, x, y, img_string = get_data(0)\n",
    "oldX, oldY, w, h, x, y, img_string"
   ]
  },
  {
   "cell_type": "code",
   "execution_count": null,
   "metadata": {
    "collapsed": true
   },
   "outputs": [],
   "source": []
  },
  {
   "cell_type": "code",
   "execution_count": null,
   "metadata": {
    "collapsed": true
   },
   "outputs": [],
   "source": []
  },
  {
   "cell_type": "code",
   "execution_count": null,
   "metadata": {
    "collapsed": true
   },
   "outputs": [],
   "source": []
  },
  {
   "cell_type": "code",
   "execution_count": 11,
   "metadata": {
    "collapsed": true
   },
   "outputs": [],
   "source": [
    "# Begin old script"
   ]
  },
  {
   "cell_type": "code",
   "execution_count": 12,
   "metadata": {
    "collapsed": false
   },
   "outputs": [],
   "source": [
    "# DON\"T RUN AGAIN - gets labeled images from smears\n",
    "\n",
    "# for cls in np.unique(df.label):\n",
    "    \n",
    "#     try:\n",
    "#         os.makedirs('C:/Users/thoma/Documents/00GitHub/rbc-cnn/mosaic/images/{}'.format(cls))\n",
    "#     except OSError:\n",
    "#         pass\n",
    "\n",
    "#     images = df[df.label == cls].reset_index()\n",
    "#     for n, im in images.iterrows():\n",
    "#         y = im.y\n",
    "#         x = im.x\n",
    "#         w = im.w\n",
    "#         h = im.h\n",
    "#         im = Image.fromarray(np.array(image(im.image))[y: y + h, x: x + w])\n",
    "#         im.save('C:/Users/thoma/Documents/00GitHub/Cellavision_Trial_images/mosaic/images/{}/{}.png'.format(cls, n))"
   ]
  },
  {
   "cell_type": "code",
   "execution_count": 13,
   "metadata": {
    "collapsed": false
   },
   "outputs": [],
   "source": [
    "\n",
    "def getdata(ind):\n",
    "    im = cv2.imread(IMG_DIR + classes.image[ind])\n",
    "    df = classes.ix[ind]\n",
    "    label = df.label\n",
    "    \n",
    "    x = df.x \n",
    "    y = df.y\n",
    "    w = df.w\n",
    "    h = df.h\n",
    "\n",
    "    cw = w/2\n",
    "    ch = h/2\n",
    "\n",
    "    cx = x+cw\n",
    "    cy = y+ch\n",
    "    \n",
    "    cropped = im[cy-25:cy+25, cx-25:cx+25]\n",
    "\n",
    "    if cropped.shape == (50, 50, 3):\n",
    "        return cropped, label\n",
    "\n",
    "    "
   ]
  },
  {
   "cell_type": "code",
   "execution_count": 3,
   "metadata": {
    "collapsed": false
   },
   "outputs": [
    {
     "ename": "NameError",
     "evalue": "name 'classes' is not defined",
     "output_type": "error",
     "traceback": [
      "\u001b[1;31m---------------------------------------------------------------------------\u001b[0m",
      "\u001b[1;31mNameError\u001b[0m                                 Traceback (most recent call last)",
      "\u001b[1;32m<ipython-input-3-2b7fca707452>\u001b[0m in \u001b[0;36m<module>\u001b[1;34m()\u001b[0m\n\u001b[0;32m      8\u001b[0m \u001b[0mIDs\u001b[0m \u001b[1;33m=\u001b[0m \u001b[1;33m[\u001b[0m\u001b[1;33m]\u001b[0m\u001b[1;33m\u001b[0m\u001b[0m\n\u001b[0;32m      9\u001b[0m \u001b[1;33m\u001b[0m\u001b[0m\n\u001b[1;32m---> 10\u001b[1;33m \u001b[1;32mfor\u001b[0m \u001b[0mn\u001b[0m \u001b[1;32min\u001b[0m \u001b[0mclasses\u001b[0m\u001b[1;33m.\u001b[0m\u001b[0mimage\u001b[0m\u001b[1;33m.\u001b[0m\u001b[0miteritems\u001b[0m\u001b[1;33m(\u001b[0m\u001b[1;33m)\u001b[0m\u001b[1;33m:\u001b[0m\u001b[1;33m\u001b[0m\u001b[0m\n\u001b[0m\u001b[0;32m     11\u001b[0m \u001b[1;33m\u001b[0m\u001b[0m\n\u001b[0;32m     12\u001b[0m     \u001b[0mindex_obj\u001b[0m \u001b[1;33m=\u001b[0m \u001b[0mclasses\u001b[0m\u001b[1;33m.\u001b[0m\u001b[0mix\u001b[0m\u001b[1;33m[\u001b[0m\u001b[0mn\u001b[0m\u001b[1;33m[\u001b[0m\u001b[1;36m0\u001b[0m\u001b[1;33m]\u001b[0m\u001b[1;33m]\u001b[0m\u001b[1;33m\u001b[0m\u001b[0m\n",
      "\u001b[1;31mNameError\u001b[0m: name 'classes' is not defined"
     ]
    }
   ],
   "source": [
    "# get array data from smear with label\n",
    "# n = total number of cells \n",
    "\n",
    "# cx and cy on cropped images 32x32 or 48x48 return im to X and label to Y \n",
    "\n",
    "X = []\n",
    "Y = []\n",
    "IDs = []\n",
    "\n",
    "for n in classes.image.iteritems():\n",
    "\n",
    "    index_obj = classes.ix[n[0]]\n",
    "    index = n[0]\n",
    "\n",
    "    try:\n",
    "        x, y = getdata(index)\n",
    "    except Exception, e:\n",
    "        #type, value, tb = sys.exc_info()\n",
    "        #traceback.print_exc()\n",
    "        print e\n",
    "        continue\n",
    "        \n",
    "    X.append(x)\n",
    "    Y.append(y)\n",
    "    IDs.append(n)\n",
    "\n",
    "X = np.array(X)\n",
    "Y = np.array(Y)\n",
    "IDs = np.array(IDs)\n"
   ]
  },
  {
   "cell_type": "code",
   "execution_count": null,
   "metadata": {
    "collapsed": false
   },
   "outputs": [],
   "source": [
    "np.unique(X.shape)"
   ]
  },
  {
   "cell_type": "code",
   "execution_count": null,
   "metadata": {
    "collapsed": false
   },
   "outputs": [],
   "source": [
    "X[0].shape"
   ]
  },
  {
   "cell_type": "code",
   "execution_count": null,
   "metadata": {
    "collapsed": false
   },
   "outputs": [],
   "source": [
    "cv2.imshow(\"cropped\", X[15])\n",
    "cv2.waitKey(0)"
   ]
  },
  {
   "cell_type": "code",
   "execution_count": 68,
   "metadata": {
    "collapsed": false
   },
   "outputs": [],
   "source": [
    "import hickle"
   ]
  },
  {
   "cell_type": "code",
   "execution_count": null,
   "metadata": {
    "collapsed": true
   },
   "outputs": [],
   "source": [
    "GROUPS = {'Normal': (1,),\n",
    "          'Abnormal': (2,),\n",
    "         }"
   ]
  },
  {
   "cell_type": "code",
   "execution_count": null,
   "metadata": {
    "collapsed": false
   },
   "outputs": [],
   "source": [
    "# just X and Y is OK \n",
    "\n",
    "d = {}\n",
    "d['X'] = X\n",
    "d['y'] = Y\n",
    "d['GROUPS'] = GROUPS"
   ]
  },
  {
   "cell_type": "code",
   "execution_count": 67,
   "metadata": {
    "collapsed": false
   },
   "outputs": [
    {
     "ename": "NameError",
     "evalue": "name 'hickle' is not defined",
     "output_type": "error",
     "traceback": [
      "\u001b[1;31m---------------------------------------------------------------------------\u001b[0m",
      "\u001b[1;31mNameError\u001b[0m                                 Traceback (most recent call last)",
      "\u001b[1;32m<ipython-input-67-676f2cdea96c>\u001b[0m in \u001b[0;36m<module>\u001b[1;34m()\u001b[0m\n\u001b[0;32m      1\u001b[0m \u001b[1;31m# (X, Y) -- ((N,3,w,h), label)\u001b[0m\u001b[1;33m\u001b[0m\u001b[1;33m\u001b[0m\u001b[0m\n\u001b[1;32m----> 2\u001b[1;33m \u001b[0mhickle\u001b[0m\u001b[1;33m.\u001b[0m\u001b[0mdump\u001b[0m\u001b[1;33m(\u001b[0m\u001b[0md\u001b[0m\u001b[1;33m,\u001b[0m \u001b[0mopen\u001b[0m\u001b[1;33m(\u001b[0m\u001b[1;34m'C:/Users/thoma/Documents/00GitHub/00_LOCAL_ONLY/Cellavision_Trial_images/Test3_AltFebruary/dataset.hkl'\u001b[0m\u001b[1;33m,\u001b[0m\u001b[1;34m'w'\u001b[0m\u001b[1;33m)\u001b[0m\u001b[1;33m)\u001b[0m\u001b[1;33m\u001b[0m\u001b[0m\n\u001b[0m",
      "\u001b[1;31mNameError\u001b[0m: name 'hickle' is not defined"
     ]
    }
   ],
   "source": [
    "# (X, Y) -- ((N,3,w,h), label)\n",
    "hickle.dump(d, open('C:/Users/thoma/Documents/00GitHub/00_LOCAL_ONLY/Cellavision_Trial_images/Test3_AltFebruary/dataset.hkl','w'))"
   ]
  },
  {
   "cell_type": "code",
   "execution_count": null,
   "metadata": {
    "collapsed": true
   },
   "outputs": [],
   "source": [
    "import hickle\n",
    "import sklearn.cross_validation\n",
    "import skimage.transform"
   ]
  },
  {
   "cell_type": "code",
   "execution_count": null,
   "metadata": {
    "collapsed": false
   },
   "outputs": [],
   "source": [
    "d = hickle.load('C:/Users/thoma/Documents/00GitHub/00_LOCAL_ONLY/rbc_cnn_sync/data/dataset.hkl')\n",
    "sss = sklearn.cross_validation.StratifiedShuffleSplit(\n",
    "    d['y'],\n",
    "    n_iter=1,\n",
    "    test_size=0.2,\n",
    "    random_state=42,\n",
    "    )\n",
    "\n"
   ]
  },
  {
   "cell_type": "code",
   "execution_count": null,
   "metadata": {
    "collapsed": false
   },
   "outputs": [],
   "source": [
    "if train:\n",
    "    ix, _ = tuple(sss)[0]\n",
    "else:\n",
    "    _, ix = tuple(sss)[0]\n",
    "\n",
    "labels = d['y'][ix]\n",
    "images = d['X'][ix]\n",
    "\n"
   ]
  },
  {
   "cell_type": "code",
   "execution_count": null,
   "metadata": {
    "collapsed": true
   },
   "outputs": [],
   "source": [
    "\n",
    "IMAGE_MEAN = images.mean(0).mean(0).mean(0)\n",
    "images = (images - IMAGE_MEAN)"
   ]
  },
  {
   "cell_type": "code",
   "execution_count": null,
   "metadata": {
    "collapsed": false
   },
   "outputs": [],
   "source": [
    "rng = np.random.RandomState(0)\n",
    "ang = rng.uniform(-20, 20)\n",
    "print ang"
   ]
  },
  {
   "cell_type": "code",
   "execution_count": null,
   "metadata": {
    "collapsed": false
   },
   "outputs": [],
   "source": []
  },
  {
   "cell_type": "code",
   "execution_count": null,
   "metadata": {
    "collapsed": false
   },
   "outputs": [],
   "source": [
    "img = X[0]\n",
    "x = skimage.transform.rotate(img, ang, order=0)\n",
    "cv2.imshow(\"cropped\", x)\n",
    "cv2.waitKey(0)"
   ]
  }
 ],
 "metadata": {
  "kernelspec": {
   "display_name": "Python 2",
   "language": "python",
   "name": "python2"
  },
  "language_info": {
   "codemirror_mode": {
    "name": "ipython",
    "version": 2
   },
   "file_extension": ".py",
   "mimetype": "text/x-python",
   "name": "python",
   "nbconvert_exporter": "python",
   "pygments_lexer": "ipython2",
   "version": "2.7.10"
  }
 },
 "nbformat": 4,
 "nbformat_minor": 0
}
