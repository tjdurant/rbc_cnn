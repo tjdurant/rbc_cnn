{
 "cells": [
  {
   "cell_type": "code",
   "execution_count": 1,
   "metadata": {
    "collapsed": false
   },
   "outputs": [
    {
     "name": "stderr",
     "output_type": "stream",
     "text": [
      "Vendor:  Continuum Analytics, Inc.\n",
      "Package: mkl\n",
      "Message: trial mode expires in 11 days\n"
     ]
    }
   ],
   "source": [
    "import os\n",
    "import numpy as np\n",
    "import pandas as pd\n",
    "\n",
    "from PIL import Image\n",
    "\n",
    "import matplotlib.pyplot as plt\n",
    "%matplotlib inline\n",
    "\n",
    "classes = pd.read_csv('C:/Users/thoma/Documents/00GitHub/rbc_cnn/dataset.csv')\n",
    "df = pd.read_pickle('classifications.df.pkl')\n",
    "\n",
    "DATA_DIR = 'C:/Users/thoma/Documents/00GitHub/rbc_cnn/'\n",
    "IMG_DIR = 'C:/Users/thoma/Documents/00GitHub/00_LOCAL_ONLY/Cellavision_Trial_images/rbcs/'\n",
    "\n",
    "classes = pd.read_csv(DATA_DIR + 'dataset.csv')\n",
    "df = pd.read_pickle(DATA_DIR + 'notebooks/classifications.df.pkl')\n",
    "\n",
    "\n",
    "# {1L: 'Normal', 2L: 'Abnormal'}\n",
    "label_index = pd.read_csv(DATA_DIR + 'notebooks/label_index.csv')\n",
    "label_index.reset_index()\n",
    "classdict = {k:v for __, (k,v) in label_index.iterrows()}\n",
    "\n",
    "\n",
    "data = df.reset_index()\n",
    "data = data.rename(columns={'index': 'event'})\n",
    "\n",
    "\n",
    "def get_image(n):\n",
    "    return Image.open(IMG_DIR + 'rbcs/{}'.format(n))\n",
    "\n",
    "def thumb(n):\n",
    "\ttry:\n",
    "\t\treturn Image.open(IMG_DIR + 'rbcs/{}'.format(n))\n",
    "\texcept:\n",
    "\t\treturn Image.open(IMG_DIR + 'mosaic/images/Normal/{}.png'.format(n))"
   ]
  },
  {
   "cell_type": "code",
   "execution_count": 2,
   "metadata": {
    "collapsed": false
   },
   "outputs": [],
   "source": [
    "# http://stackoverflow.com/questions/15514593/importerror-no-module-named-when-trying-to-run-python-script\n",
    "\n",
    "import sys\n",
    "sys.path.append('C:/Anaconda/Lib/site-packages')\n",
    "\n",
    "import cv2\n",
    "import PIL\n"
   ]
  },
  {
   "cell_type": "code",
   "execution_count": 3,
   "metadata": {
    "collapsed": false
   },
   "outputs": [
    {
     "data": {
      "text/html": [
       "<div>\n",
       "<table border=\"1\" class=\"dataframe\">\n",
       "  <thead>\n",
       "    <tr style=\"text-align: right;\">\n",
       "      <th></th>\n",
       "      <th>annotator</th>\n",
       "      <th>cell</th>\n",
       "      <th>h</th>\n",
       "      <th>image</th>\n",
       "      <th>label</th>\n",
       "      <th>pk</th>\n",
       "      <th>w</th>\n",
       "      <th>x</th>\n",
       "      <th>y</th>\n",
       "      <th>newX</th>\n",
       "      <th>newY</th>\n",
       "      <th>newW</th>\n",
       "      <th>newH</th>\n",
       "    </tr>\n",
       "  </thead>\n",
       "  <tbody>\n",
       "    <tr>\n",
       "      <th>0</th>\n",
       "      <td>tommy</td>\n",
       "      <td>588</td>\n",
       "      <td>40</td>\n",
       "      <td>681200836HV_002.jpg</td>\n",
       "      <td>Normal</td>\n",
       "      <td>127</td>\n",
       "      <td>42</td>\n",
       "      <td>2794</td>\n",
       "      <td>2216</td>\n",
       "      <td>2765.0</td>\n",
       "      <td>2186.0</td>\n",
       "      <td>100</td>\n",
       "      <td>100</td>\n",
       "    </tr>\n",
       "    <tr>\n",
       "      <th>1</th>\n",
       "      <td>tommy</td>\n",
       "      <td>588</td>\n",
       "      <td>40</td>\n",
       "      <td>681200836HV_002.jpg</td>\n",
       "      <td>Normal</td>\n",
       "      <td>128</td>\n",
       "      <td>42</td>\n",
       "      <td>2794</td>\n",
       "      <td>2216</td>\n",
       "      <td>2765.0</td>\n",
       "      <td>2186.0</td>\n",
       "      <td>100</td>\n",
       "      <td>100</td>\n",
       "    </tr>\n",
       "    <tr>\n",
       "      <th>7</th>\n",
       "      <td>tommy</td>\n",
       "      <td>1402</td>\n",
       "      <td>41</td>\n",
       "      <td>681200836HV_002.jpg</td>\n",
       "      <td>Normal</td>\n",
       "      <td>134</td>\n",
       "      <td>37</td>\n",
       "      <td>111</td>\n",
       "      <td>1333</td>\n",
       "      <td>79.5</td>\n",
       "      <td>1303.5</td>\n",
       "      <td>100</td>\n",
       "      <td>100</td>\n",
       "    </tr>\n",
       "    <tr>\n",
       "      <th>8</th>\n",
       "      <td>tommy</td>\n",
       "      <td>1314</td>\n",
       "      <td>40</td>\n",
       "      <td>681200836HV_002.jpg</td>\n",
       "      <td>Normal</td>\n",
       "      <td>135</td>\n",
       "      <td>37</td>\n",
       "      <td>1605</td>\n",
       "      <td>1425</td>\n",
       "      <td>1573.5</td>\n",
       "      <td>1395.0</td>\n",
       "      <td>100</td>\n",
       "      <td>100</td>\n",
       "    </tr>\n",
       "    <tr>\n",
       "      <th>9</th>\n",
       "      <td>tommy</td>\n",
       "      <td>524</td>\n",
       "      <td>30</td>\n",
       "      <td>681200836HV_002.jpg</td>\n",
       "      <td>Abnormal</td>\n",
       "      <td>136</td>\n",
       "      <td>38</td>\n",
       "      <td>1789</td>\n",
       "      <td>2278</td>\n",
       "      <td>1758.0</td>\n",
       "      <td>2243.0</td>\n",
       "      <td>100</td>\n",
       "      <td>100</td>\n",
       "    </tr>\n",
       "  </tbody>\n",
       "</table>\n",
       "</div>"
      ],
      "text/plain": [
       "  annotator  cell   h                image     label   pk   w     x     y  \\\n",
       "0     tommy   588  40  681200836HV_002.jpg    Normal  127  42  2794  2216   \n",
       "1     tommy   588  40  681200836HV_002.jpg    Normal  128  42  2794  2216   \n",
       "7     tommy  1402  41  681200836HV_002.jpg    Normal  134  37   111  1333   \n",
       "8     tommy  1314  40  681200836HV_002.jpg    Normal  135  37  1605  1425   \n",
       "9     tommy   524  30  681200836HV_002.jpg  Abnormal  136  38  1789  2278   \n",
       "\n",
       "     newX    newY  newW  newH  \n",
       "0  2765.0  2186.0   100   100  \n",
       "1  2765.0  2186.0   100   100  \n",
       "7    79.5  1303.5   100   100  \n",
       "8  1573.5  1395.0   100   100  \n",
       "9  1758.0  2243.0   100   100  "
      ]
     },
     "execution_count": 3,
     "metadata": {},
     "output_type": "execute_result"
    }
   ],
   "source": [
    "# Alter the original csv file so you can get the new XY\n",
    "# Start by loading in the new csv to dataframe\n",
    "\n",
    "csvFile = DATA_DIR + 'dataset.csv'\n",
    "classes = pd.read_csv(csvFile, index_col=0, parse_dates=True)\n",
    "classes.head()\n"
   ]
  },
  {
   "cell_type": "code",
   "execution_count": 4,
   "metadata": {
    "collapsed": false
   },
   "outputs": [
    {
     "data": {
      "text/plain": [
       "'C:/Users/thoma/Documents/00GitHub/00_LOCAL_ONLY/Cellavision_Trial_images/rbcs/rbcs/'"
      ]
     },
     "execution_count": 4,
     "metadata": {},
     "output_type": "execute_result"
    }
   ],
   "source": [
    "smearPath = 'rbcs'\n",
    "SMEAR_DIR = IMG_DIR + 'rbcs/'\n",
    "SMEAR_DIR"
   ]
  },
  {
   "cell_type": "code",
   "execution_count": 5,
   "metadata": {
    "collapsed": false,
    "scrolled": true
   },
   "outputs": [
    {
     "data": {
      "text/html": [
       "<div>\n",
       "<table border=\"1\" class=\"dataframe\">\n",
       "  <thead>\n",
       "    <tr style=\"text-align: right;\">\n",
       "      <th></th>\n",
       "      <th>index</th>\n",
       "      <th>annotator</th>\n",
       "      <th>cell</th>\n",
       "      <th>h</th>\n",
       "      <th>image</th>\n",
       "      <th>label</th>\n",
       "      <th>pk</th>\n",
       "      <th>w</th>\n",
       "      <th>x</th>\n",
       "      <th>y</th>\n",
       "      <th>newX</th>\n",
       "      <th>newY</th>\n",
       "      <th>newW</th>\n",
       "      <th>newH</th>\n",
       "    </tr>\n",
       "  </thead>\n",
       "  <tbody>\n",
       "    <tr>\n",
       "      <th>0</th>\n",
       "      <td>0</td>\n",
       "      <td>tommy</td>\n",
       "      <td>588</td>\n",
       "      <td>40</td>\n",
       "      <td>681200836HV_002.jpg</td>\n",
       "      <td>Normal</td>\n",
       "      <td>127</td>\n",
       "      <td>42</td>\n",
       "      <td>2794</td>\n",
       "      <td>2216</td>\n",
       "      <td>2765.0</td>\n",
       "      <td>2186.0</td>\n",
       "      <td>100</td>\n",
       "      <td>100</td>\n",
       "    </tr>\n",
       "    <tr>\n",
       "      <th>1</th>\n",
       "      <td>1</td>\n",
       "      <td>tommy</td>\n",
       "      <td>588</td>\n",
       "      <td>40</td>\n",
       "      <td>681200836HV_002.jpg</td>\n",
       "      <td>Normal</td>\n",
       "      <td>128</td>\n",
       "      <td>42</td>\n",
       "      <td>2794</td>\n",
       "      <td>2216</td>\n",
       "      <td>2765.0</td>\n",
       "      <td>2186.0</td>\n",
       "      <td>100</td>\n",
       "      <td>100</td>\n",
       "    </tr>\n",
       "    <tr>\n",
       "      <th>2</th>\n",
       "      <td>7</td>\n",
       "      <td>tommy</td>\n",
       "      <td>1402</td>\n",
       "      <td>41</td>\n",
       "      <td>681200836HV_002.jpg</td>\n",
       "      <td>Normal</td>\n",
       "      <td>134</td>\n",
       "      <td>37</td>\n",
       "      <td>111</td>\n",
       "      <td>1333</td>\n",
       "      <td>79.5</td>\n",
       "      <td>1303.5</td>\n",
       "      <td>100</td>\n",
       "      <td>100</td>\n",
       "    </tr>\n",
       "    <tr>\n",
       "      <th>3</th>\n",
       "      <td>8</td>\n",
       "      <td>tommy</td>\n",
       "      <td>1314</td>\n",
       "      <td>40</td>\n",
       "      <td>681200836HV_002.jpg</td>\n",
       "      <td>Normal</td>\n",
       "      <td>135</td>\n",
       "      <td>37</td>\n",
       "      <td>1605</td>\n",
       "      <td>1425</td>\n",
       "      <td>1573.5</td>\n",
       "      <td>1395.0</td>\n",
       "      <td>100</td>\n",
       "      <td>100</td>\n",
       "    </tr>\n",
       "    <tr>\n",
       "      <th>4</th>\n",
       "      <td>9</td>\n",
       "      <td>tommy</td>\n",
       "      <td>524</td>\n",
       "      <td>30</td>\n",
       "      <td>681200836HV_002.jpg</td>\n",
       "      <td>Abnormal</td>\n",
       "      <td>136</td>\n",
       "      <td>38</td>\n",
       "      <td>1789</td>\n",
       "      <td>2278</td>\n",
       "      <td>1758.0</td>\n",
       "      <td>2243.0</td>\n",
       "      <td>100</td>\n",
       "      <td>100</td>\n",
       "    </tr>\n",
       "  </tbody>\n",
       "</table>\n",
       "</div>"
      ],
      "text/plain": [
       "   index annotator  cell   h                image     label   pk   w     x  \\\n",
       "0      0     tommy   588  40  681200836HV_002.jpg    Normal  127  42  2794   \n",
       "1      1     tommy   588  40  681200836HV_002.jpg    Normal  128  42  2794   \n",
       "2      7     tommy  1402  41  681200836HV_002.jpg    Normal  134  37   111   \n",
       "3      8     tommy  1314  40  681200836HV_002.jpg    Normal  135  37  1605   \n",
       "4      9     tommy   524  30  681200836HV_002.jpg  Abnormal  136  38  1789   \n",
       "\n",
       "      y    newX    newY  newW  newH  \n",
       "0  2216  2765.0  2186.0   100   100  \n",
       "1  2216  2765.0  2186.0   100   100  \n",
       "2  1333    79.5  1303.5   100   100  \n",
       "3  1425  1573.5  1395.0   100   100  \n",
       "4  2278  1758.0  2243.0   100   100  "
      ]
     },
     "execution_count": 5,
     "metadata": {},
     "output_type": "execute_result"
    }
   ],
   "source": [
    "classes.reset_index().head()"
   ]
  },
  {
   "cell_type": "code",
   "execution_count": 6,
   "metadata": {
    "collapsed": false
   },
   "outputs": [
    {
     "data": {
      "text/plain": [
       "1552"
      ]
     },
     "execution_count": 6,
     "metadata": {},
     "output_type": "execute_result"
    }
   ],
   "source": [
    "# get rid of reject cells\n",
    "# classes = classes[classes.label != 'Reject']\n",
    "len(classes)"
   ]
  },
  {
   "cell_type": "code",
   "execution_count": 7,
   "metadata": {
    "collapsed": false
   },
   "outputs": [],
   "source": [
    "def get_data(n):\n",
    "    img_string = SMEAR_DIR + classes.ix[n].image\n",
    "    oldX = classes.ix[n].x\n",
    "    oldY = classes.ix[n].y\n",
    "    label = classes.ix[n].label\n",
    "    w = classes.ix[n].w\n",
    "    h = classes.ix[n].h\n",
    "    x = classes.ix[n].newX\n",
    "    y = classes.ix[n].newY\n",
    "    int(n)\n",
    "    int(n)\n",
    "\n",
    "    return oldX, oldY, w, h, x, y, img_string"
   ]
  },
  {
   "cell_type": "code",
   "execution_count": 8,
   "metadata": {
    "collapsed": false
   },
   "outputs": [
    {
     "data": {
      "text/plain": [
       "(2794,\n",
       " 2216,\n",
       " 42,\n",
       " 40,\n",
       " 2765.0,\n",
       " 2186.0,\n",
       " 'C:/Users/thoma/Documents/00GitHub/00_LOCAL_ONLY/Cellavision_Trial_images/rbcs/rbcs/681200836HV_002.jpg')"
      ]
     },
     "execution_count": 8,
     "metadata": {},
     "output_type": "execute_result"
    }
   ],
   "source": [
    "get_data(0)"
   ]
  },
  {
   "cell_type": "code",
   "execution_count": 9,
   "metadata": {
    "collapsed": false
   },
   "outputs": [
    {
     "data": {
      "text/plain": [
       "(2794,\n",
       " 2216,\n",
       " 42,\n",
       " 40,\n",
       " 2765.0,\n",
       " 2186.0,\n",
       " 'C:/Users/thoma/Documents/00GitHub/00_LOCAL_ONLY/Cellavision_Trial_images/rbcs/rbcs/681200836HV_002.jpg')"
      ]
     },
     "execution_count": 9,
     "metadata": {},
     "output_type": "execute_result"
    }
   ],
   "source": [
    "oldX, oldY, w, h, x, y, img_string = get_data(0)\n",
    "\n",
    "oldX, oldY, w, h, x, y, img_string"
   ]
  },
  {
   "cell_type": "code",
   "execution_count": null,
   "metadata": {
    "collapsed": true
   },
   "outputs": [],
   "source": []
  },
  {
   "cell_type": "code",
   "execution_count": null,
   "metadata": {
    "collapsed": true
   },
   "outputs": [],
   "source": []
  },
  {
   "cell_type": "code",
   "execution_count": null,
   "metadata": {
    "collapsed": true
   },
   "outputs": [],
   "source": []
  },
  {
   "cell_type": "code",
   "execution_count": 10,
   "metadata": {
    "collapsed": true
   },
   "outputs": [],
   "source": [
    "# Begin old script"
   ]
  },
  {
   "cell_type": "code",
   "execution_count": 11,
   "metadata": {
    "collapsed": false
   },
   "outputs": [],
   "source": [
    "# DON\"T RUN AGAIN - gets labeled images from smears\n",
    "\n",
    "# for cls in np.unique(df.label):\n",
    "    \n",
    "#     try:\n",
    "#         os.makedirs('C:/Users/thoma/Documents/00GitHub/rbc-cnn/mosaic/images/{}'.format(cls))\n",
    "#     except OSError:\n",
    "#         pass\n",
    "\n",
    "#     images = df[df.label == cls].reset_index()\n",
    "#     for n, im in images.iterrows():\n",
    "#         y = im.y\n",
    "#         x = im.x\n",
    "#         w = im.w\n",
    "#         h = im.h\n",
    "#         im = Image.fromarray(np.array(image(im.image))[y: y + h, x: x + w])\n",
    "#         im.save('C:/Users/thoma/Documents/00GitHub/Cellavision_Trial_images/mosaic/images/{}/{}.png'.format(cls, n))"
   ]
  },
  {
   "cell_type": "code",
   "execution_count": 14,
   "metadata": {
    "collapsed": false
   },
   "outputs": [],
   "source": [
    "\n",
    "def getdata(ind):\n",
    "    im = cv2.imread(IMG_DIR + classes.image[ind])\n",
    "    df = classes.ix[ind]\n",
    "    label = df.label\n",
    "    \n",
    "    x = df.x \n",
    "    y = df.y\n",
    "    w = df.w\n",
    "    h = df.h\n",
    "\n",
    "    cw = w/2\n",
    "    ch = h/2\n",
    "\n",
    "    cx = x+cw\n",
    "    cy = y+ch\n",
    "    \n",
    "    cropped = im[cy-25:cy+25, cx-25:cx+25]\n",
    "\n",
    "    if cropped.shape == (50, 50, 3):\n",
    "        return cropped, label\n",
    "\n",
    "    "
   ]
  },
  {
   "cell_type": "code",
   "execution_count": 15,
   "metadata": {
    "collapsed": false
   },
   "outputs": [
    {
     "name": "stdout",
     "output_type": "stream",
     "text": [
      "'NoneType' object is not iterable\n",
      "'NoneType' object is not iterable\n",
      "'NoneType' object is not iterable\n",
      "'NoneType' object is not iterable\n",
      "'NoneType' object is not iterable\n",
      "'NoneType' object is not iterable\n",
      "'NoneType' object is not iterable\n",
      "'NoneType' object is not iterable\n"
     ]
    }
   ],
   "source": [
    "# get array data from smear with label\n",
    "# n = total number of cells \n",
    "\n",
    "# cx and cy on cropped images 32x32 or 48x48 return im to X and label to Y \n",
    "\n",
    "X = []\n",
    "Y = []\n",
    "IDs = []\n",
    "\n",
    "for n in classes.image.iteritems():\n",
    "\n",
    "    index_obj = classes.ix[n[0]]\n",
    "    index = n[0]\n",
    "\n",
    "    try:\n",
    "        x, y = getdata(index)\n",
    "    except Exception, e:\n",
    "        #type, value, tb = sys.exc_info()\n",
    "        #traceback.print_exc()\n",
    "        print e\n",
    "        continue\n",
    "        \n",
    "    X.append(x)\n",
    "    Y.append(y)\n",
    "    IDs.append(n)\n",
    "\n",
    "X = np.array(X)\n",
    "Y = np.array(Y)\n",
    "IDs = np.array(IDs)\n"
   ]
  },
  {
   "cell_type": "code",
   "execution_count": 17,
   "metadata": {
    "collapsed": false
   },
   "outputs": [
    {
     "data": {
      "text/plain": [
       "array([   3,   50, 1544], dtype=int64)"
      ]
     },
     "execution_count": 17,
     "metadata": {},
     "output_type": "execute_result"
    }
   ],
   "source": [
    "np.unique(X.shape)"
   ]
  },
  {
   "cell_type": "code",
   "execution_count": 18,
   "metadata": {
    "collapsed": false
   },
   "outputs": [
    {
     "data": {
      "text/plain": [
       "(50L, 50L, 3L)"
      ]
     },
     "execution_count": 18,
     "metadata": {},
     "output_type": "execute_result"
    }
   ],
   "source": [
    "X[0].shape"
   ]
  },
  {
   "cell_type": "code",
   "execution_count": 17,
   "metadata": {
    "collapsed": false
   },
   "outputs": [
    {
     "data": {
      "text/plain": [
       "-1"
      ]
     },
     "execution_count": 17,
     "metadata": {},
     "output_type": "execute_result"
    }
   ],
   "source": [
    "cv2.imshow(\"cropped\", X[15])\n",
    "cv2.waitKey(0)"
   ]
  },
  {
   "cell_type": "code",
   "execution_count": 18,
   "metadata": {
    "collapsed": false
   },
   "outputs": [],
   "source": [
    "import hickle"
   ]
  },
  {
   "cell_type": "code",
   "execution_count": 19,
   "metadata": {
    "collapsed": true
   },
   "outputs": [],
   "source": [
    "GROUPS = {'Normal': (1,),\n",
    "          'Abnormal': (2,),\n",
    "         }"
   ]
  },
  {
   "cell_type": "code",
   "execution_count": 20,
   "metadata": {
    "collapsed": false
   },
   "outputs": [],
   "source": [
    "# just X and Y is OK \n",
    "\n",
    "d = {}\n",
    "d['X'] = X\n",
    "d['y'] = Y\n",
    "d['GROUPS'] = GROUPS"
   ]
  },
  {
   "cell_type": "code",
   "execution_count": 51,
   "metadata": {
    "collapsed": false
   },
   "outputs": [
    {
     "name": "stdout",
     "output_type": "stream",
     "text": [
      "dumping <type 'dict'> to file <HDF5 file \"dataset.hkl\" (mode r+)>\n"
     ]
    }
   ],
   "source": [
    "# (X, Y) -- ((N,3,w,h), label)\n",
    "\n",
    "hickle.dump(d, open('C:/Users/thoma/Documents/00GitHub/00_LOCAL_ONLY/rbc_cnn_sync/data/dataset.hkl','w'))"
   ]
  },
  {
   "cell_type": "code",
   "execution_count": 22,
   "metadata": {
    "collapsed": true
   },
   "outputs": [],
   "source": [
    "import hickle\n",
    "import sklearn.cross_validation\n",
    "import skimage.transform"
   ]
  },
  {
   "cell_type": "code",
   "execution_count": 24,
   "metadata": {
    "collapsed": false
   },
   "outputs": [],
   "source": [
    "d = hickle.load('C:/Users/thoma/Documents/00GitHub/00_LOCAL_ONLY/rbc_cnn_sync/data/dataset.hkl')\n",
    "sss = sklearn.cross_validation.StratifiedShuffleSplit(\n",
    "    d['y'],\n",
    "    n_iter=1,\n",
    "    test_size=0.2,\n",
    "    random_state=42,\n",
    "    )\n",
    "\n"
   ]
  },
  {
   "cell_type": "code",
   "execution_count": 25,
   "metadata": {
    "collapsed": false
   },
   "outputs": [
    {
     "ename": "NameError",
     "evalue": "name 'train' is not defined",
     "output_type": "error",
     "traceback": [
      "\u001b[1;31m---------------------------------------------------------------------------\u001b[0m",
      "\u001b[1;31mNameError\u001b[0m                                 Traceback (most recent call last)",
      "\u001b[1;32m<ipython-input-25-765887397494>\u001b[0m in \u001b[0;36m<module>\u001b[1;34m()\u001b[0m\n\u001b[1;32m----> 1\u001b[1;33m \u001b[1;32mif\u001b[0m \u001b[0mtrain\u001b[0m\u001b[1;33m:\u001b[0m\u001b[1;33m\u001b[0m\u001b[0m\n\u001b[0m\u001b[0;32m      2\u001b[0m     \u001b[0mix\u001b[0m\u001b[1;33m,\u001b[0m \u001b[0m_\u001b[0m \u001b[1;33m=\u001b[0m \u001b[0mtuple\u001b[0m\u001b[1;33m(\u001b[0m\u001b[0msss\u001b[0m\u001b[1;33m)\u001b[0m\u001b[1;33m[\u001b[0m\u001b[1;36m0\u001b[0m\u001b[1;33m]\u001b[0m\u001b[1;33m\u001b[0m\u001b[0m\n\u001b[0;32m      3\u001b[0m \u001b[1;32melse\u001b[0m\u001b[1;33m:\u001b[0m\u001b[1;33m\u001b[0m\u001b[0m\n\u001b[0;32m      4\u001b[0m     \u001b[0m_\u001b[0m\u001b[1;33m,\u001b[0m \u001b[0mix\u001b[0m \u001b[1;33m=\u001b[0m \u001b[0mtuple\u001b[0m\u001b[1;33m(\u001b[0m\u001b[0msss\u001b[0m\u001b[1;33m)\u001b[0m\u001b[1;33m[\u001b[0m\u001b[1;36m0\u001b[0m\u001b[1;33m]\u001b[0m\u001b[1;33m\u001b[0m\u001b[0m\n\u001b[0;32m      5\u001b[0m \u001b[1;33m\u001b[0m\u001b[0m\n",
      "\u001b[1;31mNameError\u001b[0m: name 'train' is not defined"
     ]
    }
   ],
   "source": [
    "if train:\n",
    "    ix, _ = tuple(sss)[0]\n",
    "else:\n",
    "    _, ix = tuple(sss)[0]\n",
    "\n",
    "labels = d['y'][ix]\n",
    "images = d['X'][ix]\n",
    "\n"
   ]
  },
  {
   "cell_type": "code",
   "execution_count": null,
   "metadata": {
    "collapsed": true
   },
   "outputs": [],
   "source": [
    "\n",
    "IMAGE_MEAN = images.mean(0).mean(0).mean(0)\n",
    "images = (images - IMAGE_MEAN)"
   ]
  },
  {
   "cell_type": "code",
   "execution_count": 34,
   "metadata": {
    "collapsed": false
   },
   "outputs": [
    {
     "name": "stdout",
     "output_type": "stream",
     "text": [
      "1.95254015709\n"
     ]
    }
   ],
   "source": [
    "rng = np.random.RandomState(0)\n",
    "ang = rng.uniform(-20, 20)\n",
    "print ang"
   ]
  },
  {
   "cell_type": "code",
   "execution_count": null,
   "metadata": {
    "collapsed": false
   },
   "outputs": [],
   "source": []
  },
  {
   "cell_type": "code",
   "execution_count": 39,
   "metadata": {
    "collapsed": false
   },
   "outputs": [
    {
     "data": {
      "text/plain": [
       "-1"
      ]
     },
     "execution_count": 39,
     "metadata": {},
     "output_type": "execute_result"
    }
   ],
   "source": [
    "img = X[0]\n",
    "x = skimage.transform.rotate(img, ang, order=0)\n",
    "cv2.imshow(\"cropped\", x)\n",
    "cv2.waitKey(0)"
   ]
  }
 ],
 "metadata": {
  "kernelspec": {
   "display_name": "Python 2",
   "language": "python",
   "name": "python2"
  },
  "language_info": {
   "codemirror_mode": {
    "name": "ipython",
    "version": 2
   },
   "file_extension": ".py",
   "mimetype": "text/x-python",
   "name": "python",
   "nbconvert_exporter": "python",
   "pygments_lexer": "ipython2",
   "version": "2.7.10"
  }
 },
 "nbformat": 4,
 "nbformat_minor": 0
}
