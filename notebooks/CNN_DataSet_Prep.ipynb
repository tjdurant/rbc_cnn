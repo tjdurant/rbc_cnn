{
 "cells": [
  {
   "cell_type": "code",
   "execution_count": 1,
   "metadata": {
    "collapsed": false
   },
   "outputs": [],
   "source": [
    "import os\n",
    "import numpy as np\n",
    "import pandas as pd\n",
    "import hickle\n",
    "\n",
    "from PIL import Image\n",
    "\n",
    "import matplotlib.pyplot as plt\n",
    "%matplotlib inline\n",
    "\n",
    "\n",
    "# Set working directory\n",
    "DATA_DIR = 'C:/Users/thoma/Documents/00GitHub/rbc_cnn/'\n",
    "# Set image directory which is off of GitHub\n",
    "IMG_DIR = 'C:/Users/thoma/Documents/00GitHub/00_LOCAL_ONLY/Cellavision_Trial_images/Test3_AltFebruary/'\n",
    "\n",
    "\n",
    "# Not sure what this pickle is\n",
    "df = pd.read_pickle(DATA_DIR + 'notebooks/classifications.df.pkl')\n",
    "\n",
    "\n",
    "# {1L: 'Normal', 2L: 'Abnormal'}\n",
    "label_index = pd.read_csv(DATA_DIR + 'notebooks/label_index.csv')\n",
    "label_index.reset_index()\n",
    "classdict = {k:v for __, (k,v) in label_index.iterrows()}\n",
    "\n",
    "data = df.reset_index()\n",
    "data = data.rename(columns={'index': 'event'})\n",
    "\n",
    "\n",
    "def get_image(n):\n",
    "    return Image.open(IMG_DIR + 'rbcs/{}'.format(n))\n",
    "\n",
    "def thumb(n):\n",
    "\ttry:\n",
    "\t\treturn Image.open(IMG_DIR + 'rbcs/{}'.format(n))\n",
    "\texcept:\n",
    "\t\treturn Image.open(IMG_DIR + 'mosaic/images/Normal/{}.png'.format(n))"
   ]
  },
  {
   "cell_type": "code",
   "execution_count": 2,
   "metadata": {
    "collapsed": false
   },
   "outputs": [],
   "source": [
    "# http://stackoverflow.com/questions/15514593/importerror-no-module-named-when-trying-to-run-python-script\n",
    "\n",
    "import sys\n",
    "sys.path.append('C:/Anaconda/Lib/site-packages')\n",
    "\n",
    "import cv2\n",
    "import PIL\n"
   ]
  },
  {
   "cell_type": "code",
   "execution_count": 4,
   "metadata": {
    "collapsed": false
   },
   "outputs": [
    {
     "data": {
      "text/html": [
       "<div>\n",
       "<table border=\"1\" class=\"dataframe\">\n",
       "  <thead>\n",
       "    <tr style=\"text-align: right;\">\n",
       "      <th></th>\n",
       "      <th>annotator</th>\n",
       "      <th>image</th>\n",
       "      <th>label</th>\n",
       "      <th>pk</th>\n",
       "      <th>x</th>\n",
       "      <th>y</th>\n",
       "    </tr>\n",
       "  </thead>\n",
       "  <tbody>\n",
       "    <tr>\n",
       "      <th>0</th>\n",
       "      <td>rick</td>\n",
       "      <td>752602451HV_001.jpg</td>\n",
       "      <td>NORMAL</td>\n",
       "      <td>11</td>\n",
       "      <td>1602</td>\n",
       "      <td>664</td>\n",
       "    </tr>\n",
       "    <tr>\n",
       "      <th>1</th>\n",
       "      <td>rick</td>\n",
       "      <td>752602451HV_001.jpg</td>\n",
       "      <td>NORMAL</td>\n",
       "      <td>12</td>\n",
       "      <td>1642</td>\n",
       "      <td>597</td>\n",
       "    </tr>\n",
       "    <tr>\n",
       "      <th>2</th>\n",
       "      <td>rick</td>\n",
       "      <td>752602451HV_001.jpg</td>\n",
       "      <td>NORMAL</td>\n",
       "      <td>13</td>\n",
       "      <td>1664</td>\n",
       "      <td>652</td>\n",
       "    </tr>\n",
       "    <tr>\n",
       "      <th>3</th>\n",
       "      <td>rick</td>\n",
       "      <td>752602451HV_001.jpg</td>\n",
       "      <td>NORMAL</td>\n",
       "      <td>15</td>\n",
       "      <td>1551</td>\n",
       "      <td>728</td>\n",
       "    </tr>\n",
       "    <tr>\n",
       "      <th>4</th>\n",
       "      <td>rick</td>\n",
       "      <td>752602451HV_001.jpg</td>\n",
       "      <td>NORMAL</td>\n",
       "      <td>16</td>\n",
       "      <td>1551</td>\n",
       "      <td>679</td>\n",
       "    </tr>\n",
       "  </tbody>\n",
       "</table>\n",
       "</div>"
      ],
      "text/plain": [
       "  annotator                image   label  pk     x    y\n",
       "0      rick  752602451HV_001.jpg  NORMAL  11  1602  664\n",
       "1      rick  752602451HV_001.jpg  NORMAL  12  1642  597\n",
       "2      rick  752602451HV_001.jpg  NORMAL  13  1664  652\n",
       "3      rick  752602451HV_001.jpg  NORMAL  15  1551  728\n",
       "4      rick  752602451HV_001.jpg  NORMAL  16  1551  679"
      ]
     },
     "execution_count": 4,
     "metadata": {},
     "output_type": "execute_result"
    }
   ],
   "source": [
    "# Alter the original csv file so you can get the new XY\n",
    "# Start by loading in the new csv to dataframe\n",
    "\n",
    "# csvFile = DATA_DIR + 'dataset.csv'\n",
    "# classes = pd.read_csv(csvFile, index_col=0, parse_dates=True)\n",
    "# read in cell labels from Cell Label Tool \n",
    "classes = pd.read_csv(DATA_DIR + 'dataset.csv', index_col=0, parse_dates=True)\n",
    "\n",
    "#alt_february_files = pd.read_csv(DATA_DIR + 'alt_february_files.csv', index_col=0, parse_dates=True)\n",
    "classes.head()"
   ]
  },
  {
   "cell_type": "code",
   "execution_count": 5,
   "metadata": {
    "collapsed": false
   },
   "outputs": [
    {
     "data": {
      "text/plain": [
       "2218"
      ]
     },
     "execution_count": 5,
     "metadata": {},
     "output_type": "execute_result"
    }
   ],
   "source": [
    "# get rid of reject cells\n",
    "classes = classes[classes.label != 'Reject']\n",
    "classes = classes[classes.label != 'Abnormal']\n",
    "len(classes)"
   ]
  },
  {
   "cell_type": "code",
   "execution_count": 6,
   "metadata": {
    "collapsed": false
   },
   "outputs": [
    {
     "data": {
      "text/html": [
       "<div>\n",
       "<table border=\"1\" class=\"dataframe\">\n",
       "  <thead>\n",
       "    <tr style=\"text-align: right;\">\n",
       "      <th></th>\n",
       "      <th>annotator</th>\n",
       "      <th>image</th>\n",
       "      <th>label</th>\n",
       "      <th>pk</th>\n",
       "      <th>x</th>\n",
       "      <th>y</th>\n",
       "    </tr>\n",
       "  </thead>\n",
       "  <tbody>\n",
       "    <tr>\n",
       "      <th>0</th>\n",
       "      <td>rick</td>\n",
       "      <td>752602451HV_001.jpg</td>\n",
       "      <td>NORMAL</td>\n",
       "      <td>11</td>\n",
       "      <td>1602</td>\n",
       "      <td>664</td>\n",
       "    </tr>\n",
       "    <tr>\n",
       "      <th>1</th>\n",
       "      <td>rick</td>\n",
       "      <td>752602451HV_001.jpg</td>\n",
       "      <td>NORMAL</td>\n",
       "      <td>12</td>\n",
       "      <td>1642</td>\n",
       "      <td>597</td>\n",
       "    </tr>\n",
       "    <tr>\n",
       "      <th>2</th>\n",
       "      <td>rick</td>\n",
       "      <td>752602451HV_001.jpg</td>\n",
       "      <td>NORMAL</td>\n",
       "      <td>13</td>\n",
       "      <td>1664</td>\n",
       "      <td>652</td>\n",
       "    </tr>\n",
       "    <tr>\n",
       "      <th>3</th>\n",
       "      <td>rick</td>\n",
       "      <td>752602451HV_001.jpg</td>\n",
       "      <td>NORMAL</td>\n",
       "      <td>15</td>\n",
       "      <td>1551</td>\n",
       "      <td>728</td>\n",
       "    </tr>\n",
       "    <tr>\n",
       "      <th>4</th>\n",
       "      <td>rick</td>\n",
       "      <td>752602451HV_001.jpg</td>\n",
       "      <td>NORMAL</td>\n",
       "      <td>16</td>\n",
       "      <td>1551</td>\n",
       "      <td>679</td>\n",
       "    </tr>\n",
       "  </tbody>\n",
       "</table>\n",
       "</div>"
      ],
      "text/plain": [
       "  annotator                image   label  pk     x    y\n",
       "0      rick  752602451HV_001.jpg  NORMAL  11  1602  664\n",
       "1      rick  752602451HV_001.jpg  NORMAL  12  1642  597\n",
       "2      rick  752602451HV_001.jpg  NORMAL  13  1664  652\n",
       "3      rick  752602451HV_001.jpg  NORMAL  15  1551  728\n",
       "4      rick  752602451HV_001.jpg  NORMAL  16  1551  679"
      ]
     },
     "execution_count": 6,
     "metadata": {},
     "output_type": "execute_result"
    }
   ],
   "source": [
    "# resets the index on the dataframe after the 'rejects' are dropped\n",
    "classes = classes.reset_index(drop=True)\n",
    "classes.head()"
   ]
  },
  {
   "cell_type": "code",
   "execution_count": 7,
   "metadata": {
    "collapsed": false,
    "scrolled": true
   },
   "outputs": [
    {
     "data": {
      "text/plain": [
       "NORMAL         714\n",
       "Target cell    702\n",
       "Schistocyte    253\n",
       "Echinocyte     185\n",
       "Spherocyte     100\n",
       "Dacrocyte       71\n",
       "Stomatocyte     68\n",
       "Acanthocyte     67\n",
       "Elliptocyte     58\n",
       "Name: label, dtype: int64"
      ]
     },
     "execution_count": 7,
     "metadata": {},
     "output_type": "execute_result"
    }
   ],
   "source": [
    "# counts the number of cells in each calss\n",
    "classes['label'].value_counts()"
   ]
  },
  {
   "cell_type": "code",
   "execution_count": 84,
   "metadata": {
    "collapsed": false
   },
   "outputs": [
    {
     "data": {
      "text/plain": [
       "2218"
      ]
     },
     "execution_count": 84,
     "metadata": {},
     "output_type": "execute_result"
    }
   ],
   "source": [
    "len(classes)"
   ]
  },
  {
   "cell_type": "code",
   "execution_count": 34,
   "metadata": {
    "collapsed": false
   },
   "outputs": [
    {
     "data": {
      "text/plain": [
       "annotator                   rick\n",
       "image        752900792HV_001.jpg\n",
       "label                 Spherocyte\n",
       "pk                            70\n",
       "x                           1496\n",
       "y                           1708\n",
       "Name: 23, dtype: object"
      ]
     },
     "execution_count": 34,
     "metadata": {},
     "output_type": "execute_result"
    }
   ],
   "source": [
    "cell = classes.ix[23]\n",
    "im = cv2.imread(\"C:/Users/thoma/Documents/00GitHub/00_LOCAL_ONLY/00RbcCNN_Sln_Images/752601275HV_001.jpg\")\n",
    "cell"
   ]
  },
  {
   "cell_type": "code",
   "execution_count": 35,
   "metadata": {
    "collapsed": false
   },
   "outputs": [
    {
     "data": {
      "text/plain": [
       "1708"
      ]
     },
     "execution_count": 35,
     "metadata": {},
     "output_type": "execute_result"
    }
   ],
   "source": [
    "cell.y"
   ]
  },
  {
   "cell_type": "code",
   "execution_count": 10,
   "metadata": {
    "collapsed": false
   },
   "outputs": [
    {
     "data": {
      "image/png": "[encoded data removed]",
      "text/plain": [
       "<PIL.Image.Image image mode=RGB size=60x60 at 0xBB27780>"
      ]
     },
     "execution_count": 10,
     "metadata": {},
     "output_type": "execute_result"
    }
   ],
   "source": [
    "new_x = cell.x - 30\n",
    "new_y = cell.y - 30\n",
    "new_w = 60\n",
    "new_h = 60\n",
    "\n",
    "croppedCell = im[new_y:new_y+new_h, new_x:new_x+new_w]\n",
    "pic = Image.fromarray(croppedCell)\n",
    "pic"
   ]
  },
  {
   "cell_type": "code",
   "execution_count": 37,
   "metadata": {
    "collapsed": false
   },
   "outputs": [
    {
     "data": {
      "image/png": "[encoded data removed]",
      "text/plain": [
       "<PIL.Image.Image image mode=RGB size=60x60 at 0xBD85080>"
      ]
     },
     "execution_count": 37,
     "metadata": {},
     "output_type": "execute_result"
    }
   ],
   "source": [
    "new_x = cell.x - 30\n",
    "new_y = cell.y - 30\n",
    "new_w = 60\n",
    "new_h = 60\n",
    "\n",
    "croppedCell2 = im[new_y:new_y+new_h, new_x:new_x+new_w]\n",
    "pic = Image.fromarray(croppedCell2)\n",
    "pic"
   ]
  },
  {
   "cell_type": "code",
   "execution_count": 11,
   "metadata": {
    "collapsed": false
   },
   "outputs": [
    {
     "data": {
      "text/plain": [
       "(60L, 60L, 3L)"
      ]
     },
     "execution_count": 11,
     "metadata": {},
     "output_type": "execute_result"
    }
   ],
   "source": [
    "croppedCell.shape"
   ]
  },
  {
   "cell_type": "code",
   "execution_count": 81,
   "metadata": {
    "collapsed": false
   },
   "outputs": [],
   "source": [
    "# gets byte array from smear image using xywh coordinates \n",
    "def getData(ind, dataframe, im):\n",
    "    # im = cv2.imread(IMG_DIR + dataframe.image[ind])\n",
    "    df = dataframe.ix[ind]\n",
    "    label = df.label\n",
    "    \n",
    "    new_x = df.x - 30\n",
    "    new_y = df.y - 30\n",
    "    new_w = 60\n",
    "    new_h = 60\n",
    "\n",
    "    croppedCell = im[new_y:new_y+new_h, new_x:new_x+new_w]\n",
    "\n",
    "    if croppedCell.shape == (60, 60, 3):\n",
    "        return croppedCell, label\n",
    "    "
   ]
  },
  {
   "cell_type": "code",
   "execution_count": 80,
   "metadata": {
    "collapsed": false
   },
   "outputs": [],
   "source": [
    "# get array data from smear with label\n",
    "# n = total number of cells \n",
    "\n",
    "def CreateLabelImageArrays(dataframe):\n",
    "    \n",
    "    # chunking counter\n",
    "    i = 0\n",
    "    \n",
    "    # byte array\n",
    "    X = []\n",
    "    # label array\n",
    "    Y = []\n",
    "    # not sure\n",
    "    IDs = []\n",
    "    \n",
    "    # iterates over image column of dataframe\n",
    "    for n in dataframe.image.iteritems():\n",
    "        \n",
    "        # this is the entire index object\n",
    "        index_obj = dataframe.ix[n[0]]\n",
    "        \n",
    "        # n[0] = index\n",
    "        index = n[0]\n",
    "\n",
    "        # get smear image array      \n",
    "        im = cv2.imread(IMG_DIR + dataframe.image[index])\n",
    "\n",
    "        try:\n",
    "            # pass index, dataframe, and image array to function\n",
    "            x, y = getData(index, dataframe, im)\n",
    "        except Exception, e:\n",
    "            #type, value, tb = sys.exc_info()\n",
    "            #traceback.print_exc()\n",
    "            print e\n",
    "            continue\n",
    "\n",
    "        X.append(x)\n",
    "        Y.append(y)\n",
    "        IDs.append(n)\n",
    "        \n",
    "        i += 1\n",
    "        \n",
    "        if i > 999:\n",
    "            \n",
    "            # individual cell byte arrays    \n",
    "            X = np.array(X)\n",
    "\n",
    "            # individual cell labels\n",
    "            Y = np.array(Y)\n",
    "\n",
    "            # individual cell associated smear files\n",
    "            IDs = np.array(IDs)\n",
    "\n",
    "            # create dictionary for arrays\n",
    "            d = {}\n",
    "            d['X'] = totalByteArray\n",
    "            d['y'] = totalLabelArray\n",
    "            \n",
    "            # hickle counter\n",
    "            hickleCount = 0\n",
    "            \n",
    "            # (X, Y) -- ((N,3,w,h), label)\n",
    "            hickle.dump(d, open('C:/Users/thoma/Documents/00GitHub/rbc_cnn/data/April{}.hkl'.format(hickleCount),'w'))\n",
    "            \n",
    "            hickleCount += 1\n",
    "            i = 0"
   ]
  },
  {
   "cell_type": "code",
   "execution_count": 83,
   "metadata": {
    "collapsed": false
   },
   "outputs": [],
   "source": [
    "# Get image arrays for test3 dataset\n",
    "#test3_image_arrays = CreateLabelImageArrays(classes)"
   ]
  },
  {
   "cell_type": "code",
   "execution_count": null,
   "metadata": {
    "collapsed": false
   },
   "outputs": [],
   "source": [
    "pic = Image.fromarray(test3_image_arrays[0][4])\n",
    "pic"
   ]
  },
  {
   "cell_type": "code",
   "execution_count": null,
   "metadata": {
    "collapsed": true
   },
   "outputs": [],
   "source": [
    "# Get image arrays for alt_february dataset\n",
    "alt_february_files_arrays = CreateLabelImageArrays(alt_february_files)"
   ]
  },
  {
   "cell_type": "code",
   "execution_count": null,
   "metadata": {
    "collapsed": false
   },
   "outputs": [],
   "source": [
    "pic = Image.fromarray(alt_february_files_arrays[0][4])\n",
    "pic"
   ]
  },
  {
   "cell_type": "code",
   "execution_count": null,
   "metadata": {
    "collapsed": false
   },
   "outputs": [],
   "source": [
    "# join cell byte arrays \n",
    "totalByteArray = np.concatenate((test3_image_arrays[0], alt_february_files_arrays[0]))\n",
    "\n",
    "# join cell label arrays\n",
    "totalLabelArray = np.concatenate((test3_image_arrays[1], alt_february_files_arrays[1]))"
   ]
  },
  {
   "cell_type": "code",
   "execution_count": null,
   "metadata": {
    "collapsed": false
   },
   "outputs": [],
   "source": [
    "# create dictionary for arrays\n",
    "d = {}\n",
    "d['X'] = totalByteArray\n",
    "d['y'] = totalLabelArray"
   ]
  },
  {
   "cell_type": "code",
   "execution_count": null,
   "metadata": {
    "collapsed": false
   },
   "outputs": [],
   "source": [
    "# (X, Y) -- ((N,3,w,h), label)\n",
    "hickle.dump(d, open('C:/Users/thoma/Documents/00GitHub/00_LOCAL_ONLY/rbc_cnn_sync/data/dataset_february.hkl','w'))"
   ]
  },
  {
   "cell_type": "code",
   "execution_count": 112,
   "metadata": {
    "collapsed": true
   },
   "outputs": [],
   "source": [
    "hk0 = hickle.load('C:/Users/thoma/Documents/00GitHub/rbc_cnn/data/April0.hkl')\n",
    "hk1 = hickle.load('C:/Users/thoma/Documents/00GitHub/rbc_cnn/data/April1.hkl')\n",
    "hk2 = hickle.load('C:/Users/thoma/Documents/00GitHub/rbc_cnn/data/April2.hkl')\n",
    "hk3 = hickle.load('C:/Users/thoma/Documents/00GitHub/rbc_cnn/data/April3.hkl')\n",
    "hk4 = hickle.load('C:/Users/thoma/Documents/00GitHub/rbc_cnn/data/April4.hkl')\n",
    "hk5 = hickle.load('C:/Users/thoma/Documents/00GitHub/rbc_cnn/data/April5.hkl')\n",
    "hk6 = hickle.load('C:/Users/thoma/Documents/00GitHub/rbc_cnn/data/April6.hkl')\n",
    "hk7 = hickle.load('C:/Users/thoma/Documents/00GitHub/rbc_cnn/data/April7.hkl')"
   ]
  },
  {
   "cell_type": "code",
   "execution_count": 113,
   "metadata": {
    "collapsed": true
   },
   "outputs": [],
   "source": [
    "# join cell byte arrays \n",
    "totalByteArray = np.concatenate((hk0['X'], hk1['X'], hk2['X'], hk3['X'], hk4['X'], hk5['X'], hk6['X'], hk7['X']))\n",
    "\n",
    "# join cell label arrays\n",
    "totalLabelArray = np.concatenate((hk0['y'], hk1['y'], hk2['y'], hk3['y'], hk4['y'], hk5['y'], hk6['y'], hk7['y']))"
   ]
  },
  {
   "cell_type": "code",
   "execution_count": 117,
   "metadata": {
    "collapsed": false
   },
   "outputs": [
    {
     "data": {
      "text/plain": [
       "2208"
      ]
     },
     "execution_count": 117,
     "metadata": {},
     "output_type": "execute_result"
    }
   ],
   "source": [
    "len(totalByteArray)"
   ]
  },
  {
   "cell_type": "code",
   "execution_count": 116,
   "metadata": {
    "collapsed": false
   },
   "outputs": [
    {
     "data": {
      "text/plain": [
       "'Target cell'"
      ]
     },
     "execution_count": 116,
     "metadata": {},
     "output_type": "execute_result"
    }
   ],
   "source": [
    "testDict['y'][264]"
   ]
  },
  {
   "cell_type": "code",
   "execution_count": 118,
   "metadata": {
    "collapsed": true
   },
   "outputs": [],
   "source": [
    "# create dictionary for arrays\n",
    "d = {}\n",
    "d['X'] = totalByteArray\n",
    "d['y'] = totalLabelArray"
   ]
  },
  {
   "cell_type": "code",
   "execution_count": 119,
   "metadata": {
    "collapsed": true
   },
   "outputs": [],
   "source": [
    "# (X, Y) -- ((N,3,w,h), label)\n",
    "hickle.dump(d, open('C:/Users/thoma/Documents/00GitHub/rbc_cnn/data/TotalHickle.hkl','w'))"
   ]
  }
 ],
 "metadata": {
  "kernelspec": {
   "display_name": "Python 2",
   "language": "python",
   "name": "python2"
  },
  "language_info": {
   "codemirror_mode": {
    "name": "ipython",
    "version": 2
   },
   "file_extension": ".py",
   "mimetype": "text/x-python",
   "name": "python",
   "nbconvert_exporter": "python",
   "pygments_lexer": "ipython2",
   "version": "2.7.11"
  }
 },
 "nbformat": 4,
 "nbformat_minor": 0
}
