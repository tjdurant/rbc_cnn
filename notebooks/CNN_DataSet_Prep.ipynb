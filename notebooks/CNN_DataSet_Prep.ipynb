{
 "cells": [
  {
   "cell_type": "code",
   "execution_count": 1,
   "metadata": {
    "collapsed": false
   },
   "outputs": [],
   "source": [
    "import os\n",
    "import numpy as np\n",
    "import pandas as pd\n",
    "import hickle\n",
    "\n",
    "from PIL import Image\n",
    "\n",
    "import matplotlib.pyplot as plt\n",
    "%matplotlib inline\n",
    "\n",
    "\n",
    "# Set working directory\n",
    "DATA_DIR = 'C:/Users/thoma/Documents/00GitHub/rbc_cnn/'\n",
    "# Set image directory which is off of GitHub\n",
    "IMG_DIR = 'C:/Users/thoma/Documents/00GitHub/00_LOCAL_ONLY/Cellavision_Trial_images/Test3_AltFebruary/'\n",
    "\n",
    "\n",
    "# Not sure what this pickle is\n",
    "df = pd.read_pickle(DATA_DIR + 'notebooks/classifications.df.pkl')\n",
    "\n",
    "\n",
    "# {1L: 'Normal', 2L: 'Abnormal'}\n",
    "label_index = pd.read_csv(DATA_DIR + 'notebooks/label_index.csv')\n",
    "label_index.reset_index()\n",
    "classdict = {k:v for __, (k,v) in label_index.iterrows()}\n",
    "\n",
    "data = df.reset_index()\n",
    "data = data.rename(columns={'index': 'event'})\n",
    "\n",
    "\n",
    "def get_image(n):\n",
    "    return Image.open(IMG_DIR + 'rbcs/{}'.format(n))\n",
    "\n",
    "def thumb(n):\n",
    "\ttry:\n",
    "\t\treturn Image.open(IMG_DIR + 'rbcs/{}'.format(n))\n",
    "\texcept:\n",
    "\t\treturn Image.open(IMG_DIR + 'mosaic/images/Normal/{}.png'.format(n))"
   ]
  },
  {
   "cell_type": "code",
   "execution_count": 2,
   "metadata": {
    "collapsed": false
   },
   "outputs": [],
   "source": [
    "# http://stackoverflow.com/questions/15514593/importerror-no-module-named-when-trying-to-run-python-script\n",
    "\n",
    "import sys\n",
    "sys.path.append('C:/Anaconda/Lib/site-packages')\n",
    "\n",
    "import cv2\n",
    "import PIL\n",
    "\n",
    "# 2843 TOTAL CELLS"
   ]
  },
  {
   "cell_type": "code",
   "execution_count": 3,
   "metadata": {
    "collapsed": false
   },
   "outputs": [],
   "source": [
    "# Set DATA directory\n",
    "CSV_DIR = 'C:/Users/thoma/Documents/00GitHub/rbc_cnn/csv/'\n",
    "path =r'C:\\Users\\thoma\\Documents\\00GitHub\\rbc_cnn\\csv' # use your path\n",
    "\n",
    "def csv_to_dataFrame(path):\n",
    "    \n",
    "    # output csv\n",
    "    #fout=open(outputFile,\"a\")\n",
    "    i = 0 \n",
    "\n",
    "    for root, dirs, files in os.walk(path):\n",
    "        frame = pd.DataFrame()\n",
    "        list_ = []\n",
    "        for file_ in files:\n",
    "            csv_path = os.path.join(root, file_)\n",
    "            df = pd.read_csv(csv_path,index_col=0, header=0)\n",
    "            list_.append(df)\n",
    "        frame = pd.concat(list_)\n",
    "    frame = frame.reset_index(drop=True)\n",
    "    return frame\n"
   ]
  },
  {
   "cell_type": "code",
   "execution_count": 78,
   "metadata": {
    "collapsed": true
   },
   "outputs": [],
   "source": [
    "df.sort_values?"
   ]
  },
  {
   "cell_type": "code",
   "execution_count": 86,
   "metadata": {
    "collapsed": false
   },
   "outputs": [
    {
     "data": {
      "text/plain": [
       "254"
      ]
     },
     "execution_count": 86,
     "metadata": {},
     "output_type": "execute_result"
    }
   ],
   "source": [
    "z = df.ix[0]\n",
    "z.x"
   ]
  },
  {
   "cell_type": "code",
   "execution_count": 88,
   "metadata": {
    "collapsed": false
   },
   "outputs": [
    {
     "data": {
      "text/html": [
       "<div>\n",
       "<table border=\"1\" class=\"dataframe\">\n",
       "  <thead>\n",
       "    <tr style=\"text-align: right;\">\n",
       "      <th></th>\n",
       "      <th>annotator</th>\n",
       "      <th>image</th>\n",
       "      <th>label</th>\n",
       "      <th>pk</th>\n",
       "      <th>x</th>\n",
       "      <th>y</th>\n",
       "    </tr>\n",
       "  </thead>\n",
       "  <tbody>\n",
       "    <tr>\n",
       "      <th>0</th>\n",
       "      <td>tommy</td>\n",
       "      <td>752300778HV_001.jpg</td>\n",
       "      <td>NORMAL</td>\n",
       "      <td>958</td>\n",
       "      <td>17</td>\n",
       "      <td>2783</td>\n",
       "    </tr>\n",
       "    <tr>\n",
       "      <th>1</th>\n",
       "      <td>tommy</td>\n",
       "      <td>752300778HV_001.jpg</td>\n",
       "      <td>NORMAL</td>\n",
       "      <td>978</td>\n",
       "      <td>22</td>\n",
       "      <td>2327</td>\n",
       "    </tr>\n",
       "    <tr>\n",
       "      <th>2</th>\n",
       "      <td>tommy</td>\n",
       "      <td>752300778HV_001.jpg</td>\n",
       "      <td>NORMAL</td>\n",
       "      <td>977</td>\n",
       "      <td>22</td>\n",
       "      <td>2395</td>\n",
       "    </tr>\n",
       "    <tr>\n",
       "      <th>3</th>\n",
       "      <td>rick</td>\n",
       "      <td>Schitos2.jpg</td>\n",
       "      <td>Schistocyte</td>\n",
       "      <td>2759</td>\n",
       "      <td>23</td>\n",
       "      <td>836</td>\n",
       "    </tr>\n",
       "    <tr>\n",
       "      <th>4</th>\n",
       "      <td>rick</td>\n",
       "      <td>Schistos1.jpg</td>\n",
       "      <td>Schistocyte</td>\n",
       "      <td>2849</td>\n",
       "      <td>26</td>\n",
       "      <td>703</td>\n",
       "    </tr>\n",
       "  </tbody>\n",
       "</table>\n",
       "</div>"
      ],
      "text/plain": [
       "  annotator                image        label    pk   x     y\n",
       "0     tommy  752300778HV_001.jpg       NORMAL   958  17  2783\n",
       "1     tommy  752300778HV_001.jpg       NORMAL   978  22  2327\n",
       "2     tommy  752300778HV_001.jpg       NORMAL   977  22  2395\n",
       "3      rick         Schitos2.jpg  Schistocyte  2759  23   836\n",
       "4      rick        Schistos1.jpg  Schistocyte  2849  26   703"
      ]
     },
     "execution_count": 88,
     "metadata": {},
     "output_type": "execute_result"
    }
   ],
   "source": [
    "df = csv_to_dataFrame(CSV_DIR)\n",
    "df = df.sort_values(by=['x'], ascending=[True])\n",
    "df.reset_index(drop=True).head()"
   ]
  },
  {
   "cell_type": "code",
   "execution_count": 112,
   "metadata": {
    "collapsed": false
   },
   "outputs": [
    {
     "data": {
      "text/plain": [
       "annotator           tommy\n",
       "image        Ecchinos.jpg\n",
       "label          Echinocyte\n",
       "pk                   2591\n",
       "x                     254\n",
       "y                    1167\n",
       "Name: 0, dtype: object"
      ]
     },
     "execution_count": 112,
     "metadata": {},
     "output_type": "execute_result"
    }
   ],
   "source": [
    "df.ix[0]"
   ]
  },
  {
   "cell_type": "code",
   "execution_count": 120,
   "metadata": {
    "collapsed": false
   },
   "outputs": [
    {
     "data": {
      "text/plain": [
       "686"
      ]
     },
     "execution_count": 120,
     "metadata": {},
     "output_type": "execute_result"
    }
   ],
   "source": [
    "cell.x"
   ]
  },
  {
   "cell_type": "code",
   "execution_count": 126,
   "metadata": {
    "collapsed": false
   },
   "outputs": [
    {
     "name": "stdout",
     "output_type": "stream",
     "text": [
      "0.346999883652\n",
      "70\n"
     ]
    }
   ],
   "source": [
    "import time\n",
    "i = 0\n",
    "index = 0\n",
    "start = time.time()\n",
    "     \n",
    "x = cell.x\n",
    "\n",
    "for s in range(len(df)):\n",
    "    second_cell = df.ix[s]\n",
    "    if second_cell.x in range(x-30, x+30):\n",
    "        i += 1\n",
    "        \n",
    "stop = time.time()\n",
    "print (stop - start)\n",
    "print i"
   ]
  },
  {
   "cell_type": "code",
   "execution_count": 127,
   "metadata": {
    "collapsed": false
   },
   "outputs": [
    {
     "name": "stdout",
     "output_type": "stream",
     "text": [
      "0.077999830246\n",
      "70\n"
     ]
    }
   ],
   "source": [
    "import time\n",
    "i = 0\n",
    "index = 0\n",
    "start = time.time()\n",
    "for x in df['x']:\n",
    "    index += 1\n",
    "    if x in range(cell.x-30,cell.x+30):\n",
    "        i += 1\n",
    "        \n",
    "stop = time.time()\n",
    "print (stop - start)\n",
    "print i\n",
    "        "
   ]
  },
  {
   "cell_type": "code",
   "execution_count": 6,
   "metadata": {
    "collapsed": false
   },
   "outputs": [
    {
     "data": {
      "text/plain": [
       "annotator           tommy\n",
       "image        Ecchinos.jpg\n",
       "label          Echinocyte\n",
       "pk                   2591\n",
       "x                     254\n",
       "y                    1167\n",
       "Name: 0, dtype: object"
      ]
     },
     "execution_count": 6,
     "metadata": {},
     "output_type": "execute_result"
    }
   ],
   "source": [
    "test = df.ix[0]\n",
    "test"
   ]
  },
  {
   "cell_type": "code",
   "execution_count": 11,
   "metadata": {
    "collapsed": false
   },
   "outputs": [
    {
     "data": {
      "text/plain": [
       "rick     1864\n",
       "tommy     978\n",
       "root        1\n",
       "Name: annotator, dtype: int64"
      ]
     },
     "execution_count": 11,
     "metadata": {},
     "output_type": "execute_result"
    }
   ],
   "source": [
    "df['annotator'].value_counts()"
   ]
  },
  {
   "cell_type": "code",
   "execution_count": 60,
   "metadata": {
    "collapsed": false
   },
   "outputs": [
    {
     "data": {
      "text/plain": [
       "annotator           tommy\n",
       "image        Ecchinos.jpg\n",
       "label          Echinocyte\n",
       "pk                   2592\n",
       "x                     686\n",
       "y                     978\n",
       "Name: 1, dtype: object"
      ]
     },
     "execution_count": 60,
     "metadata": {},
     "output_type": "execute_result"
    }
   ],
   "source": [
    "cell = df.ix[1]\n",
    "cell"
   ]
  },
  {
   "cell_type": "code",
   "execution_count": 36,
   "metadata": {
    "collapsed": false
   },
   "outputs": [
    {
     "name": "stdout",
     "output_type": "stream",
     "text": [
      "False\n"
     ]
    }
   ],
   "source": [
    "if cell.x in range(df.ix[1].x-30, df.ix[1].x+30):\n",
    "    print True\n",
    "else:\n",
    "    print False"
   ]
  },
  {
   "cell_type": "code",
   "execution_count": 67,
   "metadata": {
    "collapsed": false
   },
   "outputs": [
    {
     "data": {
      "text/html": [
       "<div>\n",
       "<table border=\"1\" class=\"dataframe\">\n",
       "  <thead>\n",
       "    <tr style=\"text-align: right;\">\n",
       "      <th></th>\n",
       "      <th>annotator</th>\n",
       "      <th>image</th>\n",
       "      <th>label</th>\n",
       "      <th>pk</th>\n",
       "      <th>x</th>\n",
       "      <th>y</th>\n",
       "    </tr>\n",
       "  </thead>\n",
       "  <tbody>\n",
       "    <tr>\n",
       "      <th>1</th>\n",
       "      <td>tommy</td>\n",
       "      <td>Ecchinos.jpg</td>\n",
       "      <td>Echinocyte</td>\n",
       "      <td>2592</td>\n",
       "      <td>686</td>\n",
       "      <td>978</td>\n",
       "    </tr>\n",
       "    <tr>\n",
       "      <th>0</th>\n",
       "      <td>tommy</td>\n",
       "      <td>Ecchinos.jpg</td>\n",
       "      <td>Echinocyte</td>\n",
       "      <td>2591</td>\n",
       "      <td>254</td>\n",
       "      <td>1167</td>\n",
       "    </tr>\n",
       "  </tbody>\n",
       "</table>\n",
       "</div>"
      ],
      "text/plain": [
       "  annotator         image       label    pk    x     y\n",
       "1     tommy  Ecchinos.jpg  Echinocyte  2592  686   978\n",
       "0     tommy  Ecchinos.jpg  Echinocyte  2591  254  1167"
      ]
     },
     "execution_count": 67,
     "metadata": {},
     "output_type": "execute_result"
    }
   ],
   "source": [
    "l = []\n",
    "l.append(cell)\n",
    "l.append(test)\n",
    "x = pd.DataFrame(l)\n",
    "x"
   ]
  },
  {
   "cell_type": "code",
   "execution_count": 40,
   "metadata": {
    "collapsed": false
   },
   "outputs": [
    {
     "name": "stdout",
     "output_type": "stream",
     "text": [
      "1 overlapping cells\n",
      "9 127\n",
      "2 overlapping cells\n",
      "12 142\n",
      "3 overlapping cells\n",
      "16 130\n",
      "4 overlapping cells\n",
      "17 129\n",
      "5 overlapping cells\n",
      "23 133\n"
     ]
    },
    {
     "ename": "KeyboardInterrupt",
     "evalue": "",
     "output_type": "error",
     "traceback": [
      "\u001b[1;31m---------------------------------------------------------------------------\u001b[0m",
      "\u001b[1;31mKeyboardInterrupt\u001b[0m                         Traceback (most recent call last)",
      "\u001b[1;32m<ipython-input-40-540abc59906b>\u001b[0m in \u001b[0;36m<module>\u001b[1;34m()\u001b[0m\n\u001b[0;32m     14\u001b[0m     \u001b[1;32mfor\u001b[0m \u001b[0ms\u001b[0m \u001b[1;32min\u001b[0m \u001b[0mrange\u001b[0m\u001b[1;33m(\u001b[0m\u001b[0mlen\u001b[0m\u001b[1;33m(\u001b[0m\u001b[0mdf\u001b[0m\u001b[1;33m)\u001b[0m\u001b[1;33m)\u001b[0m\u001b[1;33m:\u001b[0m\u001b[1;33m\u001b[0m\u001b[0m\n\u001b[0;32m     15\u001b[0m \u001b[1;33m\u001b[0m\u001b[0m\n\u001b[1;32m---> 16\u001b[1;33m         \u001b[0msecond_cell\u001b[0m \u001b[1;33m=\u001b[0m \u001b[0mdf\u001b[0m\u001b[1;33m.\u001b[0m\u001b[0mix\u001b[0m\u001b[1;33m[\u001b[0m\u001b[0ms\u001b[0m\u001b[1;33m]\u001b[0m\u001b[1;33m\u001b[0m\u001b[0m\n\u001b[0m\u001b[0;32m     17\u001b[0m         \u001b[0mfor2\u001b[0m \u001b[1;33m+=\u001b[0m \u001b[1;36m1\u001b[0m\u001b[1;33m\u001b[0m\u001b[0m\n\u001b[0;32m     18\u001b[0m \u001b[1;33m\u001b[0m\u001b[0m\n",
      "\u001b[1;32mc:\\anaconda\\envs\\bighead\\lib\\site-packages\\pandas\\core\\indexing.pyc\u001b[0m in \u001b[0;36m__getitem__\u001b[1;34m(self, key)\u001b[0m\n\u001b[0;32m     68\u001b[0m             \u001b[1;32mreturn\u001b[0m \u001b[0mself\u001b[0m\u001b[1;33m.\u001b[0m\u001b[0m_getitem_tuple\u001b[0m\u001b[1;33m(\u001b[0m\u001b[0mkey\u001b[0m\u001b[1;33m)\u001b[0m\u001b[1;33m\u001b[0m\u001b[0m\n\u001b[0;32m     69\u001b[0m         \u001b[1;32melse\u001b[0m\u001b[1;33m:\u001b[0m\u001b[1;33m\u001b[0m\u001b[0m\n\u001b[1;32m---> 70\u001b[1;33m             \u001b[1;32mreturn\u001b[0m \u001b[0mself\u001b[0m\u001b[1;33m.\u001b[0m\u001b[0m_getitem_axis\u001b[0m\u001b[1;33m(\u001b[0m\u001b[0mkey\u001b[0m\u001b[1;33m,\u001b[0m \u001b[0maxis\u001b[0m\u001b[1;33m=\u001b[0m\u001b[1;36m0\u001b[0m\u001b[1;33m)\u001b[0m\u001b[1;33m\u001b[0m\u001b[0m\n\u001b[0m\u001b[0;32m     71\u001b[0m \u001b[1;33m\u001b[0m\u001b[0m\n\u001b[0;32m     72\u001b[0m     \u001b[1;32mdef\u001b[0m \u001b[0m_get_label\u001b[0m\u001b[1;33m(\u001b[0m\u001b[0mself\u001b[0m\u001b[1;33m,\u001b[0m \u001b[0mlabel\u001b[0m\u001b[1;33m,\u001b[0m \u001b[0maxis\u001b[0m\u001b[1;33m=\u001b[0m\u001b[1;36m0\u001b[0m\u001b[1;33m)\u001b[0m\u001b[1;33m:\u001b[0m\u001b[1;33m\u001b[0m\u001b[0m\n",
      "\u001b[1;32mc:\\anaconda\\envs\\bighead\\lib\\site-packages\\pandas\\core\\indexing.pyc\u001b[0m in \u001b[0;36m_getitem_axis\u001b[1;34m(self, key, axis)\u001b[0m\n\u001b[0;32m    936\u001b[0m                     \u001b[1;32mreturn\u001b[0m \u001b[0mself\u001b[0m\u001b[1;33m.\u001b[0m\u001b[0m_get_loc\u001b[0m\u001b[1;33m(\u001b[0m\u001b[0mkey\u001b[0m\u001b[1;33m,\u001b[0m \u001b[0maxis\u001b[0m\u001b[1;33m=\u001b[0m\u001b[0maxis\u001b[0m\u001b[1;33m)\u001b[0m\u001b[1;33m\u001b[0m\u001b[0m\n\u001b[0;32m    937\u001b[0m \u001b[1;33m\u001b[0m\u001b[0m\n\u001b[1;32m--> 938\u001b[1;33m             \u001b[1;32mreturn\u001b[0m \u001b[0mself\u001b[0m\u001b[1;33m.\u001b[0m\u001b[0m_get_label\u001b[0m\u001b[1;33m(\u001b[0m\u001b[0mkey\u001b[0m\u001b[1;33m,\u001b[0m \u001b[0maxis\u001b[0m\u001b[1;33m=\u001b[0m\u001b[0maxis\u001b[0m\u001b[1;33m)\u001b[0m\u001b[1;33m\u001b[0m\u001b[0m\n\u001b[0m\u001b[0;32m    939\u001b[0m \u001b[1;33m\u001b[0m\u001b[0m\n\u001b[0;32m    940\u001b[0m     \u001b[1;32mdef\u001b[0m \u001b[0m_getitem_iterable\u001b[0m\u001b[1;33m(\u001b[0m\u001b[0mself\u001b[0m\u001b[1;33m,\u001b[0m \u001b[0mkey\u001b[0m\u001b[1;33m,\u001b[0m \u001b[0maxis\u001b[0m\u001b[1;33m=\u001b[0m\u001b[1;36m0\u001b[0m\u001b[1;33m)\u001b[0m\u001b[1;33m:\u001b[0m\u001b[1;33m\u001b[0m\u001b[0m\n",
      "\u001b[1;32mc:\\anaconda\\envs\\bighead\\lib\\site-packages\\pandas\\core\\indexing.pyc\u001b[0m in \u001b[0;36m_get_label\u001b[1;34m(self, label, axis)\u001b[0m\n\u001b[0;32m     84\u001b[0m             \u001b[1;32mraise\u001b[0m \u001b[0mIndexingError\u001b[0m\u001b[1;33m(\u001b[0m\u001b[1;34m'no slices here, handle elsewhere'\u001b[0m\u001b[1;33m)\u001b[0m\u001b[1;33m\u001b[0m\u001b[0m\n\u001b[0;32m     85\u001b[0m \u001b[1;33m\u001b[0m\u001b[0m\n\u001b[1;32m---> 86\u001b[1;33m         \u001b[1;32mreturn\u001b[0m \u001b[0mself\u001b[0m\u001b[1;33m.\u001b[0m\u001b[0mobj\u001b[0m\u001b[1;33m.\u001b[0m\u001b[0m_xs\u001b[0m\u001b[1;33m(\u001b[0m\u001b[0mlabel\u001b[0m\u001b[1;33m,\u001b[0m \u001b[0maxis\u001b[0m\u001b[1;33m=\u001b[0m\u001b[0maxis\u001b[0m\u001b[1;33m)\u001b[0m\u001b[1;33m\u001b[0m\u001b[0m\n\u001b[0m\u001b[0;32m     87\u001b[0m \u001b[1;33m\u001b[0m\u001b[0m\n\u001b[0;32m     88\u001b[0m     \u001b[1;32mdef\u001b[0m \u001b[0m_get_loc\u001b[0m\u001b[1;33m(\u001b[0m\u001b[0mself\u001b[0m\u001b[1;33m,\u001b[0m \u001b[0mkey\u001b[0m\u001b[1;33m,\u001b[0m \u001b[0maxis\u001b[0m\u001b[1;33m=\u001b[0m\u001b[1;36m0\u001b[0m\u001b[1;33m)\u001b[0m\u001b[1;33m:\u001b[0m\u001b[1;33m\u001b[0m\u001b[0m\n",
      "\u001b[1;32mc:\\anaconda\\envs\\bighead\\lib\\site-packages\\pandas\\core\\generic.pyc\u001b[0m in \u001b[0;36mxs\u001b[1;34m(self, key, axis, level, copy, drop_level)\u001b[0m\n\u001b[0;32m   1511\u001b[0m                             \u001b[0mname\u001b[0m\u001b[1;33m=\u001b[0m\u001b[0mself\u001b[0m\u001b[1;33m.\u001b[0m\u001b[0mindex\u001b[0m\u001b[1;33m[\u001b[0m\u001b[0mloc\u001b[0m\u001b[1;33m]\u001b[0m\u001b[1;33m,\u001b[0m\u001b[1;33m\u001b[0m\u001b[0m\n\u001b[0;32m   1512\u001b[0m                             \u001b[0mcopy\u001b[0m\u001b[1;33m=\u001b[0m\u001b[0mcopy\u001b[0m\u001b[1;33m,\u001b[0m\u001b[1;33m\u001b[0m\u001b[0m\n\u001b[1;32m-> 1513\u001b[1;33m                             dtype=new_values.dtype)\n\u001b[0m\u001b[0;32m   1514\u001b[0m \u001b[1;33m\u001b[0m\u001b[0m\n\u001b[0;32m   1515\u001b[0m         \u001b[1;32melse\u001b[0m\u001b[1;33m:\u001b[0m\u001b[1;33m\u001b[0m\u001b[0m\n",
      "\u001b[1;32mc:\\anaconda\\envs\\bighead\\lib\\site-packages\\pandas\\core\\series.pyc\u001b[0m in \u001b[0;36m__init__\u001b[1;34m(self, data, index, dtype, name, copy, fastpath)\u001b[0m\n\u001b[0;32m    217\u001b[0m             \u001b[1;32melse\u001b[0m\u001b[1;33m:\u001b[0m\u001b[1;33m\u001b[0m\u001b[0m\n\u001b[0;32m    218\u001b[0m                 data = _sanitize_array(data, index, dtype, copy,\n\u001b[1;32m--> 219\u001b[1;33m                                        raise_cast_failure=True)\n\u001b[0m\u001b[0;32m    220\u001b[0m \u001b[1;33m\u001b[0m\u001b[0m\n\u001b[0;32m    221\u001b[0m                 \u001b[0mdata\u001b[0m \u001b[1;33m=\u001b[0m \u001b[0mSingleBlockManager\u001b[0m\u001b[1;33m(\u001b[0m\u001b[0mdata\u001b[0m\u001b[1;33m,\u001b[0m \u001b[0mindex\u001b[0m\u001b[1;33m,\u001b[0m \u001b[0mfastpath\u001b[0m\u001b[1;33m=\u001b[0m\u001b[0mTrue\u001b[0m\u001b[1;33m)\u001b[0m\u001b[1;33m\u001b[0m\u001b[0m\n",
      "\u001b[1;32mc:\\anaconda\\envs\\bighead\\lib\\site-packages\\pandas\\core\\series.pyc\u001b[0m in \u001b[0;36m_sanitize_array\u001b[1;34m(data, index, dtype, copy, raise_cast_failure)\u001b[0m\n\u001b[0;32m   2759\u001b[0m                     \u001b[0msubarr\u001b[0m \u001b[1;33m=\u001b[0m \u001b[0mdata\u001b[0m\u001b[1;33m.\u001b[0m\u001b[0mcopy\u001b[0m\u001b[1;33m(\u001b[0m\u001b[1;33m)\u001b[0m\u001b[1;33m\u001b[0m\u001b[0m\n\u001b[0;32m   2760\u001b[0m             \u001b[1;32melse\u001b[0m\u001b[1;33m:\u001b[0m\u001b[1;33m\u001b[0m\u001b[0m\n\u001b[1;32m-> 2761\u001b[1;33m                 \u001b[0msubarr\u001b[0m \u001b[1;33m=\u001b[0m \u001b[0m_try_cast\u001b[0m\u001b[1;33m(\u001b[0m\u001b[0mdata\u001b[0m\u001b[1;33m,\u001b[0m \u001b[0mTrue\u001b[0m\u001b[1;33m)\u001b[0m\u001b[1;33m\u001b[0m\u001b[0m\n\u001b[0m\u001b[0;32m   2762\u001b[0m         \u001b[1;32melif\u001b[0m \u001b[0misinstance\u001b[0m\u001b[1;33m(\u001b[0m\u001b[0mdata\u001b[0m\u001b[1;33m,\u001b[0m \u001b[0mIndex\u001b[0m\u001b[1;33m)\u001b[0m\u001b[1;33m:\u001b[0m\u001b[1;33m\u001b[0m\u001b[0m\n\u001b[0;32m   2763\u001b[0m             \u001b[1;31m# don't coerce Index types\u001b[0m\u001b[1;33m\u001b[0m\u001b[1;33m\u001b[0m\u001b[0m\n",
      "\u001b[1;32mc:\\anaconda\\envs\\bighead\\lib\\site-packages\\pandas\\core\\series.pyc\u001b[0m in \u001b[0;36m_try_cast\u001b[1;34m(arr, take_fast_path)\u001b[0m\n\u001b[0;32m   2735\u001b[0m         \u001b[1;32mtry\u001b[0m\u001b[1;33m:\u001b[0m\u001b[1;33m\u001b[0m\u001b[0m\n\u001b[0;32m   2736\u001b[0m             \u001b[0msubarr\u001b[0m \u001b[1;33m=\u001b[0m \u001b[0m_possibly_cast_to_datetime\u001b[0m\u001b[1;33m(\u001b[0m\u001b[0marr\u001b[0m\u001b[1;33m,\u001b[0m \u001b[0mdtype\u001b[0m\u001b[1;33m)\u001b[0m\u001b[1;33m\u001b[0m\u001b[0m\n\u001b[1;32m-> 2737\u001b[1;33m             \u001b[1;32mif\u001b[0m \u001b[1;32mnot\u001b[0m \u001b[0mis_internal_type\u001b[0m\u001b[1;33m(\u001b[0m\u001b[0msubarr\u001b[0m\u001b[1;33m)\u001b[0m\u001b[1;33m:\u001b[0m\u001b[1;33m\u001b[0m\u001b[0m\n\u001b[0m\u001b[0;32m   2738\u001b[0m                 \u001b[0msubarr\u001b[0m \u001b[1;33m=\u001b[0m \u001b[0mnp\u001b[0m\u001b[1;33m.\u001b[0m\u001b[0marray\u001b[0m\u001b[1;33m(\u001b[0m\u001b[0msubarr\u001b[0m\u001b[1;33m,\u001b[0m \u001b[0mdtype\u001b[0m\u001b[1;33m=\u001b[0m\u001b[0mdtype\u001b[0m\u001b[1;33m,\u001b[0m \u001b[0mcopy\u001b[0m\u001b[1;33m=\u001b[0m\u001b[0mcopy\u001b[0m\u001b[1;33m)\u001b[0m\u001b[1;33m\u001b[0m\u001b[0m\n\u001b[0;32m   2739\u001b[0m         \u001b[1;32mexcept\u001b[0m \u001b[1;33m(\u001b[0m\u001b[0mValueError\u001b[0m\u001b[1;33m,\u001b[0m \u001b[0mTypeError\u001b[0m\u001b[1;33m)\u001b[0m\u001b[1;33m:\u001b[0m\u001b[1;33m\u001b[0m\u001b[0m\n",
      "\u001b[1;31mKeyboardInterrupt\u001b[0m: "
     ]
    }
   ],
   "source": [
    "\"remove double labeled cells\"\n",
    "i = 0\n",
    "for1 = 0\n",
    "for2 = 0\n",
    "missedByY = 0\n",
    "\n",
    "for n in range(len(df)):\n",
    "    \n",
    "\n",
    "    cell = df.ix[n]\n",
    "    for1 += 1\n",
    "\n",
    "    # compare cell to at each \"second_cell\" in df \n",
    "    for s in range(len(df)):\n",
    "\n",
    "        second_cell = df.ix[s]\n",
    "        for2 += 1\n",
    "\n",
    "        # if annotators are same; ignore\n",
    "        if cell.annotator == second_cell.annotator:\n",
    "            continue\n",
    "        else:\n",
    "            # if smear images are not same; ignore\n",
    "            if cell.image != second_cell.image:\n",
    "                continue\n",
    "\n",
    "            # if x is within range of other cell\n",
    "            elif cell.x in range(second_cell.x-30, second_cell.x+30):\n",
    "                # and y is within range of other cell\n",
    "                # same annotator, same image, similar coordinates\n",
    "                if cell.y in range(second_cell.y-30, second_cell.y+30):\n",
    "                    i += 1\n",
    "                    print \"{} overlapping cells\".format(i)\n",
    "                    cIx = n\n",
    "                    sIx = s\n",
    "                    print n, s\n",
    "                    break\n",
    "                else:\n",
    "                    continue\n",
    "            else:\n",
    "                continue\n",
    " "
   ]
  },
  {
   "cell_type": "code",
   "execution_count": null,
   "metadata": {
    "collapsed": true
   },
   "outputs": [],
   "source": []
  },
  {
   "cell_type": "code",
   "execution_count": 36,
   "metadata": {
    "collapsed": false
   },
   "outputs": [
    {
     "data": {
      "text/html": [
       "<div>\n",
       "<table border=\"1\" class=\"dataframe\">\n",
       "  <thead>\n",
       "    <tr style=\"text-align: right;\">\n",
       "      <th></th>\n",
       "      <th>annotator</th>\n",
       "      <th>image</th>\n",
       "      <th>label</th>\n",
       "      <th>pk</th>\n",
       "      <th>x</th>\n",
       "      <th>y</th>\n",
       "    </tr>\n",
       "  </thead>\n",
       "  <tbody>\n",
       "    <tr>\n",
       "      <th>0</th>\n",
       "      <td>rick</td>\n",
       "      <td>752602451HV_001.jpg</td>\n",
       "      <td>NORMAL</td>\n",
       "      <td>11</td>\n",
       "      <td>1602</td>\n",
       "      <td>664</td>\n",
       "    </tr>\n",
       "    <tr>\n",
       "      <th>1</th>\n",
       "      <td>rick</td>\n",
       "      <td>752602451HV_001.jpg</td>\n",
       "      <td>NORMAL</td>\n",
       "      <td>12</td>\n",
       "      <td>1642</td>\n",
       "      <td>597</td>\n",
       "    </tr>\n",
       "    <tr>\n",
       "      <th>2</th>\n",
       "      <td>rick</td>\n",
       "      <td>752602451HV_001.jpg</td>\n",
       "      <td>NORMAL</td>\n",
       "      <td>13</td>\n",
       "      <td>1664</td>\n",
       "      <td>652</td>\n",
       "    </tr>\n",
       "    <tr>\n",
       "      <th>3</th>\n",
       "      <td>rick</td>\n",
       "      <td>752602451HV_001.jpg</td>\n",
       "      <td>NORMAL</td>\n",
       "      <td>15</td>\n",
       "      <td>1551</td>\n",
       "      <td>728</td>\n",
       "    </tr>\n",
       "    <tr>\n",
       "      <th>4</th>\n",
       "      <td>rick</td>\n",
       "      <td>752602451HV_001.jpg</td>\n",
       "      <td>NORMAL</td>\n",
       "      <td>16</td>\n",
       "      <td>1551</td>\n",
       "      <td>679</td>\n",
       "    </tr>\n",
       "  </tbody>\n",
       "</table>\n",
       "</div>"
      ],
      "text/plain": [
       "  annotator                image   label  pk     x    y\n",
       "0      rick  752602451HV_001.jpg  NORMAL  11  1602  664\n",
       "1      rick  752602451HV_001.jpg  NORMAL  12  1642  597\n",
       "2      rick  752602451HV_001.jpg  NORMAL  13  1664  652\n",
       "3      rick  752602451HV_001.jpg  NORMAL  15  1551  728\n",
       "4      rick  752602451HV_001.jpg  NORMAL  16  1551  679"
      ]
     },
     "execution_count": 36,
     "metadata": {},
     "output_type": "execute_result"
    }
   ],
   "source": [
    "# Alter the original csv file so you can get the new XY\n",
    "# Start by loading in the new csv to dataframe\n",
    "\n",
    "# csvFile = DATA_DIR + 'dataset.csv'\n",
    "# classes = pd.read_csv(csvFile, index_col=0, parse_dates=True)\n",
    "# read in cell labels from Cell Label Tool \n",
    "classes = pd.read_csv(CSV_DIR + 'dataset.csv', index_col=0, parse_dates=True)\n",
    "\n",
    "#alt_february_files = pd.read_csv(DATA_DIR + 'alt_february_files.csv', index_col=0, parse_dates=True)\n",
    "classes.head()"
   ]
  },
  {
   "cell_type": "code",
   "execution_count": 4,
   "metadata": {
    "collapsed": false
   },
   "outputs": [
    {
     "data": {
      "text/plain": [
       "2218"
      ]
     },
     "execution_count": 4,
     "metadata": {},
     "output_type": "execute_result"
    }
   ],
   "source": [
    "# get rid of reject cells\n",
    "classes = classes[classes.label != 'Reject']\n",
    "classes = classes[classes.label != 'Abnormal']\n",
    "len(classes)"
   ]
  },
  {
   "cell_type": "code",
   "execution_count": 6,
   "metadata": {
    "collapsed": false,
    "scrolled": true
   },
   "outputs": [
    {
     "data": {
      "text/plain": [
       "NORMAL         714\n",
       "Target cell    702\n",
       "Schistocyte    253\n",
       "Echinocyte     185\n",
       "Spherocyte     100\n",
       "Dacrocyte       71\n",
       "Stomatocyte     68\n",
       "Acanthocyte     67\n",
       "Elliptocyte     58\n",
       "Name: label, dtype: int64"
      ]
     },
     "execution_count": 6,
     "metadata": {},
     "output_type": "execute_result"
    }
   ],
   "source": [
    "# counts the number of cells in each calss\n",
    "classes['label'].value_counts()"
   ]
  },
  {
   "cell_type": "code",
   "execution_count": 19,
   "metadata": {
    "collapsed": false
   },
   "outputs": [
    {
     "data": {
      "text/plain": [
       "2218"
      ]
     },
     "execution_count": 19,
     "metadata": {},
     "output_type": "execute_result"
    }
   ],
   "source": [
    "len(classes)"
   ]
  },
  {
   "cell_type": "code",
   "execution_count": 17,
   "metadata": {
    "collapsed": false
   },
   "outputs": [
    {
     "data": {
      "text/plain": [
       "annotator                   rick\n",
       "image        752900362HV_001.jpg\n",
       "label                Target cell\n",
       "pk                           320\n",
       "x                            672\n",
       "y                           1652\n",
       "Name: 264, dtype: object"
      ]
     },
     "execution_count": 17,
     "metadata": {},
     "output_type": "execute_result"
    }
   ],
   "source": [
    "cell = classes.ix[264]\n",
    "im = cv2.imread(\"C:/Users/thoma/Documents/00GitHub/00_LOCAL_ONLY/00RbcCNN_Sln_Images/752900362HV_001.jpg\")\n",
    "cell"
   ]
  },
  {
   "cell_type": "code",
   "execution_count": 18,
   "metadata": {
    "collapsed": false
   },
   "outputs": [
    {
     "data": {
      "text/plain": [
       "1652"
      ]
     },
     "execution_count": 18,
     "metadata": {},
     "output_type": "execute_result"
    }
   ],
   "source": [
    "cell.y"
   ]
  },
  {
   "cell_type": "code",
   "execution_count": 19,
   "metadata": {
    "collapsed": false
   },
   "outputs": [
    {
     "data": {
      "image/png": "[encoded data removed]",
      "text/plain": [
       "<PIL.Image.Image image mode=RGB size=60x60 at 0xBC93CF8>"
      ]
     },
     "execution_count": 19,
     "metadata": {},
     "output_type": "execute_result"
    }
   ],
   "source": [
    "new_x = cell.x - 30\n",
    "new_y = cell.y - 30\n",
    "new_w = 60\n",
    "new_h = 60\n",
    "\n",
    "croppedCell = im[new_y:new_y+new_h, new_x:new_x+new_w]\n",
    "pic = Image.fromarray(croppedCell)\n",
    "pic"
   ]
  },
  {
   "cell_type": "code",
   "execution_count": 20,
   "metadata": {
    "collapsed": false
   },
   "outputs": [
    {
     "data": {
      "image/png": "[encoded data removed]",
      "text/plain": [
       "<PIL.Image.Image image mode=RGB size=60x60 at 0xBC93DA0>"
      ]
     },
     "execution_count": 20,
     "metadata": {},
     "output_type": "execute_result"
    }
   ],
   "source": [
    "new_x = cell.x - 30\n",
    "new_y = cell.y - 30\n",
    "new_w = 60\n",
    "new_h = 60\n",
    "\n",
    "croppedCell2 = im[new_y:new_y+new_h, new_x:new_x+new_w]\n",
    "pic = Image.fromarray(croppedCell2)\n",
    "pic"
   ]
  },
  {
   "cell_type": "code",
   "execution_count": 11,
   "metadata": {
    "collapsed": false
   },
   "outputs": [
    {
     "data": {
      "text/plain": [
       "(60L, 60L, 3L)"
      ]
     },
     "execution_count": 11,
     "metadata": {},
     "output_type": "execute_result"
    }
   ],
   "source": [
    "croppedCell.shape"
   ]
  },
  {
   "cell_type": "code",
   "execution_count": 55,
   "metadata": {
    "collapsed": false
   },
   "outputs": [],
   "source": [
    "# gets byte array from smear image using xywh coordinates \n",
    "def getData(ind, dataframe, im):\n",
    "    # im = cv2.imread(IMG_DIR + dataframe.image[ind])\n",
    "    df = dataframe.ix[ind]\n",
    "    label = df.label\n",
    "    \n",
    "    new_x = df.x - 30\n",
    "    new_y = df.y - 30\n",
    "    new_w = 60\n",
    "    new_h = 60\n",
    "\n",
    "    croppedCell = im[new_y:new_y+new_h, new_x:new_x+new_w]\n",
    "\n",
    "    if croppedCell.shape == (60, 60, 3):\n",
    "        return croppedCell, label\n",
    "    "
   ]
  },
  {
   "cell_type": "code",
   "execution_count": 22,
   "metadata": {
    "collapsed": false
   },
   "outputs": [],
   "source": [
    "# get array data from smear with label\n",
    "# n = total number of cells \n",
    "\n",
    "def CreateLabelImageArrays(dataframe):\n",
    "    \n",
    "    # chunking counter\n",
    "    i = 0\n",
    "    \n",
    "    # byte array\n",
    "    X = []\n",
    "    # label array\n",
    "    Y = []\n",
    "    # not sure\n",
    "    IDs = []\n",
    "    \n",
    "    # iterates over image column of dataframe\n",
    "    for n in dataframe.image.iteritems():\n",
    "        \n",
    "        # this is the entire index object\n",
    "        index_obj = dataframe.ix[n[0]]\n",
    "        \n",
    "        # n[0] = index\n",
    "        index = n[0]\n",
    "\n",
    "        # get smear image array      \n",
    "        im = cv2.imread(IMG_DIR + dataframe.image[index])\n",
    "\n",
    "        try:\n",
    "            # pass index, dataframe, and image array to function\n",
    "            x, y = getData(index, dataframe, im)\n",
    "        except Exception, e:\n",
    "            #type, value, tb = sys.exc_info()\n",
    "            #traceback.print_exc()\n",
    "            print e\n",
    "            continue\n",
    "\n",
    "        X.append(x)\n",
    "        Y.append(y)\n",
    "        IDs.append(n)\n",
    "        \n",
    "        i += 1\n",
    "        \n",
    "        if i > 999:\n",
    "            \n",
    "            # individual cell byte arrays    \n",
    "            X = np.array(X)\n",
    "\n",
    "            # individual cell labels\n",
    "            Y = np.array(Y)\n",
    "\n",
    "            # individual cell associated smear files\n",
    "            IDs = np.array(IDs)\n",
    "\n",
    "            # create dictionary for arrays\n",
    "            d = {}\n",
    "            d['X'] = totalByteArray\n",
    "            d['y'] = totalLabelArray\n",
    "            \n",
    "            # hickle counter\n",
    "            hickleCount = 0\n",
    "            \n",
    "            # (X, Y) -- ((N,3,w,h), label)\n",
    "            hickle.dump(d, open('C:/Users/thoma/Documents/00GitHub/rbc_cnn/data/April{}.hkl'.format(hickleCount),'w'))\n",
    "            \n",
    "            hickleCount += 1\n",
    "            i = 0"
   ]
  },
  {
   "cell_type": "code",
   "execution_count": 83,
   "metadata": {
    "collapsed": false
   },
   "outputs": [],
   "source": [
    "# Get image arrays for test3 dataset\n",
    "#test3_image_arrays = CreateLabelImageArrays(classes)"
   ]
  },
  {
   "cell_type": "code",
   "execution_count": null,
   "metadata": {
    "collapsed": false
   },
   "outputs": [],
   "source": [
    "pic = Image.fromarray(test3_image_arrays[0][4])\n",
    "pic"
   ]
  },
  {
   "cell_type": "code",
   "execution_count": 23,
   "metadata": {
    "collapsed": false
   },
   "outputs": [],
   "source": [
    "test = {}\n",
    "hickleCount = 8\n",
    "for x in range(hickleCount):\n",
    "    test[\"hk{}\".format(x)] = hickle.load('C:/Users/thoma/Documents/00GitHub/rbc_cnn/data/April{}.hkl'.format(x))"
   ]
  },
  {
   "cell_type": "code",
   "execution_count": 24,
   "metadata": {
    "collapsed": true
   },
   "outputs": [],
   "source": [
    "# join cell byte arrays \n",
    "totalByteArray = np.concatenate((test['hk0']['X'], test['hk1']['X'], test['hk2']['X'], \n",
    "                                 test['hk3']['X'], test['hk4']['X'], test['hk5']['X'], \n",
    "                                 test['hk6']['X'], test['hk7']['X']))\n",
    "\n",
    "# join cell label arrays\n",
    "totalLabelArray = np.concatenate((test['hk0']['y'], test['hk1']['y'], test['hk2']['y'], \n",
    "                                 test['hk3']['y'], test['hk4']['y'], test['hk5']['y'], \n",
    "                                 test['hk6']['y'], test['hk7']['y']))\n"
   ]
  },
  {
   "cell_type": "code",
   "execution_count": 26,
   "metadata": {
    "collapsed": false
   },
   "outputs": [],
   "source": [
    "# create dictionary for arrays\n",
    "d = {}\n",
    "d['X'] = totalByteArray\n",
    "d['y'] = totalLabelArray"
   ]
  },
  {
   "cell_type": "code",
   "execution_count": 41,
   "metadata": {
    "collapsed": false
   },
   "outputs": [
    {
     "data": {
      "text/plain": [
       "18060"
      ]
     },
     "execution_count": 41,
     "metadata": {},
     "output_type": "execute_result"
    }
   ],
   "source": [
    "len(totalByteArray)"
   ]
  },
  {
   "cell_type": "code",
   "execution_count": 27,
   "metadata": {
    "collapsed": false
   },
   "outputs": [],
   "source": [
    "# (X, Y) -- ((N,3,w,h), label)\n",
    "hickle.dump(d, open('C:/Users/thoma/Documents/00GitHub/rbc_cnn/data/TotalHickle.hkl','w'))"
   ]
  },
  {
   "cell_type": "code",
   "execution_count": 42,
   "metadata": {
    "collapsed": true
   },
   "outputs": [],
   "source": [
    "hk = hickle.load('C:/Users/thoma/Documents/00GitHub/rbc_cnn/data/April2.hkl')"
   ]
  },
  {
   "cell_type": "code",
   "execution_count": 43,
   "metadata": {
    "collapsed": false
   },
   "outputs": [
    {
     "data": {
      "text/plain": [
       "2829"
      ]
     },
     "execution_count": 43,
     "metadata": {},
     "output_type": "execute_result"
    }
   ],
   "source": [
    "len(hk['X'])"
   ]
  },
  {
   "cell_type": "code",
   "execution_count": 50,
   "metadata": {
    "collapsed": false
   },
   "outputs": [
    {
     "data": {
      "image/png": "[encoded data removed]",
      "text/plain": [
       "<PIL.Image.Image image mode=RGB size=60x60 at 0xBF39160>"
      ]
     },
     "execution_count": 50,
     "metadata": {},
     "output_type": "execute_result"
    }
   ],
   "source": [
    "pic = Image.fromarray(hk['X'][240])\n",
    "pic\n"
   ]
  },
  {
   "cell_type": "code",
   "execution_count": 53,
   "metadata": {
    "collapsed": false
   },
   "outputs": [
    {
     "data": {
      "text/plain": [
       "'Schistocyte'"
      ]
     },
     "execution_count": 53,
     "metadata": {},
     "output_type": "execute_result"
    }
   ],
   "source": [
    "hk['y'][240]"
   ]
  }
 ],
 "metadata": {
  "kernelspec": {
   "display_name": "Python 2",
   "language": "python",
   "name": "python2"
  },
  "language_info": {
   "codemirror_mode": {
    "name": "ipython",
    "version": 2
   },
   "file_extension": ".py",
   "mimetype": "text/x-python",
   "name": "python",
   "nbconvert_exporter": "python",
   "pygments_lexer": "ipython2",
   "version": "2.7.11"
  }
 },
 "nbformat": 4,
 "nbformat_minor": 0
}
