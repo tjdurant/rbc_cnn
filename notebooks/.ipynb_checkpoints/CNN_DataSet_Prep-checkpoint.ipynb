{
 "cells": [
  {
   "cell_type": "code",
   "execution_count": 81,
   "metadata": {
    "collapsed": false
   },
   "outputs": [],
   "source": [
    "import os\n",
    "import numpy as np\n",
    "import pandas as pd\n",
    "import hickle\n",
    "\n",
    "from PIL import Image\n",
    "\n",
    "import matplotlib.pyplot as plt\n",
    "%matplotlib inline\n",
    "\n",
    "\n",
    "# Set working directory\n",
    "DATA_DIR = 'C:/Users/thoma/Documents/00GitHub/rbc_cnn/'\n",
    "# Set image directory which is off of GitHub\n",
    "IMG_DIR = 'C:/Users/thoma/Documents/00GitHub/00_LOCAL_ONLY/Cellavision_Trial_images/Test3_AltFebruary/'\n",
    "\n",
    "\n",
    "# Not sure what this pickle is\n",
    "df = pd.read_pickle(DATA_DIR + 'notebooks/classifications.df.pkl')\n",
    "\n",
    "\n",
    "# {1L: 'Normal', 2L: 'Abnormal'}\n",
    "label_index = pd.read_csv(DATA_DIR + 'notebooks/label_index.csv')\n",
    "label_index.reset_index()\n",
    "classdict = {k:v for __, (k,v) in label_index.iterrows()}\n",
    "\n",
    "data = df.reset_index()\n",
    "data = data.rename(columns={'index': 'event'})\n",
    "\n",
    "\n",
    "def get_image(n):\n",
    "    return Image.open(IMG_DIR + 'rbcs/{}'.format(n))\n",
    "\n",
    "def thumb(n):\n",
    "\ttry:\n",
    "\t\treturn Image.open(IMG_DIR + 'rbcs/{}'.format(n))\n",
    "\texcept:\n",
    "\t\treturn Image.open(IMG_DIR + 'mosaic/images/Normal/{}.png'.format(n))"
   ]
  },
  {
   "cell_type": "code",
   "execution_count": 4,
   "metadata": {
    "collapsed": false
   },
   "outputs": [],
   "source": [
    "# http://stackoverflow.com/questions/15514593/importerror-no-module-named-when-trying-to-run-python-script\n",
    "\n",
    "import sys\n",
    "sys.path.append('C:/Anaconda/Lib/site-packages')\n",
    "\n",
    "import cv2\n",
    "import PIL\n"
   ]
  },
  {
   "cell_type": "code",
   "execution_count": 5,
   "metadata": {
    "collapsed": false
   },
   "outputs": [
    {
     "data": {
      "text/html": [
       "<div>\n",
       "<table border=\"1\" class=\"dataframe\">\n",
       "  <thead>\n",
       "    <tr style=\"text-align: right;\">\n",
       "      <th></th>\n",
       "      <th>annotator</th>\n",
       "      <th>cell</th>\n",
       "      <th>h</th>\n",
       "      <th>image</th>\n",
       "      <th>label</th>\n",
       "      <th>pk</th>\n",
       "      <th>w</th>\n",
       "      <th>x</th>\n",
       "      <th>y</th>\n",
       "    </tr>\n",
       "  </thead>\n",
       "  <tbody>\n",
       "    <tr>\n",
       "      <th>0</th>\n",
       "      <td>tommy</td>\n",
       "      <td>75959</td>\n",
       "      <td>40</td>\n",
       "      <td>alt_59351.jpg</td>\n",
       "      <td>Schistocyte</td>\n",
       "      <td>3007</td>\n",
       "      <td>45</td>\n",
       "      <td>2183</td>\n",
       "      <td>1326</td>\n",
       "    </tr>\n",
       "    <tr>\n",
       "      <th>1</th>\n",
       "      <td>tommy</td>\n",
       "      <td>70553</td>\n",
       "      <td>40</td>\n",
       "      <td>alt_59591.jpg</td>\n",
       "      <td>Normal</td>\n",
       "      <td>3008</td>\n",
       "      <td>48</td>\n",
       "      <td>1615</td>\n",
       "      <td>968</td>\n",
       "    </tr>\n",
       "    <tr>\n",
       "      <th>2</th>\n",
       "      <td>tommy</td>\n",
       "      <td>40572</td>\n",
       "      <td>36</td>\n",
       "      <td>alt_62184.jpg</td>\n",
       "      <td>Normal</td>\n",
       "      <td>3009</td>\n",
       "      <td>37</td>\n",
       "      <td>1312</td>\n",
       "      <td>530</td>\n",
       "    </tr>\n",
       "    <tr>\n",
       "      <th>3</th>\n",
       "      <td>tommy</td>\n",
       "      <td>57384</td>\n",
       "      <td>55</td>\n",
       "      <td>alt_60381.jpg</td>\n",
       "      <td>Reject</td>\n",
       "      <td>3010</td>\n",
       "      <td>43</td>\n",
       "      <td>2592</td>\n",
       "      <td>1156</td>\n",
       "    </tr>\n",
       "    <tr>\n",
       "      <th>4</th>\n",
       "      <td>tommy</td>\n",
       "      <td>95179</td>\n",
       "      <td>47</td>\n",
       "      <td>alt_39177.jpg</td>\n",
       "      <td>Normal</td>\n",
       "      <td>3011</td>\n",
       "      <td>34</td>\n",
       "      <td>679</td>\n",
       "      <td>2826</td>\n",
       "    </tr>\n",
       "  </tbody>\n",
       "</table>\n",
       "</div>"
      ],
      "text/plain": [
       "  annotator   cell   h          image        label    pk   w     x     y\n",
       "0     tommy  75959  40  alt_59351.jpg  Schistocyte  3007  45  2183  1326\n",
       "1     tommy  70553  40  alt_59591.jpg       Normal  3008  48  1615   968\n",
       "2     tommy  40572  36  alt_62184.jpg       Normal  3009  37  1312   530\n",
       "3     tommy  57384  55  alt_60381.jpg       Reject  3010  43  2592  1156\n",
       "4     tommy  95179  47  alt_39177.jpg       Normal  3011  34   679  2826"
      ]
     },
     "execution_count": 5,
     "metadata": {},
     "output_type": "execute_result"
    }
   ],
   "source": [
    "# Alter the original csv file so you can get the new XY\n",
    "# Start by loading in the new csv to dataframe\n",
    "\n",
    "# csvFile = DATA_DIR + 'dataset.csv'\n",
    "# classes = pd.read_csv(csvFile, index_col=0, parse_dates=True)\n",
    "# read in cell labels from Cell Label Tool \n",
    "classes = pd.read_csv(DATA_DIR + 'Test3Dataset.csv', index_col=0, parse_dates=True)\n",
    "\n",
    "alt_february_files = pd.read_csv(DATA_DIR + 'alt_february_files.csv', index_col=0, parse_dates=True)\n",
    "alt_february_files.head()"
   ]
  },
  {
   "cell_type": "code",
   "execution_count": 6,
   "metadata": {
    "collapsed": false
   },
   "outputs": [
    {
     "data": {
      "text/plain": [
       "585"
      ]
     },
     "execution_count": 6,
     "metadata": {},
     "output_type": "execute_result"
    }
   ],
   "source": [
    "# get rid of reject cells\n",
    "classes = classes[classes.label != 'Reject']\n",
    "classes = classes[classes.label != 'Abnormal']\n",
    "len(classes)"
   ]
  },
  {
   "cell_type": "code",
   "execution_count": 7,
   "metadata": {
    "collapsed": false
   },
   "outputs": [
    {
     "data": {
      "text/html": [
       "<div>\n",
       "<table border=\"1\" class=\"dataframe\">\n",
       "  <thead>\n",
       "    <tr style=\"text-align: right;\">\n",
       "      <th></th>\n",
       "      <th>annotator</th>\n",
       "      <th>cell</th>\n",
       "      <th>h</th>\n",
       "      <th>image</th>\n",
       "      <th>label</th>\n",
       "      <th>pk</th>\n",
       "      <th>w</th>\n",
       "      <th>x</th>\n",
       "      <th>y</th>\n",
       "    </tr>\n",
       "  </thead>\n",
       "  <tbody>\n",
       "    <tr>\n",
       "      <th>0</th>\n",
       "      <td>tommy</td>\n",
       "      <td>114904</td>\n",
       "      <td>45</td>\n",
       "      <td>2.png</td>\n",
       "      <td>Normal</td>\n",
       "      <td>3378</td>\n",
       "      <td>44</td>\n",
       "      <td>2562</td>\n",
       "      <td>2731</td>\n",
       "    </tr>\n",
       "    <tr>\n",
       "      <th>1</th>\n",
       "      <td>tommy</td>\n",
       "      <td>109835</td>\n",
       "      <td>39</td>\n",
       "      <td>548.png</td>\n",
       "      <td>Normal</td>\n",
       "      <td>3379</td>\n",
       "      <td>39</td>\n",
       "      <td>1886</td>\n",
       "      <td>833</td>\n",
       "    </tr>\n",
       "    <tr>\n",
       "      <th>2</th>\n",
       "      <td>tommy</td>\n",
       "      <td>115021</td>\n",
       "      <td>50</td>\n",
       "      <td>2.png</td>\n",
       "      <td>Normal</td>\n",
       "      <td>3381</td>\n",
       "      <td>44</td>\n",
       "      <td>2104</td>\n",
       "      <td>2351</td>\n",
       "    </tr>\n",
       "    <tr>\n",
       "      <th>3</th>\n",
       "      <td>tommy</td>\n",
       "      <td>108124</td>\n",
       "      <td>38</td>\n",
       "      <td>548.png</td>\n",
       "      <td>Normal</td>\n",
       "      <td>3382</td>\n",
       "      <td>40</td>\n",
       "      <td>1033</td>\n",
       "      <td>2587</td>\n",
       "    </tr>\n",
       "    <tr>\n",
       "      <th>4</th>\n",
       "      <td>tommy</td>\n",
       "      <td>115680</td>\n",
       "      <td>40</td>\n",
       "      <td>2.png</td>\n",
       "      <td>Normal</td>\n",
       "      <td>3384</td>\n",
       "      <td>42</td>\n",
       "      <td>729</td>\n",
       "      <td>151</td>\n",
       "    </tr>\n",
       "  </tbody>\n",
       "</table>\n",
       "</div>"
      ],
      "text/plain": [
       "  annotator    cell   h    image   label    pk   w     x     y\n",
       "0     tommy  114904  45    2.png  Normal  3378  44  2562  2731\n",
       "1     tommy  109835  39  548.png  Normal  3379  39  1886   833\n",
       "2     tommy  115021  50    2.png  Normal  3381  44  2104  2351\n",
       "3     tommy  108124  38  548.png  Normal  3382  40  1033  2587\n",
       "4     tommy  115680  40    2.png  Normal  3384  42   729   151"
      ]
     },
     "execution_count": 7,
     "metadata": {},
     "output_type": "execute_result"
    }
   ],
   "source": [
    "# resets the index on the dataframe after the 'rejects' are dropped\n",
    "classes = classes.reset_index(drop=True)\n",
    "classes.head()"
   ]
  },
  {
   "cell_type": "code",
   "execution_count": 8,
   "metadata": {
    "collapsed": false
   },
   "outputs": [
    {
     "data": {
      "text/plain": [
       "Normal         471\n",
       "Echinocyte      50\n",
       "Dacrocyte       25\n",
       "Schistocyte     22\n",
       "Elliptocyte      9\n",
       "Acanthocyte      4\n",
       "Target Cell      4\n",
       "Name: label, dtype: int64"
      ]
     },
     "execution_count": 8,
     "metadata": {},
     "output_type": "execute_result"
    }
   ],
   "source": [
    "# counts the number of cells in each calss\n",
    "classes['label'].value_counts()"
   ]
  },
  {
   "cell_type": "code",
   "execution_count": 9,
   "metadata": {
    "collapsed": false
   },
   "outputs": [
    {
     "data": {
      "text/plain": [
       "Normal         521\n",
       "Echinocyte      72\n",
       "Schistocyte      8\n",
       "Dacrocyte        7\n",
       "Acanthocyte      4\n",
       "Elliptocyte      1\n",
       "Name: label, dtype: int64"
      ]
     },
     "execution_count": 9,
     "metadata": {},
     "output_type": "execute_result"
    }
   ],
   "source": [
    "# get rid of reject cells/reset index/show the rejects are gone\n",
    "alt_february_files = alt_february_files[alt_february_files.label != 'Reject']\n",
    "alt_february_files = alt_february_files[alt_february_files.label != 'Abnormal']\n",
    "alt_february_files = alt_february_files.reset_index(drop=True)\n",
    "alt_february_files['label'].value_counts()"
   ]
  },
  {
   "cell_type": "code",
   "execution_count": 73,
   "metadata": {
    "collapsed": false
   },
   "outputs": [
    {
     "data": {
      "text/plain": [
       "613"
      ]
     },
     "execution_count": 73,
     "metadata": {},
     "output_type": "execute_result"
    }
   ],
   "source": [
    "len(alt_february_files)"
   ]
  },
  {
   "cell_type": "code",
   "execution_count": 12,
   "metadata": {
    "collapsed": false
   },
   "outputs": [],
   "source": [
    "testImage = cv2.imread(IMG_DIR + classes.image[0])\n",
    "cv2.imshow(\"cropped\", testImage)\n",
    "cv2.waitKey(0)"
   ]
  },
  {
   "cell_type": "code",
   "execution_count": 74,
   "metadata": {
    "collapsed": false
   },
   "outputs": [],
   "source": [
    "# gets byte array from smear image using xywh coordinates \n",
    "def getdata(ind, dataframe, im):\n",
    "    # im = cv2.imread(IMG_DIR + dataframe.image[ind])\n",
    "    df = dataframe.ix[ind]\n",
    "    label = df.label\n",
    "    \n",
    "    x = df.x \n",
    "    y = df.y\n",
    "    w = df.w\n",
    "    h = df.h\n",
    "\n",
    "    cw = w/2\n",
    "    ch = h/2\n",
    "\n",
    "    new_x = (x+cw)-25\n",
    "    new_y = (y+ch)-25\n",
    "    new_w = 50\n",
    "    new_h = 50\n",
    "    \n",
    "    cropped = im[new_y:new_y+new_h, new_x:new_x+new_w]\n",
    "\n",
    "    if cropped.shape == (50, 50, 3):\n",
    "        return cropped, label\n",
    "\n",
    "    "
   ]
  },
  {
   "cell_type": "code",
   "execution_count": 75,
   "metadata": {
    "collapsed": false
   },
   "outputs": [],
   "source": [
    "# get array data from smear with label\n",
    "# n = total number of cells \n",
    "\n",
    "def CreateLabelImageArrays(dataframe):\n",
    "    \n",
    "    # byte array\n",
    "    X = []\n",
    "    # label array\n",
    "    Y = []\n",
    "    # not sure\n",
    "    IDs = []\n",
    "    \n",
    "    # iterates over image column of dataframe\n",
    "    for n in dataframe.image.iteritems():\n",
    "        \n",
    "        # this is the entire index object\n",
    "        index_obj = dataframe.ix[n[0]]\n",
    "        \n",
    "        # n[0] = index\n",
    "        index = n[0]\n",
    "\n",
    "        # get smear image array      \n",
    "        im = cv2.imread(IMG_DIR + dataframe.image[index])\n",
    "\n",
    "        try:\n",
    "            # pass index, dataframe, and image array to function\n",
    "            x, y = getdata(index, dataframe, im)\n",
    "        except Exception, e:\n",
    "            #type, value, tb = sys.exc_info()\n",
    "            #traceback.print_exc()\n",
    "            print e\n",
    "            continue\n",
    "\n",
    "        X.append(x)\n",
    "        Y.append(y)\n",
    "        IDs.append(n)\n",
    "\n",
    "    # individual cell byte arrays    \n",
    "    X = np.array(X)\n",
    "    \n",
    "    # individual cell labels\n",
    "    Y = np.array(Y)\n",
    "    \n",
    "    # individual cell associated smear files\n",
    "    IDs = np.array(IDs)\n",
    "\n",
    "    return X, Y, IDs"
   ]
  },
  {
   "cell_type": "code",
   "execution_count": 77,
   "metadata": {
    "collapsed": false
   },
   "outputs": [
    {
     "name": "stdout",
     "output_type": "stream",
     "text": [
      "'NoneType' object is not iterable\n",
      "'NoneType' object is not iterable\n"
     ]
    }
   ],
   "source": [
    "# Get image arrays for test3 dataset\n",
    "test3_image_arrays = CreateLabelImageArrays(classes)"
   ]
  },
  {
   "cell_type": "code",
   "execution_count": 90,
   "metadata": {
    "collapsed": false
   },
   "outputs": [
    {
     "data": {
      "image/png": "[encoded data removed]",
      "text/plain": [
       "<PIL.Image.Image image mode=RGB size=50x50 at 0xC6457F0>"
      ]
     },
     "execution_count": 90,
     "metadata": {},
     "output_type": "execute_result"
    }
   ],
   "source": [
    "pic = Image.fromarray(test3_image_arrays[0][4])\n",
    "pic"
   ]
  },
  {
   "cell_type": "code",
   "execution_count": 82,
   "metadata": {
    "collapsed": true
   },
   "outputs": [],
   "source": [
    "# Get image arrays for alt_february dataset\n",
    "alt_february_files_arrays = CreateLabelImageArrays(alt_february_files)"
   ]
  },
  {
   "cell_type": "code",
   "execution_count": 89,
   "metadata": {
    "collapsed": false
   },
   "outputs": [
    {
     "data": {
      "image/png": "[encoded data removed]",
      "text/plain": [
       "<PIL.Image.Image image mode=RGB size=50x50 at 0xC645748>"
      ]
     },
     "execution_count": 89,
     "metadata": {},
     "output_type": "execute_result"
    }
   ],
   "source": [
    "pic = Image.fromarray(alt_february_files_arrays[0][4])\n",
    "pic"
   ]
  },
  {
   "cell_type": "code",
   "execution_count": 110,
   "metadata": {
    "collapsed": false
   },
   "outputs": [],
   "source": [
    "# join cell byte arrays \n",
    "totalByteArray = np.concatenate((test3_image_arrays[0], alt_february_files_arrays[0]))\n",
    "\n",
    "# join cell label arrays\n",
    "totalLabelArray = np.concatenate((test3_image_arrays[1], alt_february_files_arrays[1]))"
   ]
  },
  {
   "cell_type": "code",
   "execution_count": 111,
   "metadata": {
    "collapsed": false
   },
   "outputs": [],
   "source": [
    "# create dictionary for arrays\n",
    "d = {}\n",
    "d['X'] = totalByteArray\n",
    "d['y'] = totalLabelArray"
   ]
  },
  {
   "cell_type": "code",
   "execution_count": 130,
   "metadata": {
    "collapsed": false
   },
   "outputs": [
    {
     "ename": "AttributeError",
     "evalue": "'numpy.ndarray' object has no attribute 'unique'",
     "output_type": "error",
     "traceback": [
      "\u001b[1;31m---------------------------------------------------------------------------\u001b[0m",
      "\u001b[1;31mAttributeError\u001b[0m                            Traceback (most recent call last)",
      "\u001b[1;32m<ipython-input-130-74de324841a8>\u001b[0m in \u001b[0;36m<module>\u001b[1;34m()\u001b[0m\n\u001b[1;32m----> 1\u001b[1;33m \u001b[0malt_february_files_arrays\u001b[0m\u001b[1;33m[\u001b[0m\u001b[1;36m1\u001b[0m\u001b[1;33m]\u001b[0m\u001b[1;33m.\u001b[0m\u001b[0munique\u001b[0m\u001b[1;33m(\u001b[0m\u001b[1;33m)\u001b[0m\u001b[1;33m\u001b[0m\u001b[0m\n\u001b[0m",
      "\u001b[1;31mAttributeError\u001b[0m: 'numpy.ndarray' object has no attribute 'unique'"
     ]
    }
   ],
   "source": [
    "alt_february_files_arrays[1].unique()"
   ]
  },
  {
   "cell_type": "code",
   "execution_count": 118,
   "metadata": {
    "collapsed": false
   },
   "outputs": [
    {
     "data": {
      "image/png": "[encoded data removed]",
      "text/plain": [
       "<PIL.Image.Image image mode=RGB size=50x50 at 0xC6984E0>"
      ]
     },
     "execution_count": 118,
     "metadata": {},
     "output_type": "execute_result"
    }
   ],
   "source": [
    "Image.fromarray(d['X'][0])\n"
   ]
  },
  {
   "cell_type": "code",
   "execution_count": 119,
   "metadata": {
    "collapsed": false
   },
   "outputs": [
    {
     "name": "stdout",
     "output_type": "stream",
     "text": [
      "dumping <type 'dict'> to file <HDF5 file \"dataset.hkl\" (mode r+)>\n"
     ]
    }
   ],
   "source": [
    "# (X, Y) -- ((N,3,w,h), label)\n",
    "hickle.dump(d, open('C:/Users/thoma/Documents/00GitHub/00_LOCAL_ONLY/Cellavision_Trial_images/Test3_AltFebruary/dataset.hkl','w'))"
   ]
  },
  {
   "cell_type": "code",
   "execution_count": 131,
   "metadata": {
    "collapsed": true
   },
   "outputs": [],
   "source": [
    "testDict = hickle.load('C:/Users/thoma/Documents/00GitHub/00_LOCAL_ONLY/rbc_cnn_sync/data/dataset_february.hkl')"
   ]
  },
  {
   "cell_type": "code",
   "execution_count": 136,
   "metadata": {
    "collapsed": false
   },
   "outputs": [
    {
     "data": {
      "image/png": "[encoded data removed]",
      "text/plain": [
       "<PIL.Image.Image image mode=RGB size=50x50 at 0xC698278>"
      ]
     },
     "execution_count": 136,
     "metadata": {},
     "output_type": "execute_result"
    }
   ],
   "source": [
    "Image.fromarray(testDict['X'][0])"
   ]
  }
 ],
 "metadata": {
  "kernelspec": {
   "display_name": "Python 2",
   "language": "python",
   "name": "python2"
  },
  "language_info": {
   "codemirror_mode": {
    "name": "ipython",
    "version": 2
   },
   "file_extension": ".py",
   "mimetype": "text/x-python",
   "name": "python",
   "nbconvert_exporter": "python",
   "pygments_lexer": "ipython2",
   "version": "2.7.10"
  }
 },
 "nbformat": 4,
 "nbformat_minor": 0
}
