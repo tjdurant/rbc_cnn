{
 "cells": [
  {
   "cell_type": "code",
   "execution_count": 1,
   "metadata": {
    "collapsed": true
   },
   "outputs": [],
   "source": [
    "import os\n",
    "import numpy as np\n",
    "import pandas as pd\n",
    "import hickle\n",
    "\n",
    "from PIL import Image\n",
    "\n",
    "import matplotlib.pyplot as plt\n",
    "%matplotlib inline\n",
    "\n",
    "\n",
    "# Set working directory\n",
    "DATA_DIR = 'C:/Users/thoma/Documents/00GitHub/rbc_cnn/data/'\n",
    "# Set image directory which is off of GitHub\n",
    "IMG_DIR_1 = 'C:/Users/thoma/Documents/00GitHub/00_LOCAL_ONLY/Cellavision_Trial_images/Test3_AltFebruary/'\n",
    "IMG_DIR_2 = 'C:/Users/thoma/Pictures/HemePictures/'\n",
    "\n",
    "WRONG_CSV = 'C:/Users/thoma/Documents/00GitHub/rbc_cnn/wrong_cell_csv/'\n",
    "WRONG_CELLS = 'C:/Users/thoma/Documents/00GitHub/rbc_cnn/wrong_cells/'"
   ]
  },
  {
   "cell_type": "code",
   "execution_count": 2,
   "metadata": {
    "collapsed": true
   },
   "outputs": [],
   "source": [
    "# http://stackoverflow.com/questions/15514593/importerror-no-module-named-when-trying-to-run-python-script\n",
    "\n",
    "import sys\n",
    "sys.path.append('C:/Anaconda/Lib/site-packages')\n",
    "\n",
    "import cv2\n",
    "import PIL"
   ]
  },
  {
   "cell_type": "code",
   "execution_count": 15,
   "metadata": {
    "collapsed": true
   },
   "outputs": [],
   "source": [
    "# Set DATA directory\n",
    "CSV_DIR = 'C:/Users/thoma/Documents/00GitHub/rbc_cnn/csv/'\n",
    "path =r'C:\\Users\\thoma\\Documents\\00GitHub\\rbc_cnn\\csv' # use your path\n",
    "\n",
    "def csv_to_dataFrame(path):\n",
    "    \n",
    "    # output csv\n",
    "    #fout=open(outputFile,\"a\")\n",
    "    i = 0 \n",
    "\n",
    "    for root, dirs, files in os.walk(path):\n",
    "        frame = pd.DataFrame()\n",
    "        list_ = []\n",
    "        for file_ in files:\n",
    "            csv_path = os.path.join(root, file_)\n",
    "            df = pd.read_csv(csv_path,index_col=0, header=0)\n",
    "            list_.append(df)\n",
    "        frame = pd.concat(list_)\n",
    "    frame = frame.reset_index(drop=True)\n",
    "    return frame"
   ]
  },
  {
   "cell_type": "code",
   "execution_count": 16,
   "metadata": {
    "collapsed": false
   },
   "outputs": [],
   "source": [
    "df = csv_to_dataFrame(CSV_DIR)"
   ]
  },
  {
   "cell_type": "code",
   "execution_count": 6,
   "metadata": {
    "collapsed": false
   },
   "outputs": [
    {
     "data": {
      "text/plain": [
       "array([3479, 3003,  525,  716,  781, 2514,  507,  208,   67, 3576, 2321,\n",
       "        616,  695, 1970, 2653, 3492,  789, 3627, 1735, 2687,   10,  388,\n",
       "       3352, 1399,  794,  437,  514,  627])"
      ]
     },
     "execution_count": 6,
     "metadata": {},
     "output_type": "execute_result"
    }
   ],
   "source": [
    "wrong = np.genfromtxt(WRONG_CSV+'wrong.csv', delimiter=',',dtype=int)\n",
    "wrong"
   ]
  },
  {
   "cell_type": "code",
   "execution_count": 6,
   "metadata": {
    "collapsed": false
   },
   "outputs": [
    {
     "data": {
      "text/html": [
       "<div>\n",
       "<table border=\"1\" class=\"dataframe\">\n",
       "  <thead>\n",
       "    <tr style=\"text-align: right;\">\n",
       "      <th></th>\n",
       "      <th>correct_x</th>\n",
       "      <th>predicted_y</th>\n",
       "      <th>pk_value</th>\n",
       "    </tr>\n",
       "  </thead>\n",
       "  <tbody>\n",
       "    <tr>\n",
       "      <th>0</th>\n",
       "      <td>Echinocyte</td>\n",
       "      <td>NORMAL</td>\n",
       "      <td>2251</td>\n",
       "    </tr>\n",
       "    <tr>\n",
       "      <th>1</th>\n",
       "      <td>Elliptocyte</td>\n",
       "      <td>Schistocyte</td>\n",
       "      <td>3557</td>\n",
       "    </tr>\n",
       "    <tr>\n",
       "      <th>2</th>\n",
       "      <td>NORMAL</td>\n",
       "      <td>Echinocyte</td>\n",
       "      <td>3534</td>\n",
       "    </tr>\n",
       "    <tr>\n",
       "      <th>3</th>\n",
       "      <td>Schistocyte</td>\n",
       "      <td>Acanthocyte</td>\n",
       "      <td>627</td>\n",
       "    </tr>\n",
       "    <tr>\n",
       "      <th>4</th>\n",
       "      <td>Dacrocyte</td>\n",
       "      <td>Schistocyte</td>\n",
       "      <td>1399</td>\n",
       "    </tr>\n",
       "  </tbody>\n",
       "</table>\n",
       "</div>"
      ],
      "text/plain": [
       "     correct_x  predicted_y  pk_value\n",
       "0   Echinocyte       NORMAL      2251\n",
       "1  Elliptocyte  Schistocyte      3557\n",
       "2       NORMAL   Echinocyte      3534\n",
       "3  Schistocyte  Acanthocyte       627\n",
       "4    Dacrocyte  Schistocyte      1399"
      ]
     },
     "execution_count": 6,
     "metadata": {},
     "output_type": "execute_result"
    }
   ],
   "source": [
    "GROUPS = {\n",
    "        0:'NORMAL',\n",
    "        1:'Echinocyte',\n",
    "        2:'Dacrocyte',\n",
    "        3:'Schistocyte',\n",
    "        4:'Elliptocyte',\n",
    "        5:'Acanthocyte',\n",
    "        6:'Target cell',\n",
    "        7:'Stomatocyte',\n",
    "        8:'Spherocyte',\n",
    "        9:'Overlap'\n",
    "    }\n",
    "wrong_df = pd.DataFrame.from_csv(WRONG_CELLS+'wrong_cells_september.csv',index_col=None)\n",
    "for num in range(10):\n",
    "    wrong_df = wrong_df.replace(to_replace=num, value=GROUPS[num])\n",
    "wrong_df.head()"
   ]
  },
  {
   "cell_type": "code",
   "execution_count": 7,
   "metadata": {
    "collapsed": true
   },
   "outputs": [],
   "source": [
    "def wrong_image(dataframe):\n",
    "    \n",
    "    cropped_array = []\n",
    "    i = 0\n",
    "    \n",
    "    for x in range(len(wrong_df)):\n",
    "\n",
    "        correct_label = wrong_df.ix[x]['correct_x']\n",
    "        wrong_label = wrong_df.ix[x]['predicted_y']\n",
    "        pk_value = wrong_df.ix[x]['pk_value']\n",
    "        \n",
    "        cell_ix = df.ix[df['pk']==pk_value]\n",
    "        img = df.get_value(cell_ix.index[0], 'image')\n",
    "        path = \"C:/Users/thoma/Documents/00GitHub/00_LOCAL_ONLY/00RbcCNN_Sln_Images/{}\".format(img)\n",
    "        \n",
    "        im = cv2.imread(path)\n",
    "\n",
    "        # im = cv2.imread(imgPath) \n",
    "\n",
    "        x = df.get_value(cell_ix.index[0], 'x')\n",
    "        y = df.get_value(cell_ix.index[0], 'y')\n",
    "        label = df.get_value(cell_ix.index[0], 'label')\n",
    "        \n",
    "        new_x = x - 35\n",
    "        new_y = y - 35\n",
    "        new_w = 70\n",
    "        new_h = 70\n",
    "\n",
    "        try:\n",
    "            croppedCell = im[new_y:new_y+new_h, new_x:new_x+new_w]\n",
    "            cropped_array.append(croppedCell)\n",
    "            \n",
    "            ## save each object\n",
    "            cv2.imwrite(WRONG_CELLS+'september_1\\{}_{}_{}.jpg'.format(correct_label,wrong_label,pk_value), croppedCell)\n",
    "            \n",
    "        except Exception, e:\n",
    "            print e, img\n",
    "    return cropped_array\n",
    "\n",
    "    # pic = pic / 255        "
   ]
  },
  {
   "cell_type": "code",
   "execution_count": 17,
   "metadata": {
    "collapsed": false
   },
   "outputs": [
    {
     "name": "stdout",
     "output_type": "stream",
     "text": [
      "'NoneType' object has no attribute '__getitem__' Targets - 762601381HV_001.jpg\n",
      "'NoneType' object has no attribute '__getitem__' Schistocytes - 762501373HV_001.jpg\n"
     ]
    }
   ],
   "source": [
    "wrong_cells = wrong_image(wrong_df)"
   ]
  }
 ],
 "metadata": {
  "kernelspec": {
   "display_name": "Python 2",
   "language": "python",
   "name": "python2"
  },
  "language_info": {
   "codemirror_mode": {
    "name": "ipython",
    "version": 2
   },
   "file_extension": ".py",
   "mimetype": "text/x-python",
   "name": "python",
   "nbconvert_exporter": "python",
   "pygments_lexer": "ipython2",
   "version": "2.7.12"
  }
 },
 "nbformat": 4,
 "nbformat_minor": 0
}
