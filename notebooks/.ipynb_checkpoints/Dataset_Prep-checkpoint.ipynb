{
 "cells": [
  {
   "cell_type": "code",
   "execution_count": 1,
   "metadata": {
    "collapsed": false
   },
   "outputs": [
    {
     "name": "stderr",
     "output_type": "stream",
     "text": [
      "Vendor:  Continuum Analytics, Inc.\n",
      "Package: mkl\n",
      "Message: trial mode expires in 16 days\n"
     ]
    }
   ],
   "source": [
    "import os\n",
    "import numpy as np\n",
    "import pandas as pd\n",
    "\n",
    "from PIL import Image\n",
    "\n",
    "import matplotlib.pyplot as plt\n",
    "%matplotlib inline\n",
    "\n",
    "classes = pd.read_csv('C:/Users/thoma/Documents/00GitHub/rbc_cnn/dataset.csv')\n",
    "df = pd.read_pickle('classifications.df.pkl')\n",
    "\n",
    "DATA_DIR = 'C:/Users/thoma/Documents/00GitHub/rbc_cnn/'\n",
    "IMG_DIR = 'C:/Users/thoma/Documents/00GitHub/00_LOCAL_ONLY/Cellavision_Trial_images/rbcs/'\n",
    "\n",
    "classes = pd.read_csv(DATA_DIR + 'dataset.csv')\n",
    "df = pd.read_pickle(DATA_DIR + 'notebooks/classifications.df.pkl')\n",
    "\n",
    "\n",
    "# {1L: 'Normal', 2L: 'Abnormal'}\n",
    "label_index = pd.read_csv(DATA_DIR + 'notebooks/label_index.csv')\n",
    "label_index.reset_index()\n",
    "classdict = {k:v for __, (k,v) in label_index.iterrows()}\n",
    "\n",
    "\n",
    "data = df.reset_index()\n",
    "data = data.rename(columns={'index': 'event'})\n",
    "\n",
    "\n",
    "def get_image(n):\n",
    "    return Image.open(IMG_DIR + 'rbcs/{}'.format(n))\n",
    "\n",
    "def thumb(n):\n",
    "\ttry:\n",
    "\t\treturn Image.open(IMG_DIR + 'rbcs/{}'.format(n))\n",
    "\texcept:\n",
    "\t\treturn Image.open(IMG_DIR + 'mosaic/images/Normal/{}.png'.format(n))"
   ]
  },
  {
   "cell_type": "code",
   "execution_count": 2,
   "metadata": {
    "collapsed": false
   },
   "outputs": [],
   "source": [
    "# http://stackoverflow.com/questions/15514593/importerror-no-module-named-when-trying-to-run-python-script\n",
    "\n",
    "import sys\n",
    "sys.path.append('C:/Anaconda/Lib/site-packages')\n",
    "\n",
    "import cv2\n",
    "import PIL\n"
   ]
  },
  {
   "cell_type": "code",
   "execution_count": 3,
   "metadata": {
    "collapsed": false
   },
   "outputs": [
    {
     "data": {
      "text/html": [
       "<div>\n",
       "<table border=\"1\" class=\"dataframe\">\n",
       "  <thead>\n",
       "    <tr style=\"text-align: right;\">\n",
       "      <th></th>\n",
       "      <th>annotator</th>\n",
       "      <th>cell</th>\n",
       "      <th>h</th>\n",
       "      <th>image</th>\n",
       "      <th>label</th>\n",
       "      <th>pk</th>\n",
       "      <th>w</th>\n",
       "      <th>x</th>\n",
       "      <th>y</th>\n",
       "      <th>newX</th>\n",
       "      <th>newY</th>\n",
       "      <th>newW</th>\n",
       "      <th>newH</th>\n",
       "    </tr>\n",
       "  </thead>\n",
       "  <tbody>\n",
       "    <tr>\n",
       "      <th>0</th>\n",
       "      <td>tommy</td>\n",
       "      <td>588</td>\n",
       "      <td>40</td>\n",
       "      <td>681200836HV_002.jpg</td>\n",
       "      <td>Normal</td>\n",
       "      <td>127</td>\n",
       "      <td>42</td>\n",
       "      <td>2794</td>\n",
       "      <td>2216</td>\n",
       "      <td>2765.0</td>\n",
       "      <td>2186.0</td>\n",
       "      <td>100</td>\n",
       "      <td>100</td>\n",
       "    </tr>\n",
       "    <tr>\n",
       "      <th>1</th>\n",
       "      <td>tommy</td>\n",
       "      <td>588</td>\n",
       "      <td>40</td>\n",
       "      <td>681200836HV_002.jpg</td>\n",
       "      <td>Normal</td>\n",
       "      <td>128</td>\n",
       "      <td>42</td>\n",
       "      <td>2794</td>\n",
       "      <td>2216</td>\n",
       "      <td>2765.0</td>\n",
       "      <td>2186.0</td>\n",
       "      <td>100</td>\n",
       "      <td>100</td>\n",
       "    </tr>\n",
       "    <tr>\n",
       "      <th>7</th>\n",
       "      <td>tommy</td>\n",
       "      <td>1402</td>\n",
       "      <td>41</td>\n",
       "      <td>681200836HV_002.jpg</td>\n",
       "      <td>Normal</td>\n",
       "      <td>134</td>\n",
       "      <td>37</td>\n",
       "      <td>111</td>\n",
       "      <td>1333</td>\n",
       "      <td>79.5</td>\n",
       "      <td>1303.5</td>\n",
       "      <td>100</td>\n",
       "      <td>100</td>\n",
       "    </tr>\n",
       "    <tr>\n",
       "      <th>8</th>\n",
       "      <td>tommy</td>\n",
       "      <td>1314</td>\n",
       "      <td>40</td>\n",
       "      <td>681200836HV_002.jpg</td>\n",
       "      <td>Normal</td>\n",
       "      <td>135</td>\n",
       "      <td>37</td>\n",
       "      <td>1605</td>\n",
       "      <td>1425</td>\n",
       "      <td>1573.5</td>\n",
       "      <td>1395.0</td>\n",
       "      <td>100</td>\n",
       "      <td>100</td>\n",
       "    </tr>\n",
       "    <tr>\n",
       "      <th>9</th>\n",
       "      <td>tommy</td>\n",
       "      <td>524</td>\n",
       "      <td>30</td>\n",
       "      <td>681200836HV_002.jpg</td>\n",
       "      <td>Abnormal</td>\n",
       "      <td>136</td>\n",
       "      <td>38</td>\n",
       "      <td>1789</td>\n",
       "      <td>2278</td>\n",
       "      <td>1758.0</td>\n",
       "      <td>2243.0</td>\n",
       "      <td>100</td>\n",
       "      <td>100</td>\n",
       "    </tr>\n",
       "  </tbody>\n",
       "</table>\n",
       "</div>"
      ],
      "text/plain": [
       "  annotator  cell   h                image     label   pk   w     x     y  \\\n",
       "0     tommy   588  40  681200836HV_002.jpg    Normal  127  42  2794  2216   \n",
       "1     tommy   588  40  681200836HV_002.jpg    Normal  128  42  2794  2216   \n",
       "7     tommy  1402  41  681200836HV_002.jpg    Normal  134  37   111  1333   \n",
       "8     tommy  1314  40  681200836HV_002.jpg    Normal  135  37  1605  1425   \n",
       "9     tommy   524  30  681200836HV_002.jpg  Abnormal  136  38  1789  2278   \n",
       "\n",
       "     newX    newY  newW  newH  \n",
       "0  2765.0  2186.0   100   100  \n",
       "1  2765.0  2186.0   100   100  \n",
       "7    79.5  1303.5   100   100  \n",
       "8  1573.5  1395.0   100   100  \n",
       "9  1758.0  2243.0   100   100  "
      ]
     },
     "execution_count": 3,
     "metadata": {},
     "output_type": "execute_result"
    }
   ],
   "source": [
    "# Alter the original csv file so you can get the new XY\n",
    "# Start by loading in the new csv to dataframe\n",
    "\n",
    "csvFile = DATA_DIR + 'dataset.csv'\n",
    "classes = pd.read_csv(csvFile, index_col=0, parse_dates=True)\n",
    "classes.head()\n"
   ]
  },
  {
   "cell_type": "code",
   "execution_count": 4,
   "metadata": {
    "collapsed": false
   },
   "outputs": [
    {
     "data": {
      "text/plain": [
       "'C:/Users/thoma/Documents/00GitHub/00_LOCAL_ONLY/Cellavision_Trial_images/rbcs/rbcs/'"
      ]
     },
     "execution_count": 4,
     "metadata": {},
     "output_type": "execute_result"
    }
   ],
   "source": [
    "smearPath = 'rbcs'\n",
    "SMEAR_DIR = IMG_DIR + 'rbcs/'\n",
    "SMEAR_DIR"
   ]
  },
  {
   "cell_type": "code",
   "execution_count": 5,
   "metadata": {
    "collapsed": false,
    "scrolled": true
   },
   "outputs": [
    {
     "data": {
      "text/html": [
       "<div>\n",
       "<table border=\"1\" class=\"dataframe\">\n",
       "  <thead>\n",
       "    <tr style=\"text-align: right;\">\n",
       "      <th></th>\n",
       "      <th>index</th>\n",
       "      <th>annotator</th>\n",
       "      <th>cell</th>\n",
       "      <th>h</th>\n",
       "      <th>image</th>\n",
       "      <th>label</th>\n",
       "      <th>pk</th>\n",
       "      <th>w</th>\n",
       "      <th>x</th>\n",
       "      <th>y</th>\n",
       "      <th>newX</th>\n",
       "      <th>newY</th>\n",
       "      <th>newW</th>\n",
       "      <th>newH</th>\n",
       "    </tr>\n",
       "  </thead>\n",
       "  <tbody>\n",
       "    <tr>\n",
       "      <th>0</th>\n",
       "      <td>0</td>\n",
       "      <td>tommy</td>\n",
       "      <td>588</td>\n",
       "      <td>40</td>\n",
       "      <td>681200836HV_002.jpg</td>\n",
       "      <td>Normal</td>\n",
       "      <td>127</td>\n",
       "      <td>42</td>\n",
       "      <td>2794</td>\n",
       "      <td>2216</td>\n",
       "      <td>2765.0</td>\n",
       "      <td>2186.0</td>\n",
       "      <td>100</td>\n",
       "      <td>100</td>\n",
       "    </tr>\n",
       "    <tr>\n",
       "      <th>1</th>\n",
       "      <td>1</td>\n",
       "      <td>tommy</td>\n",
       "      <td>588</td>\n",
       "      <td>40</td>\n",
       "      <td>681200836HV_002.jpg</td>\n",
       "      <td>Normal</td>\n",
       "      <td>128</td>\n",
       "      <td>42</td>\n",
       "      <td>2794</td>\n",
       "      <td>2216</td>\n",
       "      <td>2765.0</td>\n",
       "      <td>2186.0</td>\n",
       "      <td>100</td>\n",
       "      <td>100</td>\n",
       "    </tr>\n",
       "    <tr>\n",
       "      <th>2</th>\n",
       "      <td>7</td>\n",
       "      <td>tommy</td>\n",
       "      <td>1402</td>\n",
       "      <td>41</td>\n",
       "      <td>681200836HV_002.jpg</td>\n",
       "      <td>Normal</td>\n",
       "      <td>134</td>\n",
       "      <td>37</td>\n",
       "      <td>111</td>\n",
       "      <td>1333</td>\n",
       "      <td>79.5</td>\n",
       "      <td>1303.5</td>\n",
       "      <td>100</td>\n",
       "      <td>100</td>\n",
       "    </tr>\n",
       "    <tr>\n",
       "      <th>3</th>\n",
       "      <td>8</td>\n",
       "      <td>tommy</td>\n",
       "      <td>1314</td>\n",
       "      <td>40</td>\n",
       "      <td>681200836HV_002.jpg</td>\n",
       "      <td>Normal</td>\n",
       "      <td>135</td>\n",
       "      <td>37</td>\n",
       "      <td>1605</td>\n",
       "      <td>1425</td>\n",
       "      <td>1573.5</td>\n",
       "      <td>1395.0</td>\n",
       "      <td>100</td>\n",
       "      <td>100</td>\n",
       "    </tr>\n",
       "    <tr>\n",
       "      <th>4</th>\n",
       "      <td>9</td>\n",
       "      <td>tommy</td>\n",
       "      <td>524</td>\n",
       "      <td>30</td>\n",
       "      <td>681200836HV_002.jpg</td>\n",
       "      <td>Abnormal</td>\n",
       "      <td>136</td>\n",
       "      <td>38</td>\n",
       "      <td>1789</td>\n",
       "      <td>2278</td>\n",
       "      <td>1758.0</td>\n",
       "      <td>2243.0</td>\n",
       "      <td>100</td>\n",
       "      <td>100</td>\n",
       "    </tr>\n",
       "  </tbody>\n",
       "</table>\n",
       "</div>"
      ],
      "text/plain": [
       "   index annotator  cell   h                image     label   pk   w     x  \\\n",
       "0      0     tommy   588  40  681200836HV_002.jpg    Normal  127  42  2794   \n",
       "1      1     tommy   588  40  681200836HV_002.jpg    Normal  128  42  2794   \n",
       "2      7     tommy  1402  41  681200836HV_002.jpg    Normal  134  37   111   \n",
       "3      8     tommy  1314  40  681200836HV_002.jpg    Normal  135  37  1605   \n",
       "4      9     tommy   524  30  681200836HV_002.jpg  Abnormal  136  38  1789   \n",
       "\n",
       "      y    newX    newY  newW  newH  \n",
       "0  2216  2765.0  2186.0   100   100  \n",
       "1  2216  2765.0  2186.0   100   100  \n",
       "2  1333    79.5  1303.5   100   100  \n",
       "3  1425  1573.5  1395.0   100   100  \n",
       "4  2278  1758.0  2243.0   100   100  "
      ]
     },
     "execution_count": 5,
     "metadata": {},
     "output_type": "execute_result"
    }
   ],
   "source": [
    "classes.reset_index().head()"
   ]
  },
  {
   "cell_type": "code",
   "execution_count": 6,
   "metadata": {
    "collapsed": false
   },
   "outputs": [
    {
     "data": {
      "text/plain": [
       "1552"
      ]
     },
     "execution_count": 6,
     "metadata": {},
     "output_type": "execute_result"
    }
   ],
   "source": [
    "# get rid of reject cells\n",
    "# classes = classes[classes.label != 'Reject']\n",
    "len(classes)"
   ]
  },
  {
   "cell_type": "code",
   "execution_count": 7,
   "metadata": {
    "collapsed": false
   },
   "outputs": [],
   "source": [
    "def get_data(n):\n",
    "    img_string = SMEAR_DIR + classes.ix[n].image\n",
    "    oldX = classes.ix[n].x\n",
    "    oldY = classes.ix[n].y\n",
    "    label = classes.ix[n].label\n",
    "    w = classes.ix[n].w\n",
    "    h = classes.ix[n].h\n",
    "    x = classes.ix[n].newX\n",
    "    y = classes.ix[n].newY\n",
    "    int(n)\n",
    "    int(n)\n",
    "\n",
    "    return oldX, oldY, w, h, x, y, img_string"
   ]
  },
  {
   "cell_type": "code",
   "execution_count": 8,
   "metadata": {
    "collapsed": false
   },
   "outputs": [
    {
     "data": {
      "text/plain": [
       "(2794,\n",
       " 2216,\n",
       " 42,\n",
       " 40,\n",
       " 2765.0,\n",
       " 2186.0,\n",
       " 'C:/Users/thoma/Documents/00GitHub/00_LOCAL_ONLY/Cellavision_Trial_images/rbcs/rbcs/681200836HV_002.jpg')"
      ]
     },
     "execution_count": 8,
     "metadata": {},
     "output_type": "execute_result"
    }
   ],
   "source": [
    "get_data(0)"
   ]
  },
  {
   "cell_type": "code",
   "execution_count": 10,
   "metadata": {
    "collapsed": false
   },
   "outputs": [
    {
     "data": {
      "text/plain": [
       "(2794,\n",
       " 2216,\n",
       " 42,\n",
       " 40,\n",
       " 2765.0,\n",
       " 2186.0,\n",
       " 'C:/Users/thoma/Documents/00GitHub/00_LOCAL_ONLY/Cellavision_Trial_images/rbcs/rbcs/681200836HV_002.jpg')"
      ]
     },
     "execution_count": 10,
     "metadata": {},
     "output_type": "execute_result"
    }
   ],
   "source": [
    "oldX, oldY, w, h, x, y, img_string = get_data(0)\n",
    "\n",
    "oldX, oldY, w, h, x, y, img_string"
   ]
  },
  {
   "cell_type": "code",
   "execution_count": null,
   "metadata": {
    "collapsed": true
   },
   "outputs": [],
   "source": []
  },
  {
   "cell_type": "code",
   "execution_count": null,
   "metadata": {
    "collapsed": true
   },
   "outputs": [],
   "source": []
  },
  {
   "cell_type": "code",
   "execution_count": null,
   "metadata": {
    "collapsed": true
   },
   "outputs": [],
   "source": []
  },
  {
   "cell_type": "code",
   "execution_count": null,
   "metadata": {
    "collapsed": true
   },
   "outputs": [],
   "source": [
    "# Begin old script"
   ]
  },
  {
   "cell_type": "code",
   "execution_count": null,
   "metadata": {
    "collapsed": false
   },
   "outputs": [],
   "source": [
    "# DON\"T RUN AGAIN - gets labeled images from smears\n",
    "\n",
    "# for cls in np.unique(df.label):\n",
    "    \n",
    "#     try:\n",
    "#         os.makedirs('C:/Users/thoma/Documents/00GitHub/rbc-cnn/mosaic/images/{}'.format(cls))\n",
    "#     except OSError:\n",
    "#         pass\n",
    "\n",
    "#     images = df[df.label == cls].reset_index()\n",
    "#     for n, im in images.iterrows():\n",
    "#         y = im.y\n",
    "#         x = im.x\n",
    "#         w = im.w\n",
    "#         h = im.h\n",
    "#         im = Image.fromarray(np.array(image(im.image))[y: y + h, x: x + w])\n",
    "#         im.save('C:/Users/thoma/Documents/00GitHub/Cellavision_Trial_images/mosaic/images/{}/{}.png'.format(cls, n))"
   ]
  },
  {
   "cell_type": "code",
   "execution_count": 25,
   "metadata": {
    "collapsed": false
   },
   "outputs": [],
   "source": [
    "\n",
    "def getdata(ind):\n",
    "    im = cv2.imread(IMG_DIR + classes.image[ind])\n",
    "    df = classes.ix[ind]\n",
    "    label = df.label\n",
    "    \n",
    "    x = df.x \n",
    "    y = df.y\n",
    "    w = df.w\n",
    "    h = df.h\n",
    "\n",
    "    cw = w/2\n",
    "    ch = h/2\n",
    "\n",
    "    cx = x+cw\n",
    "    cy = y+ch\n",
    "    \n",
    "    cropped = im[cy-25:cy+25, cx-25:cx+25]\n",
    "\n",
    "    if cropped.shape == (50, 50, 3):\n",
    "        return cropped, label\n",
    "\n",
    "    "
   ]
  },
  {
   "cell_type": "code",
   "execution_count": 39,
   "metadata": {
    "collapsed": false
   },
   "outputs": [
    {
     "name": "stdout",
     "output_type": "stream",
     "text": [
      "'NoneType' object is not iterable\n",
      "'NoneType' object is not iterable\n",
      "'NoneType' object is not iterable\n",
      "'NoneType' object is not iterable\n",
      "'NoneType' object is not iterable\n",
      "'NoneType' object is not iterable\n",
      "'NoneType' object is not iterable\n",
      "'NoneType' object is not iterable\n"
     ]
    }
   ],
   "source": [
    "# get array data from smear with label\n",
    "# n = total number of cells \n",
    "\n",
    "# cx and cy on cropped images 32x32 or 48x48 return im to X and label to Y \n",
    "\n",
    "X = []\n",
    "Y = []\n",
    "IDs = []\n",
    "\n",
    "for n in classes.image.iteritems():\n",
    "\n",
    "    index_obj = classes.ix[n[0]]\n",
    "    index = n[0]\n",
    "\n",
    "    try:\n",
    "        x, y = getdata(index)\n",
    "    except Exception, e:\n",
    "        #type, value, tb = sys.exc_info()\n",
    "        #traceback.print_exc()\n",
    "        print e\n",
    "        continue\n",
    "        \n",
    "    X.append(x)\n",
    "    Y.append(y)\n",
    "    IDs.append(n)\n",
    "\n",
    "X = np.array(X)\n",
    "Y = np.array(Y)\n",
    "IDs = np.array(IDs)\n"
   ]
  },
  {
   "cell_type": "code",
   "execution_count": 40,
   "metadata": {
    "collapsed": false
   },
   "outputs": [
    {
     "data": {
      "text/plain": [
       "1544"
      ]
     },
     "execution_count": 40,
     "metadata": {},
     "output_type": "execute_result"
    }
   ],
   "source": [
    "len(X)"
   ]
  },
  {
   "cell_type": "code",
   "execution_count": 41,
   "metadata": {
    "collapsed": false
   },
   "outputs": [
    {
     "data": {
      "text/plain": [
       "-1"
      ]
     },
     "execution_count": 41,
     "metadata": {},
     "output_type": "execute_result"
    }
   ],
   "source": [
    "cv2.imshow(\"cropped\", X[15])\n",
    "cv2.waitKey(0)"
   ]
  },
  {
   "cell_type": "code",
   "execution_count": 22,
   "metadata": {
    "collapsed": false
   },
   "outputs": [],
   "source": [
    "import hickle"
   ]
  },
  {
   "cell_type": "code",
   "execution_count": 42,
   "metadata": {
    "collapsed": true
   },
   "outputs": [],
   "source": [
    "GROUPS = {'Normal': (1,),\n",
    "          'Abnormal': (2,),\n",
    "         }"
   ]
  },
  {
   "cell_type": "code",
   "execution_count": 43,
   "metadata": {
    "collapsed": false
   },
   "outputs": [],
   "source": [
    "# just X and Y is OK \n",
    "\n",
    "d = {}\n",
    "d['X'] = X\n",
    "d['y'] = Y\n",
    "d['GROUPS'] = GROUPS"
   ]
  },
  {
   "cell_type": "code",
   "execution_count": 51,
   "metadata": {
    "collapsed": false
   },
   "outputs": [
    {
     "name": "stdout",
     "output_type": "stream",
     "text": [
      "dumping <type 'dict'> to file <HDF5 file \"dataset.hkl\" (mode r+)>\n"
     ]
    }
   ],
   "source": [
    "# (X, Y) -- ((N,3,w,h), label)\n",
    "\n",
    "hickle.dump(d, open('C:/Users/thoma/Documents/00GitHub/00_LOCAL_ONLY/rbc_cnn_sync/data/dataset.hkl','w'))"
   ]
  },
  {
   "cell_type": "code",
   "execution_count": 16,
   "metadata": {
    "collapsed": false
   },
   "outputs": [
    {
     "data": {
      "text/plain": [
       "(array([   1.,    1.,    0.,    0.,    0.,    2.,    0.,    0.,    0.,\n",
       "           0.,    0.,    0.,    0.,    0.,    0.,    1.,    0.,    2.,\n",
       "           0.,    4.,    0.,   20.,    0.,   33.,    0.,   73.,    0.,\n",
       "         126.,    0.,  153.,    0.,  198.,    0.,  210.,    0.,  223.,\n",
       "           0.,  159.,    0.,  117.,    0.,   71.,    0.,   57.,    0.,\n",
       "          30.,    0.,   23.,    0.,    8.,    3.,    0.,    4.,    0.,\n",
       "           3.,    0.,    3.,    0.,    3.,    0.,    1.,    0.,    2.,\n",
       "           0.,    1.,    0.,    0.,    0.,    4.,    0.,    4.,    0.,\n",
       "           2.,    0.,    1.,    0.,    0.,    0.,    0.,    0.,    2.,\n",
       "           0.,    1.,    0.,    1.,    0.,    1.,    0.,    1.,    0.,\n",
       "           2.,    0.,    0.,    0.,    0.,    0.,    0.,    0.,    0.,    1.]),\n",
       " array([ 22.  ,  22.51,  23.02,  23.53,  24.04,  24.55,  25.06,  25.57,\n",
       "         26.08,  26.59,  27.1 ,  27.61,  28.12,  28.63,  29.14,  29.65,\n",
       "         30.16,  30.67,  31.18,  31.69,  32.2 ,  32.71,  33.22,  33.73,\n",
       "         34.24,  34.75,  35.26,  35.77,  36.28,  36.79,  37.3 ,  37.81,\n",
       "         38.32,  38.83,  39.34,  39.85,  40.36,  40.87,  41.38,  41.89,\n",
       "         42.4 ,  42.91,  43.42,  43.93,  44.44,  44.95,  45.46,  45.97,\n",
       "         46.48,  46.99,  47.5 ,  48.01,  48.52,  49.03,  49.54,  50.05,\n",
       "         50.56,  51.07,  51.58,  52.09,  52.6 ,  53.11,  53.62,  54.13,\n",
       "         54.64,  55.15,  55.66,  56.17,  56.68,  57.19,  57.7 ,  58.21,\n",
       "         58.72,  59.23,  59.74,  60.25,  60.76,  61.27,  61.78,  62.29,\n",
       "         62.8 ,  63.31,  63.82,  64.33,  64.84,  65.35,  65.86,  66.37,\n",
       "         66.88,  67.39,  67.9 ,  68.41,  68.92,  69.43,  69.94,  70.45,\n",
       "         70.96,  71.47,  71.98,  72.49,  73.  ]),\n",
       " <a list of 100 Patch objects>)"
      ]
     },
     "execution_count": 16,
     "metadata": {},
     "output_type": "execute_result"
    },
    {
     "data": {
      "image/png": "[encoded data removed]",
      "text/plain": [
       "<matplotlib.figure.Figure at 0xc296978>"
      ]
     },
     "metadata": {},
     "output_type": "display_data"
    }
   ],
   "source": [
    "plt.hist(classes.h, bins=100)"
   ]
  },
  {
   "cell_type": "code",
   "execution_count": 17,
   "metadata": {
    "collapsed": false
   },
   "outputs": [
    {
     "data": {
      "text/plain": [
       "(array([   1.,    0.,    0.,    0.,    0.,    0.,    0.,    0.,    2.,\n",
       "           0.,    0.,    0.,    0.,    0.,    0.,    0.,    0.,    0.,\n",
       "           3.,    0.,   11.,    0.,   20.,    0.,    0.,   35.,    0.,\n",
       "          67.,    0.,  119.,    0.,  167.,    0.,  201.,    0.,  231.,\n",
       "           0.,  231.,    0.,  158.,    0.,  113.,    0.,   63.,    0.,\n",
       "          38.,    0.,   28.,    0.,    0.,   16.,    0.,    5.,    0.,\n",
       "           1.,    0.,    3.,    0.,    3.,    0.,    1.,    0.,    1.,\n",
       "           0.,    0.,    0.,    4.,    0.,    2.,    0.,    1.,    0.,\n",
       "           5.,    0.,    0.,    2.,    0.,    3.,    0.,    1.,    0.,\n",
       "           1.,    0.,    5.,    0.,    3.,    0.,    1.,    0.,    4.,\n",
       "           0.,    0.,    0.,    0.,    0.,    0.,    0.,    1.,    0.,    1.]),\n",
       " array([ 22.  ,  22.48,  22.96,  23.44,  23.92,  24.4 ,  24.88,  25.36,\n",
       "         25.84,  26.32,  26.8 ,  27.28,  27.76,  28.24,  28.72,  29.2 ,\n",
       "         29.68,  30.16,  30.64,  31.12,  31.6 ,  32.08,  32.56,  33.04,\n",
       "         33.52,  34.  ,  34.48,  34.96,  35.44,  35.92,  36.4 ,  36.88,\n",
       "         37.36,  37.84,  38.32,  38.8 ,  39.28,  39.76,  40.24,  40.72,\n",
       "         41.2 ,  41.68,  42.16,  42.64,  43.12,  43.6 ,  44.08,  44.56,\n",
       "         45.04,  45.52,  46.  ,  46.48,  46.96,  47.44,  47.92,  48.4 ,\n",
       "         48.88,  49.36,  49.84,  50.32,  50.8 ,  51.28,  51.76,  52.24,\n",
       "         52.72,  53.2 ,  53.68,  54.16,  54.64,  55.12,  55.6 ,  56.08,\n",
       "         56.56,  57.04,  57.52,  58.  ,  58.48,  58.96,  59.44,  59.92,\n",
       "         60.4 ,  60.88,  61.36,  61.84,  62.32,  62.8 ,  63.28,  63.76,\n",
       "         64.24,  64.72,  65.2 ,  65.68,  66.16,  66.64,  67.12,  67.6 ,\n",
       "         68.08,  68.56,  69.04,  69.52,  70.  ]),\n",
       " <a list of 100 Patch objects>)"
      ]
     },
     "execution_count": 17,
     "metadata": {},
     "output_type": "execute_result"
    },
    {
     "data": {
      "image/png": "[encoded data removed]",
      "text/plain": [
       "<matplotlib.figure.Figure at 0xc76f160>"
      ]
     },
     "metadata": {},
     "output_type": "display_data"
    }
   ],
   "source": [
    "plt.hist(classes.w, bins=100)"
   ]
  },
  {
   "cell_type": "code",
   "execution_count": 5,
   "metadata": {
    "collapsed": false
   },
   "outputs": [
    {
     "data": {
      "text/plain": [
       "'C:\\\\Users\\\\thoma\\\\Documents\\\\00GitHub\\\\rbc_cnn\\\\notebooks'"
      ]
     },
     "execution_count": 5,
     "metadata": {},
     "output_type": "execute_result"
    }
   ],
   "source": []
  }
 ],
 "metadata": {
  "kernelspec": {
   "display_name": "Python 2",
   "language": "python",
   "name": "python2"
  },
  "language_info": {
   "codemirror_mode": {
    "name": "ipython",
    "version": 2
   },
   "file_extension": ".py",
   "mimetype": "text/x-python",
   "name": "python",
   "nbconvert_exporter": "python",
   "pygments_lexer": "ipython2",
   "version": "2.7.10"
  }
 },
 "nbformat": 4,
 "nbformat_minor": 0
}
