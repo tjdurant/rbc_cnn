{
 "cells": [
  {
   "cell_type": "code",
   "execution_count": 1,
   "metadata": {
    "collapsed": false
   },
   "outputs": [
    {
     "name": "stderr",
     "output_type": "stream",
     "text": [
      "Vendor:  Continuum Analytics, Inc.\n",
      "Package: mkl\n",
      "Message: trial mode expires in 26 days\n"
     ]
    }
   ],
   "source": [
    "import os\n",
    "import numpy as np\n",
    "import pandas as pd\n",
    "\n",
    "from PIL import Image\n",
    "\n",
    "import matplotlib.pyplot as plt\n",
    "%matplotlib inline\n",
    "\n",
    "classes = pd.read_csv('C:/Users/thoma/Documents/00GitHub/rbc_cnn/dataset.csv')\n",
    "df = pd.read_pickle('classifications.df.pkl')"
   ]
  },
  {
   "cell_type": "code",
   "execution_count": 2,
   "metadata": {
    "collapsed": false
   },
   "outputs": [],
   "source": [
    "classes.columns = ['ID','annotator','cell','h','image','label','pk','w','x','y']"
   ]
  },
  {
   "cell_type": "code",
   "execution_count": 3,
   "metadata": {
    "collapsed": false
   },
   "outputs": [
    {
     "data": {
      "text/html": [
       "<div>\n",
       "<table border=\"1\" class=\"dataframe\">\n",
       "  <thead>\n",
       "    <tr style=\"text-align: right;\">\n",
       "      <th></th>\n",
       "      <th>ID</th>\n",
       "      <th>annotator</th>\n",
       "      <th>cell</th>\n",
       "      <th>h</th>\n",
       "      <th>image</th>\n",
       "      <th>label</th>\n",
       "      <th>pk</th>\n",
       "      <th>w</th>\n",
       "      <th>x</th>\n",
       "      <th>y</th>\n",
       "    </tr>\n",
       "  </thead>\n",
       "  <tbody>\n",
       "    <tr>\n",
       "      <th>0</th>\n",
       "      <td>0</td>\n",
       "      <td>tommy</td>\n",
       "      <td>588</td>\n",
       "      <td>40</td>\n",
       "      <td>681200836HV_002.jpg</td>\n",
       "      <td>Normal</td>\n",
       "      <td>127</td>\n",
       "      <td>42</td>\n",
       "      <td>2794</td>\n",
       "      <td>2216</td>\n",
       "    </tr>\n",
       "    <tr>\n",
       "      <th>1</th>\n",
       "      <td>1</td>\n",
       "      <td>tommy</td>\n",
       "      <td>588</td>\n",
       "      <td>40</td>\n",
       "      <td>681200836HV_002.jpg</td>\n",
       "      <td>Normal</td>\n",
       "      <td>128</td>\n",
       "      <td>42</td>\n",
       "      <td>2794</td>\n",
       "      <td>2216</td>\n",
       "    </tr>\n",
       "    <tr>\n",
       "      <th>2</th>\n",
       "      <td>7</td>\n",
       "      <td>tommy</td>\n",
       "      <td>1402</td>\n",
       "      <td>41</td>\n",
       "      <td>681200836HV_002.jpg</td>\n",
       "      <td>Normal</td>\n",
       "      <td>134</td>\n",
       "      <td>37</td>\n",
       "      <td>111</td>\n",
       "      <td>1333</td>\n",
       "    </tr>\n",
       "    <tr>\n",
       "      <th>3</th>\n",
       "      <td>8</td>\n",
       "      <td>tommy</td>\n",
       "      <td>1314</td>\n",
       "      <td>40</td>\n",
       "      <td>681200836HV_002.jpg</td>\n",
       "      <td>Normal</td>\n",
       "      <td>135</td>\n",
       "      <td>37</td>\n",
       "      <td>1605</td>\n",
       "      <td>1425</td>\n",
       "    </tr>\n",
       "    <tr>\n",
       "      <th>4</th>\n",
       "      <td>9</td>\n",
       "      <td>tommy</td>\n",
       "      <td>524</td>\n",
       "      <td>30</td>\n",
       "      <td>681200836HV_002.jpg</td>\n",
       "      <td>Abnormal</td>\n",
       "      <td>136</td>\n",
       "      <td>38</td>\n",
       "      <td>1789</td>\n",
       "      <td>2278</td>\n",
       "    </tr>\n",
       "  </tbody>\n",
       "</table>\n",
       "</div>"
      ],
      "text/plain": [
       "   ID annotator  cell   h                image     label   pk   w     x     y\n",
       "0   0     tommy   588  40  681200836HV_002.jpg    Normal  127  42  2794  2216\n",
       "1   1     tommy   588  40  681200836HV_002.jpg    Normal  128  42  2794  2216\n",
       "2   7     tommy  1402  41  681200836HV_002.jpg    Normal  134  37   111  1333\n",
       "3   8     tommy  1314  40  681200836HV_002.jpg    Normal  135  37  1605  1425\n",
       "4   9     tommy   524  30  681200836HV_002.jpg  Abnormal  136  38  1789  2278"
      ]
     },
     "execution_count": 3,
     "metadata": {},
     "output_type": "execute_result"
    }
   ],
   "source": [
    "classes.head()"
   ]
  },
  {
   "cell_type": "code",
   "execution_count": 4,
   "metadata": {
    "collapsed": false
   },
   "outputs": [
    {
     "data": {
      "text/plain": [
       "{1L: 'Normal', 2L: 'Abnormal'}"
      ]
     },
     "execution_count": 4,
     "metadata": {},
     "output_type": "execute_result"
    }
   ],
   "source": [
    "# Normal = 0 , 1 for abnormal \n",
    "\n",
    "label_index = pd.read_csv('C:/Users/thoma/Documents/00GitHub/rbc_cnn/notebooks/label_index.csv')\n",
    "label_index.reset_index()\n",
    "classdict = {k:v for __, (k,v) in label_index.iterrows()}\n",
    "classdict"
   ]
  },
  {
   "cell_type": "code",
   "execution_count": 5,
   "metadata": {
    "collapsed": false
   },
   "outputs": [
    {
     "data": {
      "text/plain": [
       "[1L, 2L]"
      ]
     },
     "execution_count": 5,
     "metadata": {},
     "output_type": "execute_result"
    }
   ],
   "source": [
    "classdict.keys()"
   ]
  },
  {
   "cell_type": "code",
   "execution_count": 6,
   "metadata": {
    "collapsed": false
   },
   "outputs": [
    {
     "name": "stdout",
     "output_type": "stream",
     "text": [
      "1\n",
      "2\n"
     ]
    }
   ],
   "source": [
    "for cls in classdict:\n",
    "    print cls"
   ]
  },
  {
   "cell_type": "code",
   "execution_count": 7,
   "metadata": {
    "collapsed": false,
    "scrolled": true
   },
   "outputs": [
    {
     "data": {
      "text/plain": [
       "array(['Abnormal', 'Normal'], dtype=object)"
      ]
     },
     "execution_count": 7,
     "metadata": {},
     "output_type": "execute_result"
    }
   ],
   "source": [
    "np.unique(df.label) "
   ]
  },
  {
   "cell_type": "code",
   "execution_count": 8,
   "metadata": {
    "collapsed": true
   },
   "outputs": [],
   "source": [
    "def image(n):\n",
    "    return Image.open('C:/Users/thoma/Documents/00GitHub/Cellavision_Trial_images/rbcs/{}'.format(n))"
   ]
  },
  {
   "cell_type": "code",
   "execution_count": 9,
   "metadata": {
    "collapsed": false
   },
   "outputs": [
    {
     "name": "stdout",
     "output_type": "stream",
     "text": [
      "Abnormal\n",
      "Normal\n"
     ]
    }
   ],
   "source": [
    "for cls in np.unique(df.label):\n",
    "    print cls"
   ]
  },
  {
   "cell_type": "code",
   "execution_count": 10,
   "metadata": {
    "collapsed": false
   },
   "outputs": [],
   "source": [
    "# DON\"T RUN AGAIN - THIS IS DONE\n",
    "\n",
    "# get labeled images from smears\n",
    "\n",
    "# for cls in np.unique(df.label):\n",
    "    \n",
    "#     try:\n",
    "#         os.makedirs('C:/Users/thoma/Documents/00GitHub/rbc-cnn/mosaic/images/{}'.format(cls))\n",
    "#     except OSError:\n",
    "#         pass\n",
    "\n",
    "#     images = df[df.label == cls].reset_index()\n",
    "#     for n, im in images.iterrows():\n",
    "#         y = im.y\n",
    "#         x = im.x\n",
    "#         w = im.w\n",
    "#         h = im.h\n",
    "#         im = Image.fromarray(np.array(image(im.image))[y: y + h, x: x + w])\n",
    "#         im.save('C:/Users/thoma/Documents/00GitHub/Cellavision_Trial_images/mosaic/images/{}/{}.png'.format(cls, n))"
   ]
  },
  {
   "cell_type": "code",
   "execution_count": 11,
   "metadata": {
    "collapsed": false
   },
   "outputs": [
    {
     "data": {
      "text/html": [
       "<div>\n",
       "<table border=\"1\" class=\"dataframe\">\n",
       "  <thead>\n",
       "    <tr style=\"text-align: right;\">\n",
       "      <th></th>\n",
       "      <th>annotator</th>\n",
       "      <th>cell</th>\n",
       "      <th>h</th>\n",
       "      <th>image</th>\n",
       "      <th>label</th>\n",
       "      <th>pk</th>\n",
       "      <th>w</th>\n",
       "      <th>x</th>\n",
       "      <th>y</th>\n",
       "    </tr>\n",
       "  </thead>\n",
       "  <tbody>\n",
       "    <tr>\n",
       "      <th>0</th>\n",
       "      <td>tommy</td>\n",
       "      <td>588</td>\n",
       "      <td>40</td>\n",
       "      <td>681200836HV_002.jpg</td>\n",
       "      <td>Normal</td>\n",
       "      <td>127</td>\n",
       "      <td>42</td>\n",
       "      <td>2794</td>\n",
       "      <td>2216</td>\n",
       "    </tr>\n",
       "    <tr>\n",
       "      <th>1</th>\n",
       "      <td>tommy</td>\n",
       "      <td>588</td>\n",
       "      <td>40</td>\n",
       "      <td>681200836HV_002.jpg</td>\n",
       "      <td>Normal</td>\n",
       "      <td>128</td>\n",
       "      <td>42</td>\n",
       "      <td>2794</td>\n",
       "      <td>2216</td>\n",
       "    </tr>\n",
       "    <tr>\n",
       "      <th>7</th>\n",
       "      <td>tommy</td>\n",
       "      <td>1402</td>\n",
       "      <td>41</td>\n",
       "      <td>681200836HV_002.jpg</td>\n",
       "      <td>Normal</td>\n",
       "      <td>134</td>\n",
       "      <td>37</td>\n",
       "      <td>111</td>\n",
       "      <td>1333</td>\n",
       "    </tr>\n",
       "    <tr>\n",
       "      <th>8</th>\n",
       "      <td>tommy</td>\n",
       "      <td>1314</td>\n",
       "      <td>40</td>\n",
       "      <td>681200836HV_002.jpg</td>\n",
       "      <td>Normal</td>\n",
       "      <td>135</td>\n",
       "      <td>37</td>\n",
       "      <td>1605</td>\n",
       "      <td>1425</td>\n",
       "    </tr>\n",
       "    <tr>\n",
       "      <th>9</th>\n",
       "      <td>tommy</td>\n",
       "      <td>524</td>\n",
       "      <td>30</td>\n",
       "      <td>681200836HV_002.jpg</td>\n",
       "      <td>Abnormal</td>\n",
       "      <td>136</td>\n",
       "      <td>38</td>\n",
       "      <td>1789</td>\n",
       "      <td>2278</td>\n",
       "    </tr>\n",
       "  </tbody>\n",
       "</table>\n",
       "</div>"
      ],
      "text/plain": [
       "  annotator  cell   h                image     label   pk   w     x     y\n",
       "0     tommy   588  40  681200836HV_002.jpg    Normal  127  42  2794  2216\n",
       "1     tommy   588  40  681200836HV_002.jpg    Normal  128  42  2794  2216\n",
       "7     tommy  1402  41  681200836HV_002.jpg    Normal  134  37   111  1333\n",
       "8     tommy  1314  40  681200836HV_002.jpg    Normal  135  37  1605  1425\n",
       "9     tommy   524  30  681200836HV_002.jpg  Abnormal  136  38  1789  2278"
      ]
     },
     "execution_count": 11,
     "metadata": {},
     "output_type": "execute_result"
    }
   ],
   "source": [
    "df.head()"
   ]
  },
  {
   "cell_type": "code",
   "execution_count": 12,
   "metadata": {
    "collapsed": false,
    "scrolled": true
   },
   "outputs": [
    {
     "data": {
      "text/html": [
       "<div>\n",
       "<table border=\"1\" class=\"dataframe\">\n",
       "  <thead>\n",
       "    <tr style=\"text-align: right;\">\n",
       "      <th></th>\n",
       "      <th>index</th>\n",
       "      <th>annotator</th>\n",
       "      <th>cell</th>\n",
       "      <th>h</th>\n",
       "      <th>image</th>\n",
       "      <th>label</th>\n",
       "      <th>pk</th>\n",
       "      <th>w</th>\n",
       "      <th>x</th>\n",
       "      <th>y</th>\n",
       "    </tr>\n",
       "  </thead>\n",
       "  <tbody>\n",
       "    <tr>\n",
       "      <th>0</th>\n",
       "      <td>0</td>\n",
       "      <td>tommy</td>\n",
       "      <td>588</td>\n",
       "      <td>40</td>\n",
       "      <td>681200836HV_002.jpg</td>\n",
       "      <td>Normal</td>\n",
       "      <td>127</td>\n",
       "      <td>42</td>\n",
       "      <td>2794</td>\n",
       "      <td>2216</td>\n",
       "    </tr>\n",
       "    <tr>\n",
       "      <th>1</th>\n",
       "      <td>1</td>\n",
       "      <td>tommy</td>\n",
       "      <td>588</td>\n",
       "      <td>40</td>\n",
       "      <td>681200836HV_002.jpg</td>\n",
       "      <td>Normal</td>\n",
       "      <td>128</td>\n",
       "      <td>42</td>\n",
       "      <td>2794</td>\n",
       "      <td>2216</td>\n",
       "    </tr>\n",
       "    <tr>\n",
       "      <th>2</th>\n",
       "      <td>7</td>\n",
       "      <td>tommy</td>\n",
       "      <td>1402</td>\n",
       "      <td>41</td>\n",
       "      <td>681200836HV_002.jpg</td>\n",
       "      <td>Normal</td>\n",
       "      <td>134</td>\n",
       "      <td>37</td>\n",
       "      <td>111</td>\n",
       "      <td>1333</td>\n",
       "    </tr>\n",
       "    <tr>\n",
       "      <th>3</th>\n",
       "      <td>8</td>\n",
       "      <td>tommy</td>\n",
       "      <td>1314</td>\n",
       "      <td>40</td>\n",
       "      <td>681200836HV_002.jpg</td>\n",
       "      <td>Normal</td>\n",
       "      <td>135</td>\n",
       "      <td>37</td>\n",
       "      <td>1605</td>\n",
       "      <td>1425</td>\n",
       "    </tr>\n",
       "    <tr>\n",
       "      <th>4</th>\n",
       "      <td>9</td>\n",
       "      <td>tommy</td>\n",
       "      <td>524</td>\n",
       "      <td>30</td>\n",
       "      <td>681200836HV_002.jpg</td>\n",
       "      <td>Abnormal</td>\n",
       "      <td>136</td>\n",
       "      <td>38</td>\n",
       "      <td>1789</td>\n",
       "      <td>2278</td>\n",
       "    </tr>\n",
       "  </tbody>\n",
       "</table>\n",
       "</div>"
      ],
      "text/plain": [
       "   index annotator  cell   h                image     label   pk   w     x  \\\n",
       "0      0     tommy   588  40  681200836HV_002.jpg    Normal  127  42  2794   \n",
       "1      1     tommy   588  40  681200836HV_002.jpg    Normal  128  42  2794   \n",
       "2      7     tommy  1402  41  681200836HV_002.jpg    Normal  134  37   111   \n",
       "3      8     tommy  1314  40  681200836HV_002.jpg    Normal  135  37  1605   \n",
       "4      9     tommy   524  30  681200836HV_002.jpg  Abnormal  136  38  1789   \n",
       "\n",
       "      y  \n",
       "0  2216  \n",
       "1  2216  \n",
       "2  1333  \n",
       "3  1425  \n",
       "4  2278  "
      ]
     },
     "execution_count": 12,
     "metadata": {},
     "output_type": "execute_result"
    }
   ],
   "source": [
    "data = df.reset_index()\n",
    "data.head()"
   ]
  },
  {
   "cell_type": "code",
   "execution_count": 13,
   "metadata": {
    "collapsed": false,
    "scrolled": true
   },
   "outputs": [
    {
     "name": "stdout",
     "output_type": "stream",
     "text": [
      "Abnormal\n",
      "Normal\n"
     ]
    }
   ],
   "source": [
    "for cls in np.unique(df.label):\n",
    "    print cls"
   ]
  },
  {
   "cell_type": "code",
   "execution_count": 14,
   "metadata": {
    "collapsed": false
   },
   "outputs": [],
   "source": [
    "def image(n):\n",
    "    return Image.open('C:/Users/thoma/Documents/00GitHub/Cellavision_Trial_images/rbcs/{}'.format(n))\n",
    "\n",
    "def thumb(n):\n",
    "\ttry:\n",
    "\t\treturn Image.open('C:/Users/thoma/Documents/00GitHub/Cellavision_Trial_images/rbcs/{}'.format(n))\n",
    "\texcept:\n",
    "\t\treturn Image.open('C:/Users/thoma/Documents/00GitHub/Cellavision_Trial_images/mosaic/images/Normal/{}.png'.format(n))"
   ]
  },
  {
   "cell_type": "code",
   "execution_count": 15,
   "metadata": {
    "collapsed": false,
    "scrolled": true
   },
   "outputs": [
    {
     "data": {
      "text/html": [
       "<div>\n",
       "<table border=\"1\" class=\"dataframe\">\n",
       "  <thead>\n",
       "    <tr style=\"text-align: right;\">\n",
       "      <th></th>\n",
       "      <th>annotator</th>\n",
       "      <th>cell</th>\n",
       "      <th>h</th>\n",
       "      <th>image</th>\n",
       "      <th>label</th>\n",
       "      <th>pk</th>\n",
       "      <th>w</th>\n",
       "      <th>x</th>\n",
       "      <th>y</th>\n",
       "    </tr>\n",
       "  </thead>\n",
       "  <tbody>\n",
       "    <tr>\n",
       "      <th>0</th>\n",
       "      <td>tommy</td>\n",
       "      <td>588</td>\n",
       "      <td>40</td>\n",
       "      <td>681200836HV_002.jpg</td>\n",
       "      <td>Normal</td>\n",
       "      <td>127</td>\n",
       "      <td>42</td>\n",
       "      <td>2794</td>\n",
       "      <td>2216</td>\n",
       "    </tr>\n",
       "    <tr>\n",
       "      <th>1</th>\n",
       "      <td>tommy</td>\n",
       "      <td>588</td>\n",
       "      <td>40</td>\n",
       "      <td>681200836HV_002.jpg</td>\n",
       "      <td>Normal</td>\n",
       "      <td>128</td>\n",
       "      <td>42</td>\n",
       "      <td>2794</td>\n",
       "      <td>2216</td>\n",
       "    </tr>\n",
       "    <tr>\n",
       "      <th>7</th>\n",
       "      <td>tommy</td>\n",
       "      <td>1402</td>\n",
       "      <td>41</td>\n",
       "      <td>681200836HV_002.jpg</td>\n",
       "      <td>Normal</td>\n",
       "      <td>134</td>\n",
       "      <td>37</td>\n",
       "      <td>111</td>\n",
       "      <td>1333</td>\n",
       "    </tr>\n",
       "    <tr>\n",
       "      <th>8</th>\n",
       "      <td>tommy</td>\n",
       "      <td>1314</td>\n",
       "      <td>40</td>\n",
       "      <td>681200836HV_002.jpg</td>\n",
       "      <td>Normal</td>\n",
       "      <td>135</td>\n",
       "      <td>37</td>\n",
       "      <td>1605</td>\n",
       "      <td>1425</td>\n",
       "    </tr>\n",
       "    <tr>\n",
       "      <th>9</th>\n",
       "      <td>tommy</td>\n",
       "      <td>524</td>\n",
       "      <td>30</td>\n",
       "      <td>681200836HV_002.jpg</td>\n",
       "      <td>Abnormal</td>\n",
       "      <td>136</td>\n",
       "      <td>38</td>\n",
       "      <td>1789</td>\n",
       "      <td>2278</td>\n",
       "    </tr>\n",
       "  </tbody>\n",
       "</table>\n",
       "</div>"
      ],
      "text/plain": [
       "  annotator  cell   h                image     label   pk   w     x     y\n",
       "0     tommy   588  40  681200836HV_002.jpg    Normal  127  42  2794  2216\n",
       "1     tommy   588  40  681200836HV_002.jpg    Normal  128  42  2794  2216\n",
       "7     tommy  1402  41  681200836HV_002.jpg    Normal  134  37   111  1333\n",
       "8     tommy  1314  40  681200836HV_002.jpg    Normal  135  37  1605  1425\n",
       "9     tommy   524  30  681200836HV_002.jpg  Abnormal  136  38  1789  2278"
      ]
     },
     "execution_count": 15,
     "metadata": {},
     "output_type": "execute_result"
    }
   ],
   "source": [
    "df.head()"
   ]
  },
  {
   "cell_type": "code",
   "execution_count": 16,
   "metadata": {
    "collapsed": false
   },
   "outputs": [
    {
     "data": {
      "text/html": [
       "<div>\n",
       "<table border=\"1\" class=\"dataframe\">\n",
       "  <thead>\n",
       "    <tr style=\"text-align: right;\">\n",
       "      <th></th>\n",
       "      <th>event</th>\n",
       "      <th>annotator</th>\n",
       "      <th>cell</th>\n",
       "      <th>h</th>\n",
       "      <th>image</th>\n",
       "      <th>label</th>\n",
       "      <th>pk</th>\n",
       "      <th>w</th>\n",
       "      <th>x</th>\n",
       "      <th>y</th>\n",
       "    </tr>\n",
       "  </thead>\n",
       "  <tbody>\n",
       "    <tr>\n",
       "      <th>0</th>\n",
       "      <td>0</td>\n",
       "      <td>tommy</td>\n",
       "      <td>588</td>\n",
       "      <td>40</td>\n",
       "      <td>681200836HV_002.jpg</td>\n",
       "      <td>Normal</td>\n",
       "      <td>127</td>\n",
       "      <td>42</td>\n",
       "      <td>2794</td>\n",
       "      <td>2216</td>\n",
       "    </tr>\n",
       "    <tr>\n",
       "      <th>1</th>\n",
       "      <td>1</td>\n",
       "      <td>tommy</td>\n",
       "      <td>588</td>\n",
       "      <td>40</td>\n",
       "      <td>681200836HV_002.jpg</td>\n",
       "      <td>Normal</td>\n",
       "      <td>128</td>\n",
       "      <td>42</td>\n",
       "      <td>2794</td>\n",
       "      <td>2216</td>\n",
       "    </tr>\n",
       "    <tr>\n",
       "      <th>2</th>\n",
       "      <td>7</td>\n",
       "      <td>tommy</td>\n",
       "      <td>1402</td>\n",
       "      <td>41</td>\n",
       "      <td>681200836HV_002.jpg</td>\n",
       "      <td>Normal</td>\n",
       "      <td>134</td>\n",
       "      <td>37</td>\n",
       "      <td>111</td>\n",
       "      <td>1333</td>\n",
       "    </tr>\n",
       "    <tr>\n",
       "      <th>3</th>\n",
       "      <td>8</td>\n",
       "      <td>tommy</td>\n",
       "      <td>1314</td>\n",
       "      <td>40</td>\n",
       "      <td>681200836HV_002.jpg</td>\n",
       "      <td>Normal</td>\n",
       "      <td>135</td>\n",
       "      <td>37</td>\n",
       "      <td>1605</td>\n",
       "      <td>1425</td>\n",
       "    </tr>\n",
       "    <tr>\n",
       "      <th>4</th>\n",
       "      <td>9</td>\n",
       "      <td>tommy</td>\n",
       "      <td>524</td>\n",
       "      <td>30</td>\n",
       "      <td>681200836HV_002.jpg</td>\n",
       "      <td>Abnormal</td>\n",
       "      <td>136</td>\n",
       "      <td>38</td>\n",
       "      <td>1789</td>\n",
       "      <td>2278</td>\n",
       "    </tr>\n",
       "  </tbody>\n",
       "</table>\n",
       "</div>"
      ],
      "text/plain": [
       "   event annotator  cell   h                image     label   pk   w     x  \\\n",
       "0      0     tommy   588  40  681200836HV_002.jpg    Normal  127  42  2794   \n",
       "1      1     tommy   588  40  681200836HV_002.jpg    Normal  128  42  2794   \n",
       "2      7     tommy  1402  41  681200836HV_002.jpg    Normal  134  37   111   \n",
       "3      8     tommy  1314  40  681200836HV_002.jpg    Normal  135  37  1605   \n",
       "4      9     tommy   524  30  681200836HV_002.jpg  Abnormal  136  38  1789   \n",
       "\n",
       "      y  \n",
       "0  2216  \n",
       "1  2216  \n",
       "2  1333  \n",
       "3  1425  \n",
       "4  2278  "
      ]
     },
     "execution_count": 16,
     "metadata": {},
     "output_type": "execute_result"
    }
   ],
   "source": [
    "data = data.rename(columns={'index': 'event'})\n",
    "data.head()"
   ]
  },
  {
   "cell_type": "code",
   "execution_count": 17,
   "metadata": {
    "collapsed": false
   },
   "outputs": [],
   "source": [
    "# for n in np.unique(data.ix):\n",
    "#     print len(np.unique(data.event))\n",
    "\n",
    "# data.ix[0]\n",
    "# for n in data.image.iteritems():\n",
    "#     index_obj = data.ix[n[0]]\n",
    "#     index = n[0]\n",
    "#     image = index_obj.image\n",
    "#     print index\n",
    "#     print data.ix[index]\n",
    "#     try:\n",
    "#         x, y = getdata(index, image)\n",
    "#         print x, y\n",
    "#     except:\n",
    "#         raise\n",
    "# def image(n):\n",
    "#     return Image.open('C:/Users/thoma/Documents/00GitHub/Cellavision_Trial_images/rbcs/{}'.format(n))"
   ]
  },
  {
   "cell_type": "code",
   "execution_count": 18,
   "metadata": {
    "collapsed": false
   },
   "outputs": [
    {
     "name": "stdout",
     "output_type": "stream",
     "text": [
      "(547, 2452)\n",
      "(589, 2434)\n"
     ]
    }
   ],
   "source": [
    "test = df.ix[10]\n",
    "x = test.x\n",
    "y = test.y\n",
    "w = test.w\n",
    "h = test.h\n",
    "\n",
    "cw = w/2\n",
    "\n",
    "cx = x+w\n",
    "x, cx\n",
    "\n",
    "ch = h/2\n",
    "cy = y-ch\n",
    "print (x,y)\n",
    "print (cx,cy)\n",
    "\n",
    "# cy-24:cy+24, cx-24:cx+24"
   ]
  },
  {
   "cell_type": "code",
   "execution_count": 19,
   "metadata": {
    "collapsed": false
   },
   "outputs": [],
   "source": [
    "def getdata(b, n):\n",
    "    \n",
    "    try:\n",
    "        im = np.array(image(n))\n",
    "    except:\n",
    "        raise \"no file\"\n",
    "    df = data.ix[b]\n",
    "    label = df.label\n",
    "    \n",
    "    x = df.x \n",
    "    y = df.y\n",
    "    w = df.w\n",
    "    h = df.h\n",
    "    \n",
    "    \n",
    "    cw = w/2\n",
    "    ch = h/2\n",
    "    \n",
    "    cx = x+w\n",
    "    cy = y-ch\n",
    "    \n",
    "    im = im[cy-24:cy+24, cx-24:cx+24]\n",
    "\n",
    "    if im.shape == (48, 48, 3):\n",
    "        return im, label\n",
    "    else:\n",
    "        pass\n",
    "        \n",
    "\n",
    "    "
   ]
  },
  {
   "cell_type": "code",
   "execution_count": 20,
   "metadata": {
    "collapsed": false
   },
   "outputs": [],
   "source": [
    "z = data.ix[0]\n",
    "yaz= z.image"
   ]
  },
  {
   "cell_type": "code",
   "execution_count": 21,
   "metadata": {
    "collapsed": false
   },
   "outputs": [
    {
     "name": "stdout",
     "output_type": "stream",
     "text": [
      "2452\n"
     ]
    },
    {
     "data": {
      "image/png": "[encoded data removed]",
      "text/plain": [
       "<PIL.Image.Image image mode=RGB size=60x60 at 0xC1AE278>"
      ]
     },
     "execution_count": 21,
     "metadata": {},
     "output_type": "execute_result"
    }
   ],
   "source": [
    "# put smear - n - into np array\n",
    "print y\n",
    "foo = Image.open('C:/Users/thoma/Documents/00GitHub/Cellavision_Trial_images/rbcs/{}'.format(yaz))\n",
    "im = np.array(foo)\n",
    "\n",
    "# init df[ix] object for b, which is the corresponding ix for n\n",
    "df = data.ix[0]\n",
    "label = df.label\n",
    "\n",
    "# xLeft = df.x \n",
    "# yTop = df.y\n",
    "# w = df.w\n",
    "# h = df.h\n",
    "\n",
    "\n",
    "# xRight = xLeft+w\n",
    "# yBottom = yTop-h\n",
    "\n",
    "# im = im[yBottom:yTop, xLeft:xRight]\n",
    "\n",
    "x = df.x \n",
    "y = df.y\n",
    "w = df.w\n",
    "h = df.h\n",
    "\n",
    "\n",
    "cw = w/2\n",
    "ch = h/2\n",
    "\n",
    "cx = x+w\n",
    "cy = y-ch\n",
    "\n",
    "im = im[cy-30:cy+30, cx-30:cx+30]\n",
    "        \n",
    "Image.fromarray(im)\n",
    "\n"
   ]
  },
  {
   "cell_type": "code",
   "execution_count": 22,
   "metadata": {
    "collapsed": false
   },
   "outputs": [],
   "source": [
    "im = np.array(foo)"
   ]
  },
  {
   "cell_type": "code",
   "execution_count": 23,
   "metadata": {
    "collapsed": true
   },
   "outputs": [],
   "source": [
    "import pdb, traceback, sys"
   ]
  },
  {
   "cell_type": "code",
   "execution_count": 24,
   "metadata": {
    "collapsed": true
   },
   "outputs": [],
   "source": [
    "def getdata_2(b, n):\n",
    "    \n",
    "    # put smear - n - into np array\n",
    "    foo = Image.open('C:/Users/thoma/Documents/00GitHub/Cellavision_Trial_images/rbcs/{}'.format(n))\n",
    "    im = np.array(foo)\n",
    "#     # init df[ix] object for b, which is the corresponding ix for n\n",
    "#     df = data.ix[b]\n",
    "#     label = df.label\n",
    "    \n",
    "#     xLeft = df.x \n",
    "#     yTop = df.y\n",
    "#     w = df.w\n",
    "#     h = df.h\n",
    "\n",
    "\n",
    "#     xRight = xLeft+w\n",
    "#     yBottom = yTop-h\n",
    "\n",
    "#     im = im[yBottom:yTop, xLeft:xRight]\n",
    "\n",
    "#     return im, label\n",
    "        "
   ]
  },
  {
   "cell_type": "code",
   "execution_count": 34,
   "metadata": {
    "collapsed": false
   },
   "outputs": [
    {
     "name": "stdout",
     "output_type": "stream",
     "text": [
      "0 681200836HV_002.jpg\n"
     ]
    },
    {
     "name": "stderr",
     "output_type": "stream",
     "text": [
      "Traceback (most recent call last):\n",
      "  File \"<ipython-input-34-9fd1781ec084>\", line 16, in <module>\n",
      "    x, y = getdata_2(index, image)\n",
      "TypeError: 'NoneType' object is not iterable\n"
     ]
    },
    {
     "ename": "TypeError",
     "evalue": "'NoneType' object is not iterable",
     "output_type": "error",
     "traceback": [
      "\u001b[1;31m---------------------------------------------------------------------------\u001b[0m",
      "\u001b[1;31mTypeError\u001b[0m                                 Traceback (most recent call last)",
      "\u001b[1;32m<ipython-input-34-9fd1781ec084>\u001b[0m in \u001b[0;36m<module>\u001b[1;34m()\u001b[0m\n\u001b[0;32m     14\u001b[0m     \u001b[1;32mprint\u001b[0m \u001b[0mindex\u001b[0m\u001b[1;33m,\u001b[0m \u001b[0mimage\u001b[0m\u001b[1;33m\u001b[0m\u001b[0m\n\u001b[0;32m     15\u001b[0m     \u001b[1;32mtry\u001b[0m\u001b[1;33m:\u001b[0m\u001b[1;33m\u001b[0m\u001b[0m\n\u001b[1;32m---> 16\u001b[1;33m         \u001b[0mx\u001b[0m\u001b[1;33m,\u001b[0m \u001b[0my\u001b[0m \u001b[1;33m=\u001b[0m \u001b[0mgetdata_2\u001b[0m\u001b[1;33m(\u001b[0m\u001b[0mindex\u001b[0m\u001b[1;33m,\u001b[0m \u001b[0mimage\u001b[0m\u001b[1;33m)\u001b[0m\u001b[1;33m\u001b[0m\u001b[0m\n\u001b[0m\u001b[0;32m     17\u001b[0m     \u001b[1;32mexcept\u001b[0m\u001b[1;33m:\u001b[0m\u001b[1;33m\u001b[0m\u001b[0m\n\u001b[0;32m     18\u001b[0m         \u001b[0mtype\u001b[0m\u001b[1;33m,\u001b[0m \u001b[0mvalue\u001b[0m\u001b[1;33m,\u001b[0m \u001b[0mtb\u001b[0m \u001b[1;33m=\u001b[0m \u001b[0msys\u001b[0m\u001b[1;33m.\u001b[0m\u001b[0mexc_info\u001b[0m\u001b[1;33m(\u001b[0m\u001b[1;33m)\u001b[0m\u001b[1;33m\u001b[0m\u001b[0m\n",
      "\u001b[1;31mTypeError\u001b[0m: 'NoneType' object is not iterable"
     ]
    }
   ],
   "source": [
    "# get array data from smear with label\n",
    "# n = total number of cells \n",
    "\n",
    "# cx and cy on cropped images 32x32 or 48x48 return im to X and label to Y \n",
    "\n",
    "X = []\n",
    "Y = []\n",
    "IDs = []\n",
    "for n in data.image.iteritems():\n",
    "\n",
    "    index_obj = data.ix[n[0]]\n",
    "    index = n[0]\n",
    "    image = index_obj.image\n",
    "    print index, image\n",
    "    try:\n",
    "        x, y = getdata_2(index, image)\n",
    "    except:\n",
    "        type, value, tb = sys.exc_info()\n",
    "        traceback.print_exc()\n",
    "        raise\n",
    "        \n",
    "    X.append(x)\n",
    "    Y.append(y)\n",
    "    IDs.append(n)\n",
    "\n",
    "# X = np.array(X)\n",
    "# Y = np.array(Y)\n",
    "# IDs = np.array(IDs)\n"
   ]
  },
  {
   "cell_type": "code",
   "execution_count": 47,
   "metadata": {
    "collapsed": false
   },
   "outputs": [
    {
     "data": {
      "text/plain": [
       "0"
      ]
     },
     "execution_count": 47,
     "metadata": {},
     "output_type": "execute_result"
    }
   ],
   "source": [
    "len(X)"
   ]
  },
  {
   "cell_type": "code",
   "execution_count": null,
   "metadata": {
    "collapsed": true
   },
   "outputs": [],
   "source": []
  },
  {
   "cell_type": "code",
   "execution_count": null,
   "metadata": {
    "collapsed": true
   },
   "outputs": [],
   "source": [
    "###############################################################3\n",
    "# for n, im in data.iterrows():\n",
    "#     y = im.y\n",
    "#     x = im.x\n",
    "#     w = im.w\n",
    "#     h = im.h\n",
    "#     label = im.label\n",
    "    \n",
    "#     X.append((n,3,w,h))\n",
    "#     Y.append(label)\n",
    "#     IDs.append(n)\n",
    "    \n",
    "# X = np.array(X)\n",
    "# Y = np.array(Y)\n",
    "# IDs = np.array(IDs)"
   ]
  },
  {
   "cell_type": "code",
   "execution_count": null,
   "metadata": {
    "collapsed": false
   },
   "outputs": [],
   "source": [
    "import hickle"
   ]
  },
  {
   "cell_type": "code",
   "execution_count": null,
   "metadata": {
    "collapsed": true
   },
   "outputs": [],
   "source": [
    "GROUPS = {'Normal': (1,),\n",
    "          'Abnormal': (2,),\n",
    "         }"
   ]
  },
  {
   "cell_type": "code",
   "execution_count": null,
   "metadata": {
    "collapsed": false
   },
   "outputs": [],
   "source": [
    "# just X and Y is OK \n",
    "\n",
    "d = {}\n",
    "d['X'] = X\n",
    "d['y'] = Y\n",
    "d['GROUPS'] = GROUPS"
   ]
  },
  {
   "cell_type": "code",
   "execution_count": null,
   "metadata": {
    "collapsed": false
   },
   "outputs": [],
   "source": [
    "# (X, Y) -- ((N,3,w,h), label)\n",
    "\n",
    "hickle.dump(d, open('C:/Users/thoma/Documents/00GitHub/rbc_cnn/data/dataset.hkl','w'))"
   ]
  }
 ],
 "metadata": {
  "kernelspec": {
   "display_name": "Python 2",
   "language": "python",
   "name": "python2"
  },
  "language_info": {
   "codemirror_mode": {
    "name": "ipython",
    "version": 2
   },
   "file_extension": ".py",
   "mimetype": "text/x-python",
   "name": "python",
   "nbconvert_exporter": "python",
   "pygments_lexer": "ipython2",
   "version": "2.7.10"
  }
 },
 "nbformat": 4,
 "nbformat_minor": 0
}
