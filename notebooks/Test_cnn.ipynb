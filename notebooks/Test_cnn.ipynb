{
 "cells": [
  {
   "cell_type": "code",
   "execution_count": 4,
   "metadata": {
    "collapsed": false
   },
   "outputs": [],
   "source": [
    "import os\n",
    "import numpy as np\n",
    "import pandas as pd\n",
    "\n",
    "from PIL import Image\n",
    "import hickle\n",
    "import matplotlib.pyplot as plt\n",
    "%matplotlib inline"
   ]
  },
  {
   "cell_type": "code",
   "execution_count": 2,
   "metadata": {
    "collapsed": true
   },
   "outputs": [],
   "source": [
    "DATA_DIR = 'C:/Users/thoma/Documents/00GitHub/rbc_cnn/data'"
   ]
  },
  {
   "cell_type": "code",
   "execution_count": 5,
   "metadata": {
    "collapsed": false
   },
   "outputs": [],
   "source": [
    "d = hickle.load('{}/dataset.hkl'.format(DATA_DIR))"
   ]
  },
  {
   "cell_type": "code",
   "execution_count": 25,
   "metadata": {
    "collapsed": false
   },
   "outputs": [],
   "source": [
    "X = d['X']\n",
    "Y = d['y']"
   ]
  },
  {
   "cell_type": "code",
   "execution_count": 17,
   "metadata": {
    "collapsed": true
   },
   "outputs": [],
   "source": [
    "import sklearn.cross_validation"
   ]
  },
  {
   "cell_type": "code",
   "execution_count": 18,
   "metadata": {
    "collapsed": true
   },
   "outputs": [],
   "source": [
    "sss = sklearn.cross_validation.StratifiedShuffleSplit(d['y'], n_iter=1, test_size=0.15, random_state=42)"
   ]
  },
  {
   "cell_type": "code",
   "execution_count": 19,
   "metadata": {
    "collapsed": true
   },
   "outputs": [],
   "source": [
    "\n",
    "\n",
    "for trix, teix in sss:\n",
    "    pass\n",
    "\n"
   ]
  },
  {
   "cell_type": "code",
   "execution_count": 37,
   "metadata": {
    "collapsed": false
   },
   "outputs": [],
   "source": [
    "trix, teix = tuple(sss)[0]\n"
   ]
  },
  {
   "cell_type": "code",
   "execution_count": 33,
   "metadata": {
    "collapsed": false
   },
   "outputs": [
    {
     "data": {
      "text/plain": [
       "'Abnormal'"
      ]
     },
     "execution_count": 33,
     "metadata": {},
     "output_type": "execute_result"
    }
   ],
   "source": [
    "Y[100]"
   ]
  },
  {
   "cell_type": "code",
   "execution_count": 34,
   "metadata": {
    "collapsed": false
   },
   "outputs": [
    {
     "data": {
      "image/png": "[encoded data removed]",
      "text/plain": [
       "<PIL.Image.Image image mode=RGB size=48x48 at 0x20C82BA8>"
      ]
     },
     "execution_count": 34,
     "metadata": {},
     "output_type": "execute_result"
    }
   ],
   "source": [
    "Image.fromarray(X[100])\n"
   ]
  },
  {
   "cell_type": "code",
   "execution_count": 38,
   "metadata": {
    "collapsed": false
   },
   "outputs": [
    {
     "name": "stdout",
     "output_type": "stream",
     "text": [
      "[[[212 179 160]\n",
      "  [216 188 166]\n",
      "  [216 188 166]\n",
      "  ..., \n",
      "  [226 209 183]\n",
      "  [212 177 173]\n",
      "  [203 148 167]]\n",
      "\n",
      " [[209 176 157]\n",
      "  [210 183 162]\n",
      "  [208 181 160]\n",
      "  ..., \n",
      "  [239 231 192]\n",
      "  [230 204 187]\n",
      "  [218 173 178]]\n",
      "\n",
      " [[207 174 155]\n",
      "  [222 195 176]\n",
      "  [219 192 173]\n",
      "  ..., \n",
      "  [249 241 202]\n",
      "  [243 226 198]\n",
      "  [231 203 189]]\n",
      "\n",
      " ..., \n",
      " [[220 183 200]\n",
      "  [220 171 203]\n",
      "  [217 168 200]\n",
      "  ..., \n",
      "  [194 153 147]\n",
      "  [195 152 146]\n",
      "  [196 153 147]]\n",
      "\n",
      " [[196 156 180]\n",
      "  [197 148 180]\n",
      "  [195 146 178]\n",
      "  ..., \n",
      "  [194 157 151]\n",
      "  [194 155 150]\n",
      "  [195 156 151]]\n",
      "\n",
      " [[177 133 166]\n",
      "  [184 137 169]\n",
      "  [183 136 168]\n",
      "  ..., \n",
      "  [191 157 155]\n",
      "  [191 156 154]\n",
      "  [191 156 154]]]\n"
     ]
    }
   ],
   "source": [
    "print X[100]"
   ]
  },
  {
   "cell_type": "code",
   "execution_count": 39,
   "metadata": {
    "collapsed": false
   },
   "outputs": [
    {
     "data": {
      "image/png": "[encoded data removed]",
      "text/plain": [
       "<PIL.Image.Image image mode=RGB size=512x512 at 0xBF388D0>"
      ]
     },
     "execution_count": 39,
     "metadata": {},
     "output_type": "execute_result"
    }
   ],
   "source": [
    "\n",
    "w,h = 512,512\n",
    "data = np.zeros( (w,h,3), dtype=np.uint8)\n",
    "data[256,256] = [255,0,0]\n",
    "img = Image.fromarray(data, 'RGB')\n",
    "img"
   ]
  }
 ],
 "metadata": {
  "kernelspec": {
   "display_name": "Python 2",
   "language": "python",
   "name": "python2"
  },
  "language_info": {
   "codemirror_mode": {
    "name": "ipython",
    "version": 2
   },
   "file_extension": ".py",
   "mimetype": "text/x-python",
   "name": "python",
   "nbconvert_exporter": "python",
   "pygments_lexer": "ipython2",
   "version": "2.7.10"
  }
 },
 "nbformat": 4,
 "nbformat_minor": 0
}
