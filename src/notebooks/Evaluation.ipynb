{
 "cells": [
  {
   "cell_type": "code",
   "execution_count": 1,
   "metadata": {
    "collapsed": false
   },
   "outputs": [],
   "source": [
    "import sklearn.metrics\n",
    "import pandas as pd\n",
    "import csv"
   ]
  },
  {
   "cell_type": "code",
   "execution_count": null,
   "metadata": {
    "collapsed": false
   },
   "outputs": [],
   "source": [
    "d = hickle.load('/home/eben/projects/rbc_cnn/data/April_tommy_non_overlap.hkl')\n",
    "labels = []\n",
    "images = []\n",
    "\n",
    "for y, x in zip(d['y'], d['X']):\n",
    "    labels.append(y)\n",
    "    images.append(x)\n",
    "labels = np.array(labels)\n",
    "images = np.array(images)\n",
    "len(labels)"
   ]
  },
  {
   "cell_type": "code",
   "execution_count": 2,
   "metadata": {
    "collapsed": false
   },
   "outputs": [
    {
     "name": "stdout",
     "output_type": "stream",
     "text": [
      "Couldn't import dot_parser, loading of dot files will not be possible.\n"
     ]
    },
    {
     "name": "stderr",
     "output_type": "stream",
     "text": [
      "Using gpu device 0: Graphics Device (CNMeM is disabled, cuDNN 4007)\n"
     ]
    }
   ],
   "source": [
    "%run -n cnn.py"
   ]
  },
  {
   "cell_type": "code",
   "execution_count": null,
   "metadata": {
    "collapsed": false
   },
   "outputs": [],
   "source": [
    "output_layer, samplers = setup('April_total_non_overlap')"
   ]
  },
  {
   "cell_type": "code",
   "execution_count": 3,
   "metadata": {
    "collapsed": true
   },
   "outputs": [],
   "source": [
    "def get_freq(dataset, train):\n",
    "    print 'Loading', dataset\n",
    "    # load in hickle dataset containing cell label dataset\n",
    "    d = hickle.load('{}/{}.hkl'.format(DATA_DIR, dataset))\n",
    "\n",
    "    GROUPS = {\n",
    "        'NORMAL': 0,\n",
    "        'Echinocyte': 1,\n",
    "        'Dacrocyte': 2,\n",
    "        'Schistocyte': 3,\n",
    "        'Elliptocyte': 4,\n",
    "        'Acanthocyte': 5,\n",
    "        'Target cell': 6,\n",
    "        'Stomatocyte': 7,\n",
    "        'Spherocyte': 8,\n",
    "        'Overlap': 9\n",
    "    }\n",
    "    LABELS = {v:k for k, v in GROUPS.items()}\n",
    "    \n",
    "    labels = []\n",
    "    images = []\n",
    "    for y, x in zip(d['y'], d['X']):\n",
    "        labels.append(GROUPS[y])\n",
    "        images.append(x)\n",
    "    labels = np.array(labels)\n",
    "    images = np.array(images)\n",
    "\n",
    "    sss = sklearn.cross_validation.StratifiedShuffleSplit(\n",
    "        labels,\n",
    "        n_iter=1,\n",
    "        test_size=0.2,\n",
    "        random_state=RANDOM_SEED,\n",
    "        )\n",
    "    \n",
    "    if train:\n",
    "        ix, _ = tuple(sss)[0]\n",
    "    else:\n",
    "        _, ix = tuple(sss)[0]\n",
    "\n",
    "    labels = labels[ix]\n",
    "    images = images[ix]\n",
    "    \n",
    "    images = images / 255. - 0.5\n",
    "    images = images.transpose(0, 3, 1, 2)\n",
    "    \n",
    "    for i in range(len(LABELS)):\n",
    "        print '{} - {}: {}'.format(i, LABELS[i], (labels == i).sum())\n",
    "        \n",
    "    return images, labels"
   ]
  },
  {
   "cell_type": "code",
   "execution_count": 4,
   "metadata": {
    "collapsed": false
   },
   "outputs": [
    {
     "name": "stdout",
     "output_type": "stream",
     "text": [
      "Layer 0 type: <class 'lasagne.layers.input.InputLayer'> output: (32, 3, 70, 70)\n",
      "Layer 1 type: <class 'lasagne.layers.dnn.Conv2DDNNLayer'> output: (32, 32, 68, 68)\n",
      "Layer 2 type: <class 'lasagne.layers.dnn.Conv2DDNNLayer'> output: (32, 32, 66, 66)\n",
      "Layer 3 type: <class 'lasagne.layers.dnn.Conv2DDNNLayer'> output: (32, 32, 64, 64)\n",
      "Layer 4 type: <class 'lasagne.layers.dnn.MaxPool2DDNNLayer'> output: (32, 32, 31, 31)\n",
      "Layer 5 type: <class 'lasagne.layers.noise.DropoutLayer'> output: (32, 32, 31, 31)\n",
      "Layer 6 type: <class 'lasagne.layers.dnn.Conv2DDNNLayer'> output: (32, 64, 29, 29)\n",
      "Layer 7 type: <class 'lasagne.layers.dnn.Conv2DDNNLayer'> output: (32, 64, 27, 27)\n",
      "Layer 8 type: <class 'lasagne.layers.dnn.Conv2DDNNLayer'> output: (32, 64, 25, 25)\n",
      "Layer 9 type: <class 'lasagne.layers.dnn.MaxPool2DDNNLayer'> output: (32, 64, 12, 12)\n",
      "Layer 10 type: <class 'lasagne.layers.noise.DropoutLayer'> output: (32, 64, 12, 12)\n",
      "Layer 11 type: <class 'lasagne.layers.dnn.Conv2DDNNLayer'> output: (32, 128, 10, 10)\n",
      "Layer 12 type: <class 'lasagne.layers.dnn.Conv2DDNNLayer'> output: (32, 128, 8, 8)\n",
      "Layer 13 type: <class 'lasagne.layers.dnn.Conv2DDNNLayer'> output: (32, 128, 6, 6)\n",
      "Layer 14 type: <class 'lasagne.layers.pool.GlobalPoolLayer'> output: (32, 128)\n",
      "Layer 15 type: <class 'lasagne.layers.noise.DropoutLayer'> output: (32, 128)\n",
      "Layer 16 type: <class 'lasagne.layers.dense.DenseLayer'> output: (32, 10)\n"
     ]
    }
   ],
   "source": [
    "# output_layer is model, f_pred is applying model to \n",
    "output_layer, samplers = setup('September_1_total_non_overlap')\n",
    "f_pred = get_predictor(output_layer)"
   ]
  },
  {
   "cell_type": "code",
   "execution_count": null,
   "metadata": {
    "collapsed": false,
    "scrolled": false
   },
   "outputs": [],
   "source": [
    "print 'Dataset stats:'\n",
    "X, y = get_freq('April_tommy_non_overlap', train=False)"
   ]
  },
  {
   "cell_type": "code",
   "execution_count": null,
   "metadata": {
    "collapsed": false
   },
   "outputs": [],
   "source": [
    "print 'Dataset stats:'\n",
    "X, y = get_freq('April_rick_non_overlap', train=True)"
   ]
  },
  {
   "cell_type": "code",
   "execution_count": null,
   "metadata": {
    "collapsed": false
   },
   "outputs": [],
   "source": [
    "print 'Dataset stats:'\n",
    "X, y = get_freq('April_total_non_overlap', train=True)"
   ]
  },
  {
   "cell_type": "code",
   "execution_count": null,
   "metadata": {
    "collapsed": false
   },
   "outputs": [],
   "source": [
    "print 'Dataset stats:'\n",
    "X, y = get_data('April_tommy_non_overlap', train=False)\n",
    "\n",
    "model = './output/models/tommy epoch 224.pickle'\n",
    "print '\\nTesting model \"{}\"'.format(model.split('/')[-1].split(' ')[0])\n",
    "_ = load_parameters(output_layer, model)\n",
    "p = f_pred(X.astype('float32'))\n",
    "\n",
    "print '\\nAccuracy: ', (p.argmax(1) == y).mean()\n",
    "print '\\nConfusion matrix:\\n', sklearn.metrics.confusion_matrix(y, p.argmax(1))\n",
    "print '\\nSummary classification metrics:\\n', sklearn.metrics.classification_report(y, p.argmax(1))"
   ]
  },
  {
   "cell_type": "code",
   "execution_count": null,
   "metadata": {
    "collapsed": false
   },
   "outputs": [],
   "source": [
    "print 'Dataset stats:'\n",
    "# validation set\n",
    "X, y = get_data('April_rick_non_overlap', train=False)\n",
    "\n",
    "# training set/model\n",
    "model = './output/models/tommy epoch 224.pickle'\n",
    "print '\\nTesting model \"{}\"'.format(model.split('/')[-1].split(' ')[0])\n",
    "_ = load_parameters(output_layer, model)\n",
    "p = f_pred(X.astype('float32'))\n",
    "\n",
    "print '\\nAccuracy: ', (p.argmax(1) == y).mean()\n",
    "print '\\nConfusion matrix:\\n', sklearn.metrics.confusion_matrix(y, p.argmax(1))\n",
    "print '\\nSummary classification metrics:\\n', sklearn.metrics.classification_report(y, p.argmax(1))"
   ]
  },
  {
   "cell_type": "code",
   "execution_count": null,
   "metadata": {
    "collapsed": false
   },
   "outputs": [],
   "source": [
    "cm = sklearn.metrics.confusion_matrix(y, p.argmax(1))\n",
    "cm.shape"
   ]
  },
  {
   "cell_type": "code",
   "execution_count": null,
   "metadata": {
    "collapsed": false,
    "scrolled": true
   },
   "outputs": [],
   "source": [
    "print 'Dataset stats: test set'\n",
    "X, y = get_data('April_rick_non_overlap', train=False)\n",
    "\n",
    "model = './output/models/rick epoch 157.pickle'\n",
    "print '\\nTesting model \"{}\"'.format(model.split('/')[-1].split(' ')[0])\n",
    "_ = load_parameters(output_layer, model)\n",
    "p = f_pred(X.astype('float32'))\n",
    "\n",
    "print '\\nAccuracy: ', (p.argmax(1) == y).mean()\n",
    "print '\\nConfusion matrix:\\n', sklearn.metrics.confusion_matrix(y, p.argmax(1))\n",
    "print '\\nSummary classification metrics:\\n', sklearn.metrics.classification_report(y, p.argmax(1))"
   ]
  },
  {
   "cell_type": "code",
   "execution_count": null,
   "metadata": {
    "collapsed": false,
    "scrolled": true
   },
   "outputs": [],
   "source": [
    "print 'Dataset stats: test set'\n",
    "\n",
    "# get validation set\n",
    "X, y = get_data('April_tommy_non_overlap', train=False)\n",
    "\n",
    "#training\n",
    "model = './output/models/rick epoch 157.pickle'\n",
    "\n",
    "print '\\nTesting model \"{}\"'.format(model.split('/')[-1].split(' ')[0])\n",
    "_ = load_parameters(output_layer, model)\n",
    "p = f_pred(X.astype('float32'))\n",
    "\n",
    "print '\\nAccuracy: ', (f_pred(X.astype('float32')).argmax(1) == y).mean()\n",
    "print '\\nConfusion matrix:\\n', sklearn.metrics.confusion_matrix(y, p.argmax(1))\n",
    "print '\\nSummary classification metrics:\\n', sklearn.metrics.classification_report(y, p.argmax(1))"
   ]
  },
  {
   "cell_type": "code",
   "execution_count": null,
   "metadata": {
    "collapsed": false,
    "scrolled": true
   },
   "outputs": [],
   "source": [
    "print 'Dataset stats: test set'\n",
    "\n",
    "X, y = get_data('April_total_non_overlap', train=False)\n",
    "\n",
    "model = './output/models/total epoch 184.pickle'\n",
    "\n",
    "\n",
    "print '\\nTesting model \"{}\"'.format(model.split('/')[-1].split(' ')[0])\n",
    "_ = load_parameters(output_layer, model)\n",
    "p = f_pred(X.astype('float32'))\n",
    "\n",
    "print '\\nAccuracy: ', (f_pred(X.astype('float32')).argmax(1) == y).mean()\n",
    "print '\\nConfusion matrix:\\n', sklearn.metrics.confusion_matrix(y, p.argmax(1))\n",
    "print '\\nSummary classification metrics:\\n', sklearn.metrics.classification_report(y, p.argmax(1))"
   ]
  },
  {
   "cell_type": "code",
   "execution_count": null,
   "metadata": {
    "collapsed": true
   },
   "outputs": [],
   "source": []
  },
  {
   "cell_type": "code",
   "execution_count": 6,
   "metadata": {
    "collapsed": true
   },
   "outputs": [],
   "source": [
    "def get_data(dataset, train):\n",
    "    print 'Loading', dataset\n",
    "    # load in hickle dataset containing cell label dataset\n",
    "    d = hickle.load('{}/{}.hkl'.format(DATA_DIR, dataset))\n",
    "\n",
    "    GROUPS = {\n",
    "        'NORMAL': 0,\n",
    "        'Echinocyte': 1,\n",
    "        'Dacrocyte': 2,\n",
    "        'Schistocyte': 3,\n",
    "        'Elliptocyte': 4,\n",
    "        'Acanthocyte': 5,\n",
    "        'Target cell': 6,\n",
    "        'Stomatocyte': 7,\n",
    "        'Spherocyte': 8,\n",
    "        'Overlap': 9\n",
    "    }\n",
    "    LABELS = {v:k for k, v in GROUPS.items()}\n",
    "    \n",
    "    labels = []\n",
    "    images = []\n",
    "    pk = []\n",
    "    \n",
    "    # z = pk_value\n",
    "    for y, x, z in zip(d['y'], d['X'], d['pk']):\n",
    "        labels.append(GROUPS[y])\n",
    "        images.append(x)\n",
    "        pk.append(z)\n",
    "    labels = np.array(labels)\n",
    "    images = np.array(images)\n",
    "    pk = np.array(pk)\n",
    "\n",
    "    \n",
    "    sss = sklearn.cross_validation.StratifiedShuffleSplit(\n",
    "        labels,\n",
    "        n_iter=1,\n",
    "        test_size=0.2,\n",
    "        random_state=RANDOM_SEED,\n",
    "        )\n",
    "    \n",
    "    # create train set\n",
    "    if train:\n",
    "        ix, _ = tuple(sss)[0]\n",
    "    # create validation set\n",
    "    else:\n",
    "        _, ix = tuple(sss)[0]\n",
    "\n",
    "    labels = labels[ix]\n",
    "    images = images[ix]\n",
    "    pk = pk[ix]\n",
    "    \n",
    "    images = images / 255. - 0.5\n",
    "    images = images.transpose(0, 3, 1, 2)\n",
    "    \n",
    "    for i in range(len(LABELS)):\n",
    "        print '{} - {}: {}'.format(i, LABELS[i], (labels == i).sum())\n",
    "        \n",
    "    return images, labels, pk"
   ]
  },
  {
   "cell_type": "code",
   "execution_count": 8,
   "metadata": {
    "collapsed": false,
    "scrolled": false
   },
   "outputs": [
    {
     "name": "stdout",
     "output_type": "stream",
     "text": [
      "Layer 0 type: <class 'lasagne.layers.input.InputLayer'> output: (32, 3, 60, 60)\n",
      "Layer 1 type: <class 'lasagne.layers.dnn.Conv2DDNNLayer'> output: (32, 32, 58, 58)\n",
      "Layer 2 type: <class 'lasagne.layers.dnn.Conv2DDNNLayer'> output: (32, 32, 56, 56)\n",
      "Layer 3 type: <class 'lasagne.layers.dnn.Conv2DDNNLayer'> output: (32, 32, 54, 54)\n",
      "Layer 4 type: <class 'lasagne.layers.dnn.MaxPool2DDNNLayer'> output: (32, 32, 26, 26)\n",
      "Layer 5 type: <class 'lasagne.layers.noise.DropoutLayer'> output: (32, 32, 26, 26)\n",
      "Layer 6 type: <class 'lasagne.layers.dnn.Conv2DDNNLayer'> output: (32, 64, 24, 24)\n",
      "Layer 7 type: <class 'lasagne.layers.dnn.Conv2DDNNLayer'> output: (32, 64, 22, 22)\n",
      "Layer 8 type: <class 'lasagne.layers.dnn.Conv2DDNNLayer'> output: (32, 64, 20, 20)\n",
      "Layer 9 type: <class 'lasagne.layers.dnn.MaxPool2DDNNLayer'> output: (32, 64, 10, 10)\n",
      "Layer 10 type: <class 'lasagne.layers.noise.DropoutLayer'> output: (32, 64, 10, 10)\n",
      "Layer 11 type: <class 'lasagne.layers.dnn.Conv2DDNNLayer'> output: (32, 128, 8, 8)\n",
      "Layer 12 type: <class 'lasagne.layers.dnn.Conv2DDNNLayer'> output: (32, 128, 6, 6)\n",
      "Layer 13 type: <class 'lasagne.layers.dnn.Conv2DDNNLayer'> output: (32, 128, 4, 4)\n",
      "Layer 14 type: <class 'lasagne.layers.pool.GlobalPoolLayer'> output: (32, 128)\n",
      "Layer 15 type: <class 'lasagne.layers.noise.DropoutLayer'> output: (32, 128)\n",
      "Layer 16 type: <class 'lasagne.layers.dense.DenseLayer'> output: (32, 10)\n",
      "\n",
      "\n",
      "Network parameter settings:\n",
      "Batch size: 32\n",
      "Image width: 60\n",
      "Epochs: 250\n",
      "Batch size: 32\n",
      "Initial learning rate: 0.0001\n",
      "Momentum: 0.9\n",
      "\n",
      "Dataset stats: Training set\n",
      "Loading August_25_total_non_overlap\n",
      "0 - NORMAL: 814\n",
      "1 - Echinocyte: 253\n",
      "2 - Dacrocyte: 71\n",
      "3 - Schistocyte: 608\n",
      "4 - Elliptocyte: 73\n",
      "5 - Acanthocyte: 134\n",
      "6 - Target cell: 582\n",
      "7 - Stomatocyte: 88\n",
      "8 - Spherocyte: 192\n",
      "9 - Overlap: 184\n",
      "\n",
      "\n",
      "Dataset stats: Validation set\n",
      "Loading August_25_total_non_overlap\n",
      "0 - NORMAL: 204\n",
      "1 - Echinocyte: 63\n",
      "2 - Dacrocyte: 18\n",
      "3 - Schistocyte: 152\n",
      "4 - Elliptocyte: 18\n",
      "5 - Acanthocyte: 33\n",
      "6 - Target cell: 146\n",
      "7 - Stomatocyte: 22\n",
      "8 - Spherocyte: 48\n",
      "9 - Overlap: 46\n",
      "\n",
      "Testing model \"test\"\n",
      "Loaded network parameters from ./output/models/test epoch 140.pickle\n",
      "\n",
      "Accuracy:  0.962666666667\n",
      "\n",
      "Confusion matrix:\n",
      "[[197   0   5   1   0   0   0   1   0   0]\n",
      " [  1  61   0   0   1   0   0   0   0   0]\n",
      " [  4   0   8   5   1   0   0   0   0   0]\n",
      " [  0   0   0 146   1   5   0   0   0   0]\n",
      " [  0   0   0   0  18   0   0   0   0   0]\n",
      " [  0   0   0   1   0  32   0   0   0   0]\n",
      " [  0   0   0   0   0   0 146   0   0   0]\n",
      " [  0   0   0   0   0   0   0  22   0   0]\n",
      " [  0   0   0   1   0   0   0   1  46   0]\n",
      " [  0   0   0   0   0   0   0   0   0  46]]\n",
      "\n",
      "Summary classification metrics:\n",
      "             precision    recall  f1-score   support\n",
      "\n",
      "          0       0.98      0.97      0.97       204\n",
      "          1       1.00      0.97      0.98        63\n",
      "          2       0.62      0.44      0.52        18\n",
      "          3       0.95      0.96      0.95       152\n",
      "          4       0.86      1.00      0.92        18\n",
      "          5       0.86      0.97      0.91        33\n",
      "          6       1.00      1.00      1.00       146\n",
      "          7       0.92      1.00      0.96        22\n",
      "          8       1.00      0.96      0.98        48\n",
      "          9       1.00      1.00      1.00        46\n",
      "\n",
      "avg / total       0.96      0.96      0.96       750\n",
      "\n"
     ]
    }
   ],
   "source": [
    "output_layer, samplers = setup('August_25_total_non_overlap')\n",
    "print '\\n'\n",
    "\n",
    "print \"\"\"Network parameter settings:\n",
    "Batch size: {}\n",
    "Image width: {}\n",
    "Epochs: {}\n",
    "Batch size: {}\n",
    "Initial learning rate: {}\n",
    "Momentum: {}\n",
    "\"\"\".format(BATCH_SIZE, IMAGE_W, NUM_EPOCHS, BATCH_SIZE, LEARNING_RATE, MOMENTUM)\n",
    "\n",
    "print 'Dataset stats: Training set'\n",
    "X, y = get_freq('August_25_total_non_overlap', train=True)\n",
    "print '\\n'\n",
    "\n",
    "print 'Dataset stats: Validation set'\n",
    "X, y, z = get_data('August_25_total_non_overlap', train=False)\n",
    "\n",
    "model = './output/models/test epoch 140.pickle'\n",
    "\n",
    "print '\\nTesting model \"{}\"'.format(model.split('/')[-1].split(' ')[0])\n",
    "_ = load_parameters(output_layer, model)\n",
    "p = f_pred(X.astype('float32'))\n",
    "\n",
    "print '\\nAccuracy: ', (f_pred(X.astype('float32')).argmax(1) == y).mean()\n",
    "print '\\nConfusion matrix:\\n', sklearn.metrics.confusion_matrix(y, p.argmax(1))\n",
    "print '\\nSummary classification metrics:\\n', sklearn.metrics.classification_report(y, p.argmax(1))"
   ]
  },
  {
   "cell_type": "code",
   "execution_count": 7,
   "metadata": {
    "collapsed": false
   },
   "outputs": [
    {
     "name": "stdout",
     "output_type": "stream",
     "text": [
      "\n",
      "\n",
      "Network parameter settings:\n",
      "Batch size: 32\n",
      "Image width: 70\n",
      "Epochs: 250\n",
      "Batch size: 32\n",
      "Initial learning rate: 0.0001\n",
      "Momentum: 0.9\n",
      "\n",
      "Dataset stats: Training set\n",
      "Loading September_1_total_non_overlap\n",
      "0 - NORMAL: 809\n",
      "1 - Echinocyte: 251\n",
      "2 - Dacrocyte: 71\n",
      "3 - Schistocyte: 607\n",
      "4 - Elliptocyte: 73\n",
      "5 - Acanthocyte: 133\n",
      "6 - Target cell: 581\n",
      "7 - Stomatocyte: 88\n",
      "8 - Spherocyte: 192\n",
      "9 - Overlap: 184\n",
      "\n",
      "\n",
      "Dataset stats: Validation set\n",
      "Loading September_1_total_non_overlap\n",
      "0 - NORMAL: 203\n",
      "1 - Echinocyte: 63\n",
      "2 - Dacrocyte: 18\n",
      "3 - Schistocyte: 152\n",
      "4 - Elliptocyte: 18\n",
      "5 - Acanthocyte: 33\n",
      "6 - Target cell: 145\n",
      "7 - Stomatocyte: 22\n",
      "8 - Spherocyte: 48\n",
      "9 - Overlap: 46\n",
      "\n",
      "Testing model \"september_1\"\n",
      "Loaded network parameters from ./output/models/september_1 epoch 175.pickle\n",
      "\n",
      "Accuracy:  0.974598930481\n",
      "\n",
      "Confusion matrix:\n",
      "[[200   1   1   0   0   0   0   1   0   0]\n",
      " [  1  61   0   0   0   1   0   0   0   0]\n",
      " [  1   0  13   3   0   0   0   0   1   0]\n",
      " [  0   0   1 147   0   3   0   0   1   0]\n",
      " [  0   0   0   1  17   0   0   0   0   0]\n",
      " [  0   0   0   1   0  32   0   0   0   0]\n",
      " [  0   0   0   0   0   0 145   0   0   0]\n",
      " [  0   0   0   0   0   0   0  22   0   0]\n",
      " [  0   0   0   1   0   0   0   1  46   0]\n",
      " [  0   0   0   0   0   0   0   0   0  46]]\n",
      "\n",
      "Summary classification metrics:\n",
      "             precision    recall  f1-score   support\n",
      "\n",
      "          0       0.99      0.99      0.99       203\n",
      "          1       0.98      0.97      0.98        63\n",
      "          2       0.87      0.72      0.79        18\n",
      "          3       0.96      0.97      0.96       152\n",
      "          4       1.00      0.94      0.97        18\n",
      "          5       0.89      0.97      0.93        33\n",
      "          6       1.00      1.00      1.00       145\n",
      "          7       0.92      1.00      0.96        22\n",
      "          8       0.96      0.96      0.96        48\n",
      "          9       1.00      1.00      1.00        46\n",
      "\n",
      "avg / total       0.97      0.97      0.97       748\n",
      "\n"
     ]
    }
   ],
   "source": [
    "\n",
    "print '\\n'\n",
    "\n",
    "print \"\"\"Network parameter settings:\n",
    "Batch size: {}\n",
    "Image width: {}\n",
    "Epochs: {}\n",
    "Batch size: {}\n",
    "Initial learning rate: {}\n",
    "Momentum: {}\n",
    "\"\"\".format(BATCH_SIZE, IMAGE_W, NUM_EPOCHS, BATCH_SIZE, LEARNING_RATE, MOMENTUM)\n",
    "\n",
    "print 'Dataset stats: Training set'\n",
    "X, y = get_freq('September_1_total_non_overlap', train=True)\n",
    "print '\\n'\n",
    "\n",
    "print 'Dataset stats: Validation set'\n",
    "X, y, z = get_data('September_1_total_non_overlap', train=False)\n",
    "\n",
    "model = './output/models/september_1 epoch 175.pickle'\n",
    "\n",
    "print '\\nTesting model \"{}\"'.format(model.split('/')[-1].split(' ')[0])\n",
    "_ = load_parameters(output_layer, model)\n",
    "p = f_pred(X.astype('float32'))\n",
    "\n",
    "print '\\nAccuracy: ', (f_pred(X.astype('float32')).argmax(1) == y).mean()\n",
    "print '\\nConfusion matrix:\\n', sklearn.metrics.confusion_matrix(y, p.argmax(1))\n",
    "print '\\nSummary classification metrics:\\n', sklearn.metrics.classification_report(y, p.argmax(1))"
   ]
  },
  {
   "cell_type": "code",
   "execution_count": 9,
   "metadata": {
    "collapsed": true
   },
   "outputs": [],
   "source": [
    "GROUPS = {\n",
    "        'NORMAL': 0,\n",
    "        'Echinocyte': 1,\n",
    "        'Dacrocyte': 2,\n",
    "        'Schistocyte': 3,\n",
    "        'Elliptocyte': 4,\n",
    "        'Acanthocyte': 5,\n",
    "        'Target cell': 6,\n",
    "        'Stomatocyte': 7,\n",
    "        'Spherocyte': 8,\n",
    "        'Overlap': 9\n",
    "    }"
   ]
  },
  {
   "cell_type": "code",
   "execution_count": 10,
   "metadata": {
    "collapsed": false
   },
   "outputs": [],
   "source": [
    "wrong_pk = z[(f_pred(X.astype('float32')).argmax(1) != y)]\n",
    "wrong_label = p.argmax(1)[(f_pred(X.astype('float32')).argmax(1) != y)]\n",
    "right_label = y[(f_pred(X.astype('float32')).argmax(1) != y)]"
   ]
  },
  {
   "cell_type": "code",
   "execution_count": 11,
   "metadata": {
    "collapsed": false
   },
   "outputs": [],
   "source": [
    "x = None\n",
    "y= None\n",
    "z = None\n",
    "with open('wrong_cells.csv', 'w') as myfile:\n",
    "    writer = csv.writer(myfile, dialect='excel')\n",
    "    writer.writerow([\"correct_x\", \"predicted_y\", \"pk_value\"])\n",
    "    wr = [x, y, z]\n",
    "    for each in zip(right_label, wrong_label, wrong_pk):\n",
    "        writer.writerow(each)\n"
   ]
  }
 ],
 "metadata": {
  "kernelspec": {
   "display_name": "Python 2",
   "language": "python",
   "name": "python2"
  },
  "language_info": {
   "codemirror_mode": {
    "name": "ipython",
    "version": 2
   },
   "file_extension": ".py",
   "mimetype": "text/x-python",
   "name": "python",
   "nbconvert_exporter": "python",
   "pygments_lexer": "ipython2",
   "version": "2.7.6"
  }
 },
 "nbformat": 4,
 "nbformat_minor": 0
}
